{
 "cells": [
  {
   "cell_type": "code",
   "execution_count": 1,
   "id": "a15af801-9d20-4287-a46a-02bc32e0a7ad",
   "metadata": {},
   "outputs": [],
   "source": [
    "%load_ext autoreload\n",
    "%autoreload 2\n",
    "\n",
    "from bs4 import BeautifulSoup as bs\n",
    "from lxml import etree\n",
    "from glob import glob\n",
    "from tqdm import tqdm\n",
    "import pandas as pd\n",
    "import time\n",
    "import os\n",
    "import re\n",
    "\n",
    "warnings.filterwarnings('ignore')\n",
    "pd.set_option('display.max_colwidth', 1000)\n",
    "pd.set_option('display.max_rows', 1000)\n",
    "pd.set_option('display.max_columns', 1000)\n",
    "\n",
    "## Load my existing web scraping methods\n",
    "from web_scraping import activate_chrome_selenium_latest"
   ]
  },
  {
   "cell_type": "markdown",
   "id": "d65b05fa-874b-41f8-853b-326421553202",
   "metadata": {},
   "source": [
    "#### Test creation of Amazon book urls for web scraping \n",
    "In some of my larger projects, I will create a separate set of pytest unit testing scripts. But for small project like this, where I don't expect myself to change my functions as much, I usually just keep some of my testings within my notebooks."
   ]
  },
  {
   "cell_type": "code",
   "execution_count": 2,
   "id": "edc94029-34fa-4b14-bfe6-aba034762383",
   "metadata": {},
   "outputs": [],
   "source": [
    "def title_to_url_suffix(book_title: str):\n",
    "    \"\"\" Converting normal title text into url suffix \"\"\"\n",
    "    return re.sub(r\"[!,*)@#%(&$_?.^'-]\", '', book_title).lower().replace(\" \", \"+\")"
   ]
  },
  {
   "cell_type": "code",
   "execution_count": 3,
   "id": "99a384df-1e78-4385-a0fe-256c8cfc9630",
   "metadata": {},
   "outputs": [
    {
     "data": {
      "text/plain": [
       "'be+so+good+they+cant+ignore+you'"
      ]
     },
     "execution_count": 3,
     "metadata": {},
     "output_type": "execute_result"
    }
   ],
   "source": [
    "title_to_url_suffix(\"Be So Good They Cant Ignore You\")"
   ]
  },
  {
   "cell_type": "code",
   "execution_count": 4,
   "id": "d4d0a343-a234-4309-b4c3-3ec303b99fc7",
   "metadata": {},
   "outputs": [
    {
     "data": {
      "text/plain": [
       "'be+so+good+they+cant+ignore+you'"
      ]
     },
     "execution_count": 4,
     "metadata": {},
     "output_type": "execute_result"
    }
   ],
   "source": [
    "title_to_url_suffix(\"Be So Good They Can't Ignore You\")"
   ]
  },
  {
   "cell_type": "code",
   "execution_count": 5,
   "id": "978ca081-5e70-4663-a3cf-b7908de59a14",
   "metadata": {},
   "outputs": [],
   "source": [
    "def title_to_full_url(\n",
    "    title: str, \n",
    "    base_url: str='https://www.amazon.sg/'):\n",
    "    \n",
    "    \"\"\" Create the actual Amazon url link for web scraping \"\"\"\n",
    "    \n",
    "    query = \"s?k=\" + title_to_url_suffix(title)\n",
    "    return base_url + query"
   ]
  },
  {
   "cell_type": "code",
   "execution_count": 6,
   "id": "afaebfc9-04e9-4d2f-9118-7e329d340cfb",
   "metadata": {},
   "outputs": [
    {
     "data": {
      "text/plain": [
       "'https://www.amazon.sg/s?k=obstacle+is+the+way'"
      ]
     },
     "execution_count": 6,
     "metadata": {},
     "output_type": "execute_result"
    }
   ],
   "source": [
    "title_to_full_url('obstacle is the way')"
   ]
  },
  {
   "cell_type": "code",
   "execution_count": 7,
   "id": "ff4a0b5d-e49c-4030-8ec6-959983037b60",
   "metadata": {},
   "outputs": [
    {
     "data": {
      "text/plain": [
       "'https://www.amazon.sg/s?k=be+so+good+they+cant+ignore+you'"
      ]
     },
     "execution_count": 7,
     "metadata": {},
     "output_type": "execute_result"
    }
   ],
   "source": [
    "title_to_full_url(\"Be So Good They Cant Ignore You\")"
   ]
  },
  {
   "cell_type": "code",
   "execution_count": 8,
   "id": "0bcc6b52-bd4c-4d38-afd8-f2b84fbf719f",
   "metadata": {},
   "outputs": [
    {
     "data": {
      "text/plain": [
       "'https://www.amazon.sg/s?k=be+so+good+they+cant+ignore+you'"
      ]
     },
     "execution_count": 8,
     "metadata": {},
     "output_type": "execute_result"
    }
   ],
   "source": [
    "title_to_full_url(\"Be So Good They Can't Ignore You\")"
   ]
  },
  {
   "cell_type": "markdown",
   "id": "b6475228-3196-4b76-9ec6-e8ca3c2fefd1",
   "metadata": {},
   "source": [
    "### Loading Book Lists \n",
    "These are the list `\"cleaned\"` of books that I have noted down. Cleaned, in a sense that I actually had some back and forth checking what were the outputs of my scraper, and going back to my list to modify my book list. So, what is shown here is the final state. This is my master list of book title inputs that I want to scrape from Amazon."
   ]
  },
  {
   "cell_type": "code",
   "execution_count": 9,
   "id": "2b9c4db6-8cc3-44c4-879b-e18489fd8d4f",
   "metadata": {},
   "outputs": [
    {
     "data": {
      "text/plain": [
       "234"
      ]
     },
     "execution_count": 9,
     "metadata": {},
     "output_type": "execute_result"
    }
   ],
   "source": [
    "full_book_list = open('book_list_clean.md', 'r').readlines()\n",
    "full_book_list = [title.replace('\\n', '') for title in full_book_list]\n",
    "len(full_book_list)"
   ]
  },
  {
   "cell_type": "markdown",
   "id": "accea6f2-d098-4f1e-8c98-7c9b12939407",
   "metadata": {},
   "source": [
    "### The scraping\n",
    "- I am executing a headless Selenium scraper here using a simple scraper method that I commonly use for my side projects. I purposely added a few time.sleep() to slow down my scraper. I could have use Selenium specific methods to do this, but time.sleep() was just easier to implement.\n",
    "- In case my scraper breaks due to some unexpected behaviour from Amazon, I decided to break my scraper up into different components, so I could fix the specific chunks of title if they had issues, rather than having to re-run my entire scraper. I iteratively save enough chunk of scraped data as local csv files, which I later read and combine into a single dataframe for further processing / analysis. Not the most production ready set up, but sufficient for a quick POC.\n",
    "- Also, I could have considered using multi-threading to make my scraper more efficient, but I usually don't go that route because I don't want to get blocked by the site for bot behaviour. In fact, the time.sleep() were included to reduce the chances of Amazon detecting me as a bot and blocking my scraper.\n",
    "- Used tqdm to trace the progress of my `for`-loops."
   ]
  },
  {
   "cell_type": "code",
   "execution_count": 12,
   "id": "3e39b70a-e159-4c83-9d12-30af53bf9759",
   "metadata": {},
   "outputs": [
    {
     "name": "stderr",
     "output_type": "stream",
     "text": [
      "  0%|                                                                                      | 0/31 [00:00<?, ?it/s]\n",
      "\n",
      "====== WebDriver manager ======\n",
      "Current google-chrome version is 104.0.5112\n",
      "Get LATEST chromedriver version for 104.0.5112 google-chrome\n",
      "Driver [/Users/cliff/.wdm/drivers/chromedriver/mac64/104.0.5112.79/chromedriver] found in cache\n",
      "  3%|██▌                                                                           | 1/31 [00:31<15:55, 31.86s/it]\n",
      "\n",
      "====== WebDriver manager ======\n",
      "Current google-chrome version is 104.0.5112\n",
      "Get LATEST chromedriver version for 104.0.5112 google-chrome\n",
      "Driver [/Users/cliff/.wdm/drivers/chromedriver/mac64/104.0.5112.79/chromedriver] found in cache\n",
      "  6%|█████                                                                         | 2/31 [01:03<15:27, 31.99s/it]\n",
      "\n",
      "====== WebDriver manager ======\n",
      "Current google-chrome version is 104.0.5112\n",
      "Get LATEST chromedriver version for 104.0.5112 google-chrome\n",
      "Driver [/Users/cliff/.wdm/drivers/chromedriver/mac64/104.0.5112.79/chromedriver] found in cache\n",
      " 10%|███████▌                                                                      | 3/31 [01:34<14:38, 31.36s/it]\n",
      "\n",
      "====== WebDriver manager ======\n",
      "Current google-chrome version is 104.0.5112\n",
      "Get LATEST chromedriver version for 104.0.5112 google-chrome\n",
      "Driver [/Users/cliff/.wdm/drivers/chromedriver/mac64/104.0.5112.79/chromedriver] found in cache\n",
      " 13%|██████████                                                                    | 4/31 [02:03<13:44, 30.52s/it]\n",
      "\n",
      "====== WebDriver manager ======\n",
      "Current google-chrome version is 104.0.5112\n",
      "Get LATEST chromedriver version for 104.0.5112 google-chrome\n",
      "Driver [/Users/cliff/.wdm/drivers/chromedriver/mac64/104.0.5112.79/chromedriver] found in cache\n",
      " 16%|████████████▌                                                                 | 5/31 [02:35<13:26, 31.03s/it]\n",
      "\n",
      "====== WebDriver manager ======\n",
      "Current google-chrome version is 104.0.5112\n",
      "Get LATEST chromedriver version for 104.0.5112 google-chrome\n",
      "Driver [/Users/cliff/.wdm/drivers/chromedriver/mac64/104.0.5112.79/chromedriver] found in cache\n",
      " 19%|███████████████                                                               | 6/31 [03:05<12:41, 30.46s/it]\n",
      "\n",
      "====== WebDriver manager ======\n",
      "Current google-chrome version is 104.0.5112\n",
      "Get LATEST chromedriver version for 104.0.5112 google-chrome\n",
      "Driver [/Users/cliff/.wdm/drivers/chromedriver/mac64/104.0.5112.79/chromedriver] found in cache\n",
      " 23%|█████████████████▌                                                            | 7/31 [03:35<12:06, 30.29s/it]\n",
      "\n",
      "====== WebDriver manager ======\n",
      "Current google-chrome version is 104.0.5112\n",
      "Get LATEST chromedriver version for 104.0.5112 google-chrome\n",
      "Driver [/Users/cliff/.wdm/drivers/chromedriver/mac64/104.0.5112.79/chromedriver] found in cache\n",
      " 26%|████████████████████▏                                                         | 8/31 [04:02<11:16, 29.43s/it]\n",
      "\n",
      "====== WebDriver manager ======\n",
      "Current google-chrome version is 104.0.5112\n",
      "Get LATEST chromedriver version for 104.0.5112 google-chrome\n",
      "Driver [/Users/cliff/.wdm/drivers/chromedriver/mac64/104.0.5112.79/chromedriver] found in cache\n",
      " 29%|██████████████████████▋                                                       | 9/31 [04:26<10:10, 27.76s/it]\n",
      "\n",
      "====== WebDriver manager ======\n",
      "Current google-chrome version is 104.0.5112\n",
      "Get LATEST chromedriver version for 104.0.5112 google-chrome\n",
      "Driver [/Users/cliff/.wdm/drivers/chromedriver/mac64/104.0.5112.79/chromedriver] found in cache\n",
      " 32%|████████████████████████▊                                                    | 10/31 [04:52<09:28, 27.09s/it]\n",
      "\n",
      "====== WebDriver manager ======\n",
      "Current google-chrome version is 104.0.5112\n",
      "Get LATEST chromedriver version for 104.0.5112 google-chrome\n",
      "Driver [/Users/cliff/.wdm/drivers/chromedriver/mac64/104.0.5112.79/chromedriver] found in cache\n",
      " 35%|███████████████████████████▎                                                 | 11/31 [05:20<09:06, 27.34s/it]\n",
      "\n",
      "====== WebDriver manager ======\n",
      "Current google-chrome version is 104.0.5112\n",
      "Get LATEST chromedriver version for 104.0.5112 google-chrome\n",
      "Driver [/Users/cliff/.wdm/drivers/chromedriver/mac64/104.0.5112.79/chromedriver] found in cache\n",
      " 39%|█████████████████████████████▊                                               | 12/31 [05:51<09:00, 28.44s/it]\n",
      "\n",
      "====== WebDriver manager ======\n",
      "Current google-chrome version is 104.0.5112\n",
      "Get LATEST chromedriver version for 104.0.5112 google-chrome\n",
      "Driver [/Users/cliff/.wdm/drivers/chromedriver/mac64/104.0.5112.79/chromedriver] found in cache\n",
      " 42%|████████████████████████████████▎                                            | 13/31 [06:20<08:37, 28.77s/it]\n",
      "\n",
      "====== WebDriver manager ======\n",
      "Current google-chrome version is 104.0.5112\n",
      "Get LATEST chromedriver version for 104.0.5112 google-chrome\n",
      "Driver [/Users/cliff/.wdm/drivers/chromedriver/mac64/104.0.5112.79/chromedriver] found in cache\n",
      " 45%|██████████████████████████████████▊                                          | 14/31 [06:46<07:51, 27.74s/it]\n",
      "\n",
      "====== WebDriver manager ======\n",
      "Current google-chrome version is 104.0.5112\n",
      "Get LATEST chromedriver version for 104.0.5112 google-chrome\n",
      "Driver [/Users/cliff/.wdm/drivers/chromedriver/mac64/104.0.5112.79/chromedriver] found in cache\n",
      " 48%|█████████████████████████████████████▎                                       | 15/31 [07:20<07:56, 29.78s/it]\n",
      "\n",
      "====== WebDriver manager ======\n",
      "Current google-chrome version is 104.0.5112\n",
      "Get LATEST chromedriver version for 104.0.5112 google-chrome\n",
      "Driver [/Users/cliff/.wdm/drivers/chromedriver/mac64/104.0.5112.79/chromedriver] found in cache\n",
      " 52%|███████████████████████████████████████▋                                     | 16/31 [07:51<07:32, 30.16s/it]\n",
      "\n",
      "====== WebDriver manager ======\n",
      "Current google-chrome version is 104.0.5112\n",
      "Get LATEST chromedriver version for 104.0.5112 google-chrome\n",
      "Driver [/Users/cliff/.wdm/drivers/chromedriver/mac64/104.0.5112.79/chromedriver] found in cache\n",
      " 55%|██████████████████████████████████████████▏                                  | 17/31 [08:25<07:16, 31.15s/it]\n",
      "\n",
      "====== WebDriver manager ======\n",
      "Current google-chrome version is 104.0.5112\n",
      "Get LATEST chromedriver version for 104.0.5112 google-chrome\n",
      "Driver [/Users/cliff/.wdm/drivers/chromedriver/mac64/104.0.5112.79/chromedriver] found in cache\n",
      " 58%|████████████████████████████████████████████▋                                | 18/31 [08:53<06:34, 30.38s/it]\n",
      "\n",
      "====== WebDriver manager ======\n",
      "Current google-chrome version is 104.0.5112\n",
      "Get LATEST chromedriver version for 104.0.5112 google-chrome\n",
      "Driver [/Users/cliff/.wdm/drivers/chromedriver/mac64/104.0.5112.79/chromedriver] found in cache\n",
      " 61%|███████████████████████████████████████████████▏                             | 19/31 [09:24<06:05, 30.48s/it]\n",
      "\n",
      "====== WebDriver manager ======\n",
      "Current google-chrome version is 104.0.5112\n",
      "Get LATEST chromedriver version for 104.0.5112 google-chrome\n",
      "Driver [/Users/cliff/.wdm/drivers/chromedriver/mac64/104.0.5112.79/chromedriver] found in cache\n",
      " 65%|█████████████████████████████████████████████████▋                           | 20/31 [09:51<05:24, 29.52s/it]\n",
      "\n",
      "====== WebDriver manager ======\n",
      "Current google-chrome version is 104.0.5112\n",
      "Get LATEST chromedriver version for 104.0.5112 google-chrome\n",
      "Driver [/Users/cliff/.wdm/drivers/chromedriver/mac64/104.0.5112.79/chromedriver] found in cache\n",
      " 68%|████████████████████████████████████████████████████▏                        | 21/31 [10:17<04:45, 28.56s/it]\n",
      "\n",
      "====== WebDriver manager ======\n",
      "Current google-chrome version is 104.0.5112\n",
      "Get LATEST chromedriver version for 104.0.5112 google-chrome\n",
      "Driver [/Users/cliff/.wdm/drivers/chromedriver/mac64/104.0.5112.79/chromedriver] found in cache\n",
      " 71%|██████████████████████████████████████████████████████▋                      | 22/31 [10:42<04:05, 27.25s/it]\n",
      "\n",
      "====== WebDriver manager ======\n",
      "Current google-chrome version is 104.0.5112\n",
      "Get LATEST chromedriver version for 104.0.5112 google-chrome\n",
      "Driver [/Users/cliff/.wdm/drivers/chromedriver/mac64/104.0.5112.79/chromedriver] found in cache\n",
      " 74%|█████████████████████████████████████████████████████████▏                   | 23/31 [11:08<03:36, 27.04s/it]\n",
      "\n",
      "====== WebDriver manager ======\n",
      "Current google-chrome version is 104.0.5112\n",
      "Get LATEST chromedriver version for 104.0.5112 google-chrome\n",
      "Driver [/Users/cliff/.wdm/drivers/chromedriver/mac64/104.0.5112.79/chromedriver] found in cache\n",
      " 77%|███████████████████████████████████████████████████████████▌                 | 24/31 [11:33<03:03, 26.24s/it]\n",
      "\n",
      "====== WebDriver manager ======\n",
      "Current google-chrome version is 104.0.5112\n",
      "Get LATEST chromedriver version for 104.0.5112 google-chrome\n",
      "Driver [/Users/cliff/.wdm/drivers/chromedriver/mac64/104.0.5112.79/chromedriver] found in cache\n",
      " 81%|██████████████████████████████████████████████████████████████               | 25/31 [11:59<02:38, 26.37s/it]\n",
      "\n",
      "====== WebDriver manager ======\n",
      "Current google-chrome version is 104.0.5112\n",
      "Get LATEST chromedriver version for 104.0.5112 google-chrome\n",
      "Driver [/Users/cliff/.wdm/drivers/chromedriver/mac64/104.0.5112.79/chromedriver] found in cache\n",
      " 84%|████████████████████████████████████████████████████████████████▌            | 26/31 [12:25<02:10, 26.10s/it]\n",
      "\n",
      "====== WebDriver manager ======\n",
      "Current google-chrome version is 104.0.5112\n",
      "Get LATEST chromedriver version for 104.0.5112 google-chrome\n",
      "Driver [/Users/cliff/.wdm/drivers/chromedriver/mac64/104.0.5112.79/chromedriver] found in cache\n",
      " 87%|███████████████████████████████████████████████████████████████████          | 27/31 [12:47<01:39, 24.98s/it]\n",
      "\n",
      "====== WebDriver manager ======\n",
      "Current google-chrome version is 104.0.5112\n",
      "Get LATEST chromedriver version for 104.0.5112 google-chrome\n",
      "Driver [/Users/cliff/.wdm/drivers/chromedriver/mac64/104.0.5112.79/chromedriver] found in cache\n",
      " 90%|█████████████████████████████████████████████████████████████████████▌       | 28/31 [12:48<00:53, 17.84s/it]\n",
      "\n",
      "====== WebDriver manager ======\n",
      "Current google-chrome version is 104.0.5112\n",
      "Get LATEST chromedriver version for 104.0.5112 google-chrome\n",
      "Driver [/Users/cliff/.wdm/drivers/chromedriver/mac64/104.0.5112.79/chromedriver] found in cache\n",
      " 94%|████████████████████████████████████████████████████████████████████████     | 29/31 [12:49<00:25, 12.83s/it]\n",
      "\n",
      "====== WebDriver manager ======\n",
      "Current google-chrome version is 104.0.5112\n",
      "Get LATEST chromedriver version for 104.0.5112 google-chrome\n",
      "Driver [/Users/cliff/.wdm/drivers/chromedriver/mac64/104.0.5112.79/chromedriver] found in cache\n",
      " 97%|██████████████████████████████████████████████████████████████████████████▌  | 30/31 [12:51<00:09,  9.36s/it]\n",
      "\n",
      "====== WebDriver manager ======\n",
      "Current google-chrome version is 104.0.5112\n",
      "Get LATEST chromedriver version for 104.0.5112 google-chrome\n",
      "Driver [/Users/cliff/.wdm/drivers/chromedriver/mac64/104.0.5112.79/chromedriver] found in cache\n",
      "100%|█████████████████████████████████████████████████████████████████████████████| 31/31 [12:52<00:00, 24.91s/it]\n"
     ]
    }
   ],
   "source": [
    "# for i in tqdm(range(0,250,5)):\n",
    "# for i in tqdm(range(0,10,5)):\n",
    "for i in tqdm(range(100,255,5)):\n",
    "    try:\n",
    "        book_lists = full_book_list[i:i+5]\n",
    "        title_dict = dict()\n",
    "        browser = activate_chrome_selenium_latest(have_pic=False, is_headless=True)\n",
    "        \n",
    "        for title in book_lists:\n",
    "            url_query = title_to_full_url(title)            \n",
    "            browser.get(url_query)\n",
    "            soup = bs(browser.page_source, 'html5lib')\n",
    "\n",
    "            first_price = soup.find(class_ = 'a-offscreen').text\n",
    "            final_first_price = float(first_price.replace('S$', ''))\n",
    "            scrapped_title = soup.find('h2', 'a-size-mini a-spacing-none a-color-base s-line-clamp-4').text.strip()\n",
    "            title_dict[scrapped_title] = final_first_price\n",
    "            time.sleep(2)\n",
    "\n",
    "        ## Saving files locally\n",
    "        title_prices = pd.DataFrame.from_dict(title_dict, orient='index').reset_index()\n",
    "        title_prices['title'] = book_lists\n",
    "        title_prices.columns = ['scraped_title', 'price', 'given_title']\n",
    "        title_prices[['given_title', 'scraped_title', 'price']].to_csv(f\"book_list_{i}_v2.csv\", index=False)\n",
    "\n",
    "        browser.close()\n",
    "        time.sleep(2)\n",
    "    except:\n",
    "        browser.close()\n",
    "        pass"
   ]
  },
  {
   "cell_type": "markdown",
   "id": "e73979a7-9fc8-4e68-a4a9-66eaa3848b38",
   "metadata": {},
   "source": [
    "### Check locally saved files"
   ]
  },
  {
   "cell_type": "code",
   "execution_count": 14,
   "id": "61611503-0737-4e4a-ada6-d864754593d2",
   "metadata": {},
   "outputs": [
    {
     "data": {
      "text/plain": [
       "48"
      ]
     },
     "execution_count": 14,
     "metadata": {},
     "output_type": "execute_result"
    }
   ],
   "source": [
    "saved_book_list = glob(\"book_list*_v2.csv\")\n",
    "len(saved_book_list)"
   ]
  },
  {
   "cell_type": "markdown",
   "id": "cef929a5-2c28-4d27-a560-580bcd11a0e4",
   "metadata": {},
   "source": [
    "#### Quick fix\n",
    "I had a few versions of information that I scraped, and I stuck to loading version 2. Some hotfix was required to load and clean up the data that I want to use. I guess almost everything in a side project can be deemed as a hotfix."
   ]
  },
  {
   "cell_type": "code",
   "execution_count": 15,
   "id": "ce193c4a-579c-498a-b624-d626814c0da2",
   "metadata": {},
   "outputs": [],
   "source": [
    "df = pd.DataFrame()\n",
    "for file in saved_book_list:\n",
    "    tmp_table = pd.read_csv(file)\n",
    "    tmp_table['i'] = file.replace('_v2', '').split(\"_\")[-1].split('.')[0]\n",
    "    df = df.append(tmp_table)\n",
    "df.reset_index(drop=True, inplace=True)"
   ]
  },
  {
   "cell_type": "code",
   "execution_count": 16,
   "id": "ef87cb3c-25fe-4779-ba9f-7bdd50b9d587",
   "metadata": {},
   "outputs": [
    {
     "data": {
      "text/plain": [
       "(237, 4)"
      ]
     },
     "execution_count": 16,
     "metadata": {},
     "output_type": "execute_result"
    }
   ],
   "source": [
    "df.shape"
   ]
  },
  {
   "cell_type": "code",
   "execution_count": 17,
   "id": "0f4b6257-22ee-4e3f-86ba-221239e5bcb0",
   "metadata": {},
   "outputs": [
    {
     "data": {
      "text/html": [
       "<div>\n",
       "<style scoped>\n",
       "    .dataframe tbody tr th:only-of-type {\n",
       "        vertical-align: middle;\n",
       "    }\n",
       "\n",
       "    .dataframe tbody tr th {\n",
       "        vertical-align: top;\n",
       "    }\n",
       "\n",
       "    .dataframe thead th {\n",
       "        text-align: right;\n",
       "    }\n",
       "</style>\n",
       "<table border=\"1\" class=\"dataframe\">\n",
       "  <thead>\n",
       "    <tr style=\"text-align: right;\">\n",
       "      <th></th>\n",
       "      <th>given_title</th>\n",
       "      <th>scraped_title</th>\n",
       "      <th>price</th>\n",
       "      <th>i</th>\n",
       "    </tr>\n",
       "  </thead>\n",
       "  <tbody>\n",
       "    <tr>\n",
       "      <th>0</th>\n",
       "      <td>Seven steps to train your mind</td>\n",
       "      <td>Seven Steps to Train Your Mind</td>\n",
       "      <td>56.74</td>\n",
       "      <td>125</td>\n",
       "    </tr>\n",
       "    <tr>\n",
       "      <th>1</th>\n",
       "      <td>The Obstacle Is The Way</td>\n",
       "      <td>The Obstacle Is the Way: The Timeless Art of Turning Trials into Triumph</td>\n",
       "      <td>23.54</td>\n",
       "      <td>125</td>\n",
       "    </tr>\n",
       "    <tr>\n",
       "      <th>2</th>\n",
       "      <td>Growth Hacker Marketing</td>\n",
       "      <td>Growth Hacker Marketing: A Primer on the Future of PR, Marketing, and Advertising</td>\n",
       "      <td>19.48</td>\n",
       "      <td>125</td>\n",
       "    </tr>\n",
       "    <tr>\n",
       "      <th>3</th>\n",
       "      <td>Trust Me, I’m Lying: Confession of a Media Manipulator</td>\n",
       "      <td>Trust Me, I'm Lying: Confessions of a Media Manipulator</td>\n",
       "      <td>22.89</td>\n",
       "      <td>125</td>\n",
       "    </tr>\n",
       "    <tr>\n",
       "      <th>4</th>\n",
       "      <td>Making Habits, Breaking Habits</td>\n",
       "      <td>Making Habits, Breaking Habits: Why We Do Things, Why We Don't, and How to Make Any Change Stick</td>\n",
       "      <td>27.18</td>\n",
       "      <td>125</td>\n",
       "    </tr>\n",
       "  </tbody>\n",
       "</table>\n",
       "</div>"
      ],
      "text/plain": [
       "                                              given_title  \\\n",
       "0                          Seven steps to train your mind   \n",
       "1                                 The Obstacle Is The Way   \n",
       "2                                 Growth Hacker Marketing   \n",
       "3  Trust Me, I’m Lying: Confession of a Media Manipulator   \n",
       "4                          Making Habits, Breaking Habits   \n",
       "\n",
       "                                                                                      scraped_title  \\\n",
       "0                                                                    Seven Steps to Train Your Mind   \n",
       "1                          The Obstacle Is the Way: The Timeless Art of Turning Trials into Triumph   \n",
       "2                 Growth Hacker Marketing: A Primer on the Future of PR, Marketing, and Advertising   \n",
       "3                                           Trust Me, I'm Lying: Confessions of a Media Manipulator   \n",
       "4  Making Habits, Breaking Habits: Why We Do Things, Why We Don't, and How to Make Any Change Stick   \n",
       "\n",
       "   price    i  \n",
       "0  56.74  125  \n",
       "1  23.54  125  \n",
       "2  19.48  125  \n",
       "3  22.89  125  \n",
       "4  27.18  125  "
      ]
     },
     "execution_count": 17,
     "metadata": {},
     "output_type": "execute_result"
    }
   ],
   "source": [
    "df.head()"
   ]
  },
  {
   "cell_type": "markdown",
   "id": "0293fc8a-05a6-4e50-b352-bb7eb80cd395",
   "metadata": {},
   "source": [
    "### Checking quality of scraping by comparing title input and tile scraped\n",
    "Web scraping is a pain, and I do it far too often for my liking. Things change and break more often. Here, I wanted to have way to compare the titles that I was looking for against the titles that I captured. Used spacy (my preferred python NLP package) to do a text similarity check. \n",
    "\n",
    "**Note**: Not advisable to import packages halfway through your code. This is a no-no in a collaborative setting, as someone else looking at your code may not realise your script needs other packages. For this side project (and for the sake of showing this), I am ok to let my future self scold the past of me."
   ]
  },
  {
   "cell_type": "code",
   "execution_count": null,
   "id": "ae3c374b-984b-44b7-8ed8-ed53f618ef26",
   "metadata": {},
   "outputs": [],
   "source": [
    "# !python -m spacy download en"
   ]
  },
  {
   "cell_type": "code",
   "execution_count": 19,
   "id": "3d452bd7-3338-4ad6-b852-407465577617",
   "metadata": {},
   "outputs": [],
   "source": [
    "import spacy\n",
    "import en_core_web_sm\n",
    "nlp = en_core_web_sm.load()"
   ]
  },
  {
   "cell_type": "code",
   "execution_count": 27,
   "id": "c192cf43-bc53-43e1-ae96-0df1239b965f",
   "metadata": {},
   "outputs": [],
   "source": [
    "df['title_check'] = [nlp(i).similarity(nlp(j)) for i,j in zip(df.given_title, df.scraped_title)]\n",
    "to_check = df[df['title_check'] < .7].groupby('i')['title_check'].count().reset_index()\n",
    "to_check['i'] = to_check['i'].astype(int)\n",
    "# to_check.sort_values('i').reset_index(drop=True)"
   ]
  },
  {
   "cell_type": "markdown",
   "id": "d61edb5c-cb4e-453f-89be-ffbe7a98d54a",
   "metadata": {},
   "source": [
    "There is no quick way to do this other than thinking of a relatively reasonable cut off , and eye-balling the data from there. Human ingenuity still triumphs in many ways."
   ]
  },
  {
   "cell_type": "code",
   "execution_count": 23,
   "id": "405c9e25-3546-46bf-bcbb-e2a5a72d667b",
   "metadata": {},
   "outputs": [
    {
     "data": {
      "text/html": [
       "<div>\n",
       "<style scoped>\n",
       "    .dataframe tbody tr th:only-of-type {\n",
       "        vertical-align: middle;\n",
       "    }\n",
       "\n",
       "    .dataframe tbody tr th {\n",
       "        vertical-align: top;\n",
       "    }\n",
       "\n",
       "    .dataframe thead th {\n",
       "        text-align: right;\n",
       "    }\n",
       "</style>\n",
       "<table border=\"1\" class=\"dataframe\">\n",
       "  <thead>\n",
       "    <tr style=\"text-align: right;\">\n",
       "      <th></th>\n",
       "      <th>given_title</th>\n",
       "      <th>scraped_title</th>\n",
       "      <th>price</th>\n",
       "      <th>i</th>\n",
       "      <th>title_check</th>\n",
       "    </tr>\n",
       "  </thead>\n",
       "  <tbody>\n",
       "    <tr>\n",
       "      <th>62</th>\n",
       "      <td>Peddling Prosperity</td>\n",
       "      <td>Peddling Prosperity: Economic Sense and Nonsense in an Age of Diminished Expectations</td>\n",
       "      <td>26.57</td>\n",
       "      <td>0</td>\n",
       "      <td>0.510644</td>\n",
       "    </tr>\n",
       "    <tr>\n",
       "      <th>61</th>\n",
       "      <td>hoodwinked: an economic hit man reveals</td>\n",
       "      <td>Hoodwinked: An Economic Hit Man Reveals Why the Global Economy IMPLODED -- and How to Fix It</td>\n",
       "      <td>25.36</td>\n",
       "      <td>0</td>\n",
       "      <td>0.488833</td>\n",
       "    </tr>\n",
       "    <tr>\n",
       "      <th>172</th>\n",
       "      <td>Tipping Point</td>\n",
       "      <td>The Tipping Point: How Little Things Can Make a Big Difference</td>\n",
       "      <td>24.74</td>\n",
       "      <td>5</td>\n",
       "      <td>0.457422</td>\n",
       "    </tr>\n",
       "    <tr>\n",
       "      <th>173</th>\n",
       "      <td>Blink the power of thinking without thinking</td>\n",
       "      <td>Blink: The Power of Thinking Without Thinking</td>\n",
       "      <td>21.53</td>\n",
       "      <td>5</td>\n",
       "      <td>0.635436</td>\n",
       "    </tr>\n",
       "    <tr>\n",
       "      <th>174</th>\n",
       "      <td>Outliers</td>\n",
       "      <td>Outliers: The Story of Success</td>\n",
       "      <td>23.11</td>\n",
       "      <td>5</td>\n",
       "      <td>0.362800</td>\n",
       "    </tr>\n",
       "    <tr>\n",
       "      <th>176</th>\n",
       "      <td>The fabric of the cosmos</td>\n",
       "      <td>The Fabric of the Cosmos: Space, Time, and the Texture of Reality</td>\n",
       "      <td>27.37</td>\n",
       "      <td>5</td>\n",
       "      <td>0.536864</td>\n",
       "    </tr>\n",
       "    <tr>\n",
       "      <th>198</th>\n",
       "      <td>the misbehavior of markets</td>\n",
       "      <td>The Misbehavior of Markets: A Fractal View of Financial Turbulence</td>\n",
       "      <td>30.39</td>\n",
       "      <td>10</td>\n",
       "      <td>0.512096</td>\n",
       "    </tr>\n",
       "    <tr>\n",
       "      <th>28</th>\n",
       "      <td>The Paradox of Choice</td>\n",
       "      <td>The Paradox of Choice: Why More Is Less, Revised Edition</td>\n",
       "      <td>19.48</td>\n",
       "      <td>15</td>\n",
       "      <td>0.611815</td>\n",
       "    </tr>\n",
       "    <tr>\n",
       "      <th>26</th>\n",
       "      <td>Predictive irrational</td>\n",
       "      <td>Predictably Irrational, Revised and Expanded Edition: The Hidden Forces That Shape Our Decisions</td>\n",
       "      <td>24.18</td>\n",
       "      <td>15</td>\n",
       "      <td>0.207592</td>\n",
       "    </tr>\n",
       "    <tr>\n",
       "      <th>123</th>\n",
       "      <td>Super Crunchers</td>\n",
       "      <td>Super Crunchers: Why Thinking-By-Numbers is the New Way To Be Smart</td>\n",
       "      <td>24.43</td>\n",
       "      <td>20</td>\n",
       "      <td>0.613925</td>\n",
       "    </tr>\n",
       "    <tr>\n",
       "      <th>122</th>\n",
       "      <td>Ubiquity the science of history</td>\n",
       "      <td>Ubiquity: The Science of History . . . or Why the World Is Simpler Than We Think</td>\n",
       "      <td>25.10</td>\n",
       "      <td>20</td>\n",
       "      <td>0.347194</td>\n",
       "    </tr>\n",
       "    <tr>\n",
       "      <th>125</th>\n",
       "      <td>Fortune’s Formula</td>\n",
       "      <td>Fortune's Formula: The Untold Story of the Scientific Betting System That Beat the Casinos and Wall Street</td>\n",
       "      <td>26.21</td>\n",
       "      <td>20</td>\n",
       "      <td>0.541176</td>\n",
       "    </tr>\n",
       "    <tr>\n",
       "      <th>163</th>\n",
       "      <td>How Pleasure Works</td>\n",
       "      <td>How Pleasure Works: The New Science of Why We Like What We Like</td>\n",
       "      <td>32.96</td>\n",
       "      <td>30</td>\n",
       "      <td>0.671035</td>\n",
       "    </tr>\n",
       "    <tr>\n",
       "      <th>164</th>\n",
       "      <td>the social animal david brooks</td>\n",
       "      <td>The Social Animal: The Hidden Sources of Love, Character, and Achievement</td>\n",
       "      <td>24.29</td>\n",
       "      <td>30</td>\n",
       "      <td>0.555734</td>\n",
       "    </tr>\n",
       "    <tr>\n",
       "      <th>74</th>\n",
       "      <td>The Signal and the Noise</td>\n",
       "      <td>The Signal and the Noise: Why So Many Predictions Fail--but Some Don't</td>\n",
       "      <td>24.79</td>\n",
       "      <td>35</td>\n",
       "      <td>0.657917</td>\n",
       "    </tr>\n",
       "    <tr>\n",
       "      <th>73</th>\n",
       "      <td>The (Honest) Truth About Dishonesty</td>\n",
       "      <td>The Honest Truth About Dishonesty: How We Lie to Everyone--Especially Ourselves</td>\n",
       "      <td>24.18</td>\n",
       "      <td>35</td>\n",
       "      <td>0.591165</td>\n",
       "    </tr>\n",
       "    <tr>\n",
       "      <th>35</th>\n",
       "      <td>Rebel Buddha</td>\n",
       "      <td>Rebel Buddha: A Guide to a Revolution of Mind</td>\n",
       "      <td>23.76</td>\n",
       "      <td>40</td>\n",
       "      <td>0.533839</td>\n",
       "    </tr>\n",
       "    <tr>\n",
       "      <th>36</th>\n",
       "      <td>Peace is every Breath</td>\n",
       "      <td>Peace Is Every Breath: A Practice for Our Busy Lives</td>\n",
       "      <td>55.61</td>\n",
       "      <td>40</td>\n",
       "      <td>0.684836</td>\n",
       "    </tr>\n",
       "    <tr>\n",
       "      <th>37</th>\n",
       "      <td>Teachings on Love Thich Nhat Hanh</td>\n",
       "      <td>Teachings on Love</td>\n",
       "      <td>32.48</td>\n",
       "      <td>40</td>\n",
       "      <td>0.629265</td>\n",
       "    </tr>\n",
       "    <tr>\n",
       "      <th>209</th>\n",
       "      <td>I Sold Andy Warhol (too soon)</td>\n",
       "      <td>I Sold Andy Warhol (Too Soon): A Memoir</td>\n",
       "      <td>29.50</td>\n",
       "      <td>45</td>\n",
       "      <td>0.672211</td>\n",
       "    </tr>\n",
       "    <tr>\n",
       "      <th>208</th>\n",
       "      <td>automate this how algorithms came to rule our world</td>\n",
       "      <td>Automate This: How Algorithms Came to Rule Our World</td>\n",
       "      <td>50.36</td>\n",
       "      <td>45</td>\n",
       "      <td>0.519100</td>\n",
       "    </tr>\n",
       "    <tr>\n",
       "      <th>211</th>\n",
       "      <td>Naked Statistics</td>\n",
       "      <td>Naked Statistics: Stripping the Dread from the Data</td>\n",
       "      <td>24.67</td>\n",
       "      <td>45</td>\n",
       "      <td>0.635052</td>\n",
       "    </tr>\n",
       "    <tr>\n",
       "      <th>210</th>\n",
       "      <td>Data Mining: Methods and Techniques</td>\n",
       "      <td>DATA MINING: METHODS AND TECHNIQUES [Paperback] Shawkat Ali</td>\n",
       "      <td>31.34</td>\n",
       "      <td>45</td>\n",
       "      <td>0.691581</td>\n",
       "    </tr>\n",
       "    <tr>\n",
       "      <th>79</th>\n",
       "      <td>The power of less the fine art of limiting yourself to the essential</td>\n",
       "      <td>The Power Of Less: The Fine Art of Limiting Yourself to the Essential</td>\n",
       "      <td>24.04</td>\n",
       "      <td>60</td>\n",
       "      <td>0.566070</td>\n",
       "    </tr>\n",
       "    <tr>\n",
       "      <th>78</th>\n",
       "      <td>Think like Zuck</td>\n",
       "      <td>Think Like Zuck: The Five Business Secrets of Facebook's Improbably Brilliant CEO Mark Zuckerberg</td>\n",
       "      <td>32.84</td>\n",
       "      <td>60</td>\n",
       "      <td>0.311775</td>\n",
       "    </tr>\n",
       "    <tr>\n",
       "      <th>118</th>\n",
       "      <td>Impact Code</td>\n",
       "      <td>The Impact Code: 50 Ways to Enhance Your Presence and Impact at Work</td>\n",
       "      <td>23.62</td>\n",
       "      <td>70</td>\n",
       "      <td>0.574042</td>\n",
       "    </tr>\n",
       "    <tr>\n",
       "      <th>116</th>\n",
       "      <td>The Lazy Winner</td>\n",
       "      <td>The Lazy Winner: How to Do More with Less Effort and Succeed in Your Work and Personal Life without Rushing Around Like a Headless Chicken or Putting in 100 Hour Weeks</td>\n",
       "      <td>44.00</td>\n",
       "      <td>70</td>\n",
       "      <td>0.511768</td>\n",
       "    </tr>\n",
       "    <tr>\n",
       "      <th>115</th>\n",
       "      <td>Real Happiness at Work</td>\n",
       "      <td>Real Happiness at Work: Meditations for Accomplishment, Achievement, and Peace</td>\n",
       "      <td>18.28</td>\n",
       "      <td>70</td>\n",
       "      <td>0.557646</td>\n",
       "    </tr>\n",
       "    <tr>\n",
       "      <th>114</th>\n",
       "      <td>The Clean Coder</td>\n",
       "      <td>Clean Coder, The: A Code of Conduct for Professional Programmers</td>\n",
       "      <td>25.52</td>\n",
       "      <td>70</td>\n",
       "      <td>0.608227</td>\n",
       "    </tr>\n",
       "    <tr>\n",
       "      <th>132</th>\n",
       "      <td>Design to Grow</td>\n",
       "      <td>Field Guide to Urban Gardening: How to Grow Plants, No Matter Where You Live: Raised Beds • Vertical Gardening • Indoor Edibles • Balconies and Rooftops • Hydroponics</td>\n",
       "      <td>30.49</td>\n",
       "      <td>75</td>\n",
       "      <td>0.344143</td>\n",
       "    </tr>\n",
       "    <tr>\n",
       "      <th>134</th>\n",
       "      <td>The happiness code ten keys to being the best you can be</td>\n",
       "      <td>The Happiness Code: 10 Keys to Being the Best You Can Be</td>\n",
       "      <td>25.14</td>\n",
       "      <td>75</td>\n",
       "      <td>0.630864</td>\n",
       "    </tr>\n",
       "    <tr>\n",
       "      <th>136</th>\n",
       "      <td>Manners that Matter Most</td>\n",
       "      <td>Manners That Matter Most: The Easy Guide to Etiquette At Home and In the World</td>\n",
       "      <td>19.98</td>\n",
       "      <td>75</td>\n",
       "      <td>0.426066</td>\n",
       "    </tr>\n",
       "    <tr>\n",
       "      <th>185</th>\n",
       "      <td>Analytics at Work</td>\n",
       "      <td>Analytics at Work: Smarter Decisions, Better Results</td>\n",
       "      <td>31.39</td>\n",
       "      <td>80</td>\n",
       "      <td>0.558629</td>\n",
       "    </tr>\n",
       "    <tr>\n",
       "      <th>186</th>\n",
       "      <td>Data Mining for Managers</td>\n",
       "      <td>Data Mining for Managers: How to Use Data (Big and Small) to Solve Business Challenges</td>\n",
       "      <td>77.09</td>\n",
       "      <td>80</td>\n",
       "      <td>0.655985</td>\n",
       "    </tr>\n",
       "    <tr>\n",
       "      <th>184</th>\n",
       "      <td>Program or be Programmed</td>\n",
       "      <td>Program or be Programmed: Ten Commands for a Digital Age</td>\n",
       "      <td>270.99</td>\n",
       "      <td>80</td>\n",
       "      <td>0.589845</td>\n",
       "    </tr>\n",
       "    <tr>\n",
       "      <th>183</th>\n",
       "      <td>Why Information Grows</td>\n",
       "      <td>Why Information Grows: The Evolution of Order, from Atoms to Economies</td>\n",
       "      <td>27.55</td>\n",
       "      <td>80</td>\n",
       "      <td>0.494159</td>\n",
       "    </tr>\n",
       "    <tr>\n",
       "      <th>225</th>\n",
       "      <td>Bad Data Handbook</td>\n",
       "      <td>Bad Data Handbook: Cleaning Up the Data So You Can Get Back to Work</td>\n",
       "      <td>42.96</td>\n",
       "      <td>90</td>\n",
       "      <td>0.522091</td>\n",
       "    </tr>\n",
       "    <tr>\n",
       "      <th>222</th>\n",
       "      <td>Shipping Greatness</td>\n",
       "      <td>Shipping Greatness: Lessons in Leadership from Amazon and Google</td>\n",
       "      <td>36.63</td>\n",
       "      <td>90</td>\n",
       "      <td>0.566892</td>\n",
       "    </tr>\n",
       "    <tr>\n",
       "      <th>8</th>\n",
       "      <td>big data understanding how data power big business</td>\n",
       "      <td>Big Data: Understanding How Data Powers Big Business</td>\n",
       "      <td>33.12</td>\n",
       "      <td>95</td>\n",
       "      <td>0.673025</td>\n",
       "    </tr>\n",
       "    <tr>\n",
       "      <th>7</th>\n",
       "      <td>The Big Data-Driven Business</td>\n",
       "      <td>Introduction to Algorithmic Marketing: Artificial Intelligence for Marketing Operations</td>\n",
       "      <td>35.31</td>\n",
       "      <td>95</td>\n",
       "      <td>0.508343</td>\n",
       "    </tr>\n",
       "    <tr>\n",
       "      <th>138</th>\n",
       "      <td>Countdown to Zero Day</td>\n",
       "      <td>Countdown to Zero Day: Stuxnet and the Launch of the World's First Digital Weapon</td>\n",
       "      <td>21.58</td>\n",
       "      <td>100</td>\n",
       "      <td>0.598392</td>\n",
       "    </tr>\n",
       "    <tr>\n",
       "      <th>91</th>\n",
       "      <td>Rejection Proof</td>\n",
       "      <td>Rejection Proof: How I Beat Fear and Became Invincible Through 100 Days of Rejection</td>\n",
       "      <td>28.88</td>\n",
       "      <td>105</td>\n",
       "      <td>0.533258</td>\n",
       "    </tr>\n",
       "    <tr>\n",
       "      <th>83</th>\n",
       "      <td>Lean Analytics</td>\n",
       "      <td>Lean Analytics: Use Data to Build a Better Startup Faster</td>\n",
       "      <td>39.28</td>\n",
       "      <td>115</td>\n",
       "      <td>0.640714</td>\n",
       "    </tr>\n",
       "    <tr>\n",
       "      <th>229</th>\n",
       "      <td>Ego is The Enemy ryan holiday</td>\n",
       "      <td>Ego Is the Enemy</td>\n",
       "      <td>25.22</td>\n",
       "      <td>120</td>\n",
       "      <td>0.625801</td>\n",
       "    </tr>\n",
       "    <tr>\n",
       "      <th>230</th>\n",
       "      <td>Essentialism</td>\n",
       "      <td>Essentialism: The Disciplined Pursuit of Less</td>\n",
       "      <td>29.51</td>\n",
       "      <td>120</td>\n",
       "      <td>0.390786</td>\n",
       "    </tr>\n",
       "    <tr>\n",
       "      <th>227</th>\n",
       "      <td>The Emperors Handbook Meditations</td>\n",
       "      <td>Functional Training and Beyond: Building the Ultimate Superfunctional Body and Mind (Building Muscle and Performance, Weight Training, Men's Health)</td>\n",
       "      <td>27.32</td>\n",
       "      <td>120</td>\n",
       "      <td>0.402686</td>\n",
       "    </tr>\n",
       "    <tr>\n",
       "      <th>0</th>\n",
       "      <td>Seven steps to train your mind</td>\n",
       "      <td>Seven Steps to Train Your Mind</td>\n",
       "      <td>56.74</td>\n",
       "      <td>125</td>\n",
       "      <td>0.647268</td>\n",
       "    </tr>\n",
       "    <tr>\n",
       "      <th>2</th>\n",
       "      <td>Growth Hacker Marketing</td>\n",
       "      <td>Growth Hacker Marketing: A Primer on the Future of PR, Marketing, and Advertising</td>\n",
       "      <td>19.48</td>\n",
       "      <td>125</td>\n",
       "      <td>0.608473</td>\n",
       "    </tr>\n",
       "    <tr>\n",
       "      <th>4</th>\n",
       "      <td>Making Habits, Breaking Habits</td>\n",
       "      <td>Making Habits, Breaking Habits: Why We Do Things, Why We Don't, and How to Make Any Change Stick</td>\n",
       "      <td>27.18</td>\n",
       "      <td>125</td>\n",
       "      <td>0.689043</td>\n",
       "    </tr>\n",
       "    <tr>\n",
       "      <th>188</th>\n",
       "      <td>Smart Change</td>\n",
       "      <td>Smart Change: Five Tools to Create New and Sustainable Habits in Yourself and Others</td>\n",
       "      <td>22.42</td>\n",
       "      <td>130</td>\n",
       "      <td>0.582167</td>\n",
       "    </tr>\n",
       "    <tr>\n",
       "      <th>189</th>\n",
       "      <td>Never Split the Difference</td>\n",
       "      <td>Never Split the Difference: Negotiating as if Your Life Depended on It</td>\n",
       "      <td>15.72</td>\n",
       "      <td>130</td>\n",
       "      <td>0.489267</td>\n",
       "    </tr>\n",
       "    <tr>\n",
       "      <th>187</th>\n",
       "      <td>Grit to Great</td>\n",
       "      <td>Grit to Great: How Perseverance, Passion, and Pluck Take You from Ordinary to Extraordinary</td>\n",
       "      <td>27.97</td>\n",
       "      <td>130</td>\n",
       "      <td>0.531670</td>\n",
       "    </tr>\n",
       "    <tr>\n",
       "      <th>42</th>\n",
       "      <td>The Success Equation</td>\n",
       "      <td>The Success Equation: Untangling Skill and Luck in Business, Sports, and Investing</td>\n",
       "      <td>33.27</td>\n",
       "      <td>135</td>\n",
       "      <td>0.533891</td>\n",
       "    </tr>\n",
       "    <tr>\n",
       "      <th>155</th>\n",
       "      <td>Do It Marketing! 77</td>\n",
       "      <td>Do It! Marketing: 77 Instant-Action Ideas to Boost Sales, Maximize Profits, and Crush Your Competition</td>\n",
       "      <td>42.03</td>\n",
       "      <td>145</td>\n",
       "      <td>0.479148</td>\n",
       "    </tr>\n",
       "    <tr>\n",
       "      <th>95</th>\n",
       "      <td>Sensemaking</td>\n",
       "      <td>Sensemaking: The Power of the Humanities in the Age of the Algorithm</td>\n",
       "      <td>38.20</td>\n",
       "      <td>150</td>\n",
       "      <td>0.205525</td>\n",
       "    </tr>\n",
       "    <tr>\n",
       "      <th>96</th>\n",
       "      <td>Insights Tasha Eurich</td>\n",
       "      <td>Insight: The Surprising Truth about How Others See Us, How We See Ourselves, and Why the Answers Matter More Than We Think</td>\n",
       "      <td>20.55</td>\n",
       "      <td>150</td>\n",
       "      <td>0.482502</td>\n",
       "    </tr>\n",
       "    <tr>\n",
       "      <th>97</th>\n",
       "      <td>Listful Thinking Paula Rizzo</td>\n",
       "      <td>Listful Thinking: Using Lists to Be More Productive, Successful and Less Stressed (Chinese Edition)</td>\n",
       "      <td>45.99</td>\n",
       "      <td>150</td>\n",
       "      <td>0.538027</td>\n",
       "    </tr>\n",
       "    <tr>\n",
       "      <th>98</th>\n",
       "      <td>Getting Things Done Secrets</td>\n",
       "      <td>How to Talk to Anyone, Getting Things Done, Secrets of the Millionaire Mind 3 Books Collection Set</td>\n",
       "      <td>60.27</td>\n",
       "      <td>150</td>\n",
       "      <td>0.511495</td>\n",
       "    </tr>\n",
       "    <tr>\n",
       "      <th>146</th>\n",
       "      <td>Hacking Marketing</td>\n",
       "      <td>Hacking Marketing: Agile Practices to Make Marketing Smarter, Faster, and More Innovative</td>\n",
       "      <td>30.67</td>\n",
       "      <td>155</td>\n",
       "      <td>0.608494</td>\n",
       "    </tr>\n",
       "    <tr>\n",
       "      <th>142</th>\n",
       "      <td>The Art of Connection</td>\n",
       "      <td>The Art of Connection: 7 Relationship-Building Skills Every Leader Needs Now</td>\n",
       "      <td>23.22</td>\n",
       "      <td>155</td>\n",
       "      <td>0.660512</td>\n",
       "    </tr>\n",
       "    <tr>\n",
       "      <th>52</th>\n",
       "      <td>Atomic Habits</td>\n",
       "      <td>Atomic Habits: An Easy &amp; Proven Way to Build Good Habits &amp; Break Bad Ones</td>\n",
       "      <td>29.91</td>\n",
       "      <td>160</td>\n",
       "      <td>0.677738</td>\n",
       "    </tr>\n",
       "    <tr>\n",
       "      <th>53</th>\n",
       "      <td>The Power of Moments</td>\n",
       "      <td>The Power of Moments: Why Certain Experiences Have Extraordinary Impact</td>\n",
       "      <td>35.34</td>\n",
       "      <td>160</td>\n",
       "      <td>0.665248</td>\n",
       "    </tr>\n",
       "    <tr>\n",
       "      <th>195</th>\n",
       "      <td>The Algorithmic Leader</td>\n",
       "      <td>The Algorithmic Leader: How to Be Smart When Machines Are Smarter Than You</td>\n",
       "      <td>30.70</td>\n",
       "      <td>165</td>\n",
       "      <td>0.568841</td>\n",
       "    </tr>\n",
       "    <tr>\n",
       "      <th>12</th>\n",
       "      <td>Breaking and Entering</td>\n",
       "      <td>Breaking and Entering: eleven stories</td>\n",
       "      <td>20.61</td>\n",
       "      <td>170</td>\n",
       "      <td>0.682850</td>\n",
       "    </tr>\n",
       "    <tr>\n",
       "      <th>11</th>\n",
       "      <td>Measure What Matters</td>\n",
       "      <td>Measure What Matters: How Google, Bono, and the Gates Foundation Rock the World with OKRs</td>\n",
       "      <td>34.13</td>\n",
       "      <td>170</td>\n",
       "      <td>0.494167</td>\n",
       "    </tr>\n",
       "    <tr>\n",
       "      <th>233</th>\n",
       "      <td>fluent in 3 months benny lewis</td>\n",
       "      <td>Fluent in 3 Months: How Anyone at Any Age Can Learn to Speak Any Language from Anywhere in the World</td>\n",
       "      <td>25.22</td>\n",
       "      <td>175</td>\n",
       "      <td>0.538088</td>\n",
       "    </tr>\n",
       "    <tr>\n",
       "      <th>236</th>\n",
       "      <td>Deep Work</td>\n",
       "      <td>Deep Work: Rules for Focused Success in a Distracted World</td>\n",
       "      <td>33.08</td>\n",
       "      <td>175</td>\n",
       "      <td>0.614826</td>\n",
       "    </tr>\n",
       "    <tr>\n",
       "      <th>234</th>\n",
       "      <td>Good Stocks Cheap</td>\n",
       "      <td>Good Stocks Cheap: Value Investing with Confidence for a Lifetime of Stock Market Outperformance</td>\n",
       "      <td>36.01</td>\n",
       "      <td>175</td>\n",
       "      <td>0.506449</td>\n",
       "    </tr>\n",
       "    <tr>\n",
       "      <th>168</th>\n",
       "      <td>How to speak so that people really listen</td>\n",
       "      <td>How to Speak So People Really Listen: The Straight-Talking Guide to Communicating with Influence and Impact</td>\n",
       "      <td>17.76</td>\n",
       "      <td>180</td>\n",
       "      <td>0.369740</td>\n",
       "    </tr>\n",
       "    <tr>\n",
       "      <th>169</th>\n",
       "      <td>Crucial Conversations</td>\n",
       "      <td>Crucial Conversations: Tools for Talking When Stakes are High, Third Edition</td>\n",
       "      <td>25.95</td>\n",
       "      <td>180</td>\n",
       "      <td>0.564357</td>\n",
       "    </tr>\n",
       "    <tr>\n",
       "      <th>58</th>\n",
       "      <td>mindfulness on the go book</td>\n",
       "      <td>Mindfulness on the Go: Discover How to be Mindful Wherever You are―at Home or Work, on Your Daily Commute, or Whenever You'Re on the Move</td>\n",
       "      <td>20.58</td>\n",
       "      <td>185</td>\n",
       "      <td>0.421445</td>\n",
       "    </tr>\n",
       "    <tr>\n",
       "      <th>57</th>\n",
       "      <td>Quiet Influence</td>\n",
       "      <td>Quiet Influence: The Introvert's Guide to Making a Difference</td>\n",
       "      <td>35.95</td>\n",
       "      <td>185</td>\n",
       "      <td>0.610385</td>\n",
       "    </tr>\n",
       "    <tr>\n",
       "      <th>128</th>\n",
       "      <td>The Stoic Challenge</td>\n",
       "      <td>The Stoic Challenge: A Philosopher's Guide to Becoming Tougher, Calmer, and More Resilient</td>\n",
       "      <td>21.22</td>\n",
       "      <td>190</td>\n",
       "      <td>0.624059</td>\n",
       "    </tr>\n",
       "    <tr>\n",
       "      <th>129</th>\n",
       "      <td>How to be an Existentialist</td>\n",
       "      <td>How to Be an Existentialist: or How to Get Real, Get a Grip and Stop Making Excuses</td>\n",
       "      <td>109.90</td>\n",
       "      <td>190</td>\n",
       "      <td>0.664974</td>\n",
       "    </tr>\n",
       "    <tr>\n",
       "      <th>104</th>\n",
       "      <td>Shorter Work Better Smarter</td>\n",
       "      <td>Shorter: Work Better, Smarter, and Less--Here's How</td>\n",
       "      <td>31.53</td>\n",
       "      <td>195</td>\n",
       "      <td>0.369710</td>\n",
       "    </tr>\n",
       "    <tr>\n",
       "      <th>103</th>\n",
       "      <td>Power of Experiments</td>\n",
       "      <td>The Power of Experiments: Decision Making in a Data-Driven World</td>\n",
       "      <td>22.82</td>\n",
       "      <td>195</td>\n",
       "      <td>0.560959</td>\n",
       "    </tr>\n",
       "    <tr>\n",
       "      <th>30</th>\n",
       "      <td>Ask Your Developer</td>\n",
       "      <td>Ask Your Developer: How to Harness the Power of Software Developers and Win in the 21st Century</td>\n",
       "      <td>33.87</td>\n",
       "      <td>200</td>\n",
       "      <td>0.544983</td>\n",
       "    </tr>\n",
       "    <tr>\n",
       "      <th>205</th>\n",
       "      <td>Solo How to Work Alone</td>\n",
       "      <td>Solo: How to Work Alone (and Not Lose Your Mind)</td>\n",
       "      <td>28.14</td>\n",
       "      <td>205</td>\n",
       "      <td>0.531385</td>\n",
       "    </tr>\n",
       "    <tr>\n",
       "      <th>206</th>\n",
       "      <td>The definitive management ideas of the year from HBR 2020</td>\n",
       "      <td>HBR's 10 Must Reads 2020: The Definitive Management Ideas of the Year from Harvard Business Review (with bonus article \"How CEOs Manage Time\" by Michael E. Porter and Nitin Nohria)</td>\n",
       "      <td>25.83</td>\n",
       "      <td>205</td>\n",
       "      <td>0.498493</td>\n",
       "    </tr>\n",
       "    <tr>\n",
       "      <th>203</th>\n",
       "      <td>Be Data Literate</td>\n",
       "      <td>Be Data Literate: The Data Literacy Skills Everyone Needs To Succeed</td>\n",
       "      <td>34.85</td>\n",
       "      <td>205</td>\n",
       "      <td>0.661918</td>\n",
       "    </tr>\n",
       "    <tr>\n",
       "      <th>15</th>\n",
       "      <td>Hypnotic Writing</td>\n",
       "      <td>Hypnotic Writing: How to Seduce and Persuade Customers with Only Your Words</td>\n",
       "      <td>23.30</td>\n",
       "      <td>210</td>\n",
       "      <td>0.488749</td>\n",
       "    </tr>\n",
       "    <tr>\n",
       "      <th>18</th>\n",
       "      <td>The Little Book of Ikigai</td>\n",
       "      <td>The Little Book of Ikigai: The secret Japanese way to live a happy and long life</td>\n",
       "      <td>15.07</td>\n",
       "      <td>210</td>\n",
       "      <td>0.610754</td>\n",
       "    </tr>\n",
       "    <tr>\n",
       "      <th>19</th>\n",
       "      <td>Small Giants - Companies that choose to be great instead of big</td>\n",
       "      <td>Small Giants: Companies That Choose to Be Great Instead of Big, 10th-Anniversary Edition</td>\n",
       "      <td>24.28</td>\n",
       "      <td>210</td>\n",
       "      <td>0.634960</td>\n",
       "    </tr>\n",
       "    <tr>\n",
       "      <th>212</th>\n",
       "      <td>Being Indispensable At work</td>\n",
       "      <td>The Art of Being Indispensable at Work: Win Influence, Beat Overcommitment, and Get the Right Things Done</td>\n",
       "      <td>31.56</td>\n",
       "      <td>215</td>\n",
       "      <td>0.623451</td>\n",
       "    </tr>\n",
       "    <tr>\n",
       "      <th>214</th>\n",
       "      <td>The definitive management ideas of the year from HBR - 2020</td>\n",
       "      <td>HBR's 10 Must Reads 2020: The Definitive Management Ideas of the Year from Harvard Business Review (with bonus article \"How CEOs Manage Time\" by Michael E. Porter and Nitin Nohria)</td>\n",
       "      <td>25.83</td>\n",
       "      <td>215</td>\n",
       "      <td>0.579929</td>\n",
       "    </tr>\n",
       "    <tr>\n",
       "      <th>215</th>\n",
       "      <td>Hypnotic Writing</td>\n",
       "      <td>Hypnotic Writing: How to Seduce and Persuade Customers with Only Your Words</td>\n",
       "      <td>23.30</td>\n",
       "      <td>215</td>\n",
       "      <td>0.488749</td>\n",
       "    </tr>\n",
       "    <tr>\n",
       "      <th>65</th>\n",
       "      <td>High Performance Consultancy</td>\n",
       "      <td>High-Performance Without Pain: A Companion Workbook for High-Achievers and Those Aspiring To Be</td>\n",
       "      <td>10.00</td>\n",
       "      <td>220</td>\n",
       "      <td>0.659752</td>\n",
       "    </tr>\n",
       "    <tr>\n",
       "      <th>68</th>\n",
       "      <td>The Little Book of Ikigai</td>\n",
       "      <td>The Cute Book of Kawaii Coloring: Learn Japanese Words by Coloring Cute Things</td>\n",
       "      <td>19.17</td>\n",
       "      <td>220</td>\n",
       "      <td>0.699451</td>\n",
       "    </tr>\n",
       "    <tr>\n",
       "      <th>69</th>\n",
       "      <td>Small Giants Companies that choose to be great instead of big</td>\n",
       "      <td>Small Giants: Companies That Choose to Be Great Instead of Big, 10th-Anniversary Edition</td>\n",
       "      <td>24.28</td>\n",
       "      <td>220</td>\n",
       "      <td>0.571301</td>\n",
       "    </tr>\n",
       "    <tr>\n",
       "      <th>159</th>\n",
       "      <td>Courage is Calling</td>\n",
       "      <td>Courage Is Calling: Fortune Favors the Brave</td>\n",
       "      <td>23.44</td>\n",
       "      <td>225</td>\n",
       "      <td>0.553356</td>\n",
       "    </tr>\n",
       "  </tbody>\n",
       "</table>\n",
       "</div>"
      ],
      "text/plain": [
       "                                                              given_title  \\\n",
       "62                                                    Peddling Prosperity   \n",
       "61                                hoodwinked: an economic hit man reveals   \n",
       "172                                                         Tipping Point   \n",
       "173                          Blink the power of thinking without thinking   \n",
       "174                                                              Outliers   \n",
       "176                                             The fabric of the cosmos    \n",
       "198                                            the misbehavior of markets   \n",
       "28                                                  The Paradox of Choice   \n",
       "26                                                  Predictive irrational   \n",
       "123                                                       Super Crunchers   \n",
       "122                                       Ubiquity the science of history   \n",
       "125                                                     Fortune’s Formula   \n",
       "163                                                    How Pleasure Works   \n",
       "164                                        the social animal david brooks   \n",
       "74                                               The Signal and the Noise   \n",
       "73                                    The (Honest) Truth About Dishonesty   \n",
       "35                                                           Rebel Buddha   \n",
       "36                                                  Peace is every Breath   \n",
       "37                                      Teachings on Love Thich Nhat Hanh   \n",
       "209                                         I Sold Andy Warhol (too soon)   \n",
       "208                   automate this how algorithms came to rule our world   \n",
       "211                                                      Naked Statistics   \n",
       "210                                   Data Mining: Methods and Techniques   \n",
       "79   The power of less the fine art of limiting yourself to the essential   \n",
       "78                                                        Think like Zuck   \n",
       "118                                                           Impact Code   \n",
       "116                                                       The Lazy Winner   \n",
       "115                                                Real Happiness at Work   \n",
       "114                                                       The Clean Coder   \n",
       "132                                                        Design to Grow   \n",
       "134              The happiness code ten keys to being the best you can be   \n",
       "136                                              Manners that Matter Most   \n",
       "185                                                     Analytics at Work   \n",
       "186                                              Data Mining for Managers   \n",
       "184                                              Program or be Programmed   \n",
       "183                                                 Why Information Grows   \n",
       "225                                                     Bad Data Handbook   \n",
       "222                                                    Shipping Greatness   \n",
       "8                      big data understanding how data power big business   \n",
       "7                                            The Big Data-Driven Business   \n",
       "138                                                 Countdown to Zero Day   \n",
       "91                                                        Rejection Proof   \n",
       "83                                                         Lean Analytics   \n",
       "229                                         Ego is The Enemy ryan holiday   \n",
       "230                                                          Essentialism   \n",
       "227                                     The Emperors Handbook Meditations   \n",
       "0                                          Seven steps to train your mind   \n",
       "2                                                 Growth Hacker Marketing   \n",
       "4                                          Making Habits, Breaking Habits   \n",
       "188                                                          Smart Change   \n",
       "189                                            Never Split the Difference   \n",
       "187                                                         Grit to Great   \n",
       "42                                                   The Success Equation   \n",
       "155                                                  Do It Marketing! 77    \n",
       "95                                                            Sensemaking   \n",
       "96                                                  Insights Tasha Eurich   \n",
       "97                                           Listful Thinking Paula Rizzo   \n",
       "98                                            Getting Things Done Secrets   \n",
       "146                                                     Hacking Marketing   \n",
       "142                                                 The Art of Connection   \n",
       "52                                                          Atomic Habits   \n",
       "53                                                   The Power of Moments   \n",
       "195                                                The Algorithmic Leader   \n",
       "12                                                  Breaking and Entering   \n",
       "11                                                   Measure What Matters   \n",
       "233                                        fluent in 3 months benny lewis   \n",
       "236                                                             Deep Work   \n",
       "234                                                     Good Stocks Cheap   \n",
       "168                             How to speak so that people really listen   \n",
       "169                                                Crucial Conversations    \n",
       "58                                             mindfulness on the go book   \n",
       "57                                                        Quiet Influence   \n",
       "128                                                  The Stoic Challenge    \n",
       "129                                          How to be an Existentialist    \n",
       "104                                           Shorter Work Better Smarter   \n",
       "103                                                  Power of Experiments   \n",
       "30                                                     Ask Your Developer   \n",
       "205                                                Solo How to Work Alone   \n",
       "206             The definitive management ideas of the year from HBR 2020   \n",
       "203                                                      Be Data Literate   \n",
       "15                                                       Hypnotic Writing   \n",
       "18                                              The Little Book of Ikigai   \n",
       "19        Small Giants - Companies that choose to be great instead of big   \n",
       "212                                           Being Indispensable At work   \n",
       "214           The definitive management ideas of the year from HBR - 2020   \n",
       "215                                                      Hypnotic Writing   \n",
       "65                                           High Performance Consultancy   \n",
       "68                                              The Little Book of Ikigai   \n",
       "69          Small Giants Companies that choose to be great instead of big   \n",
       "159                                                    Courage is Calling   \n",
       "\n",
       "                                                                                                                                                                            scraped_title  \\\n",
       "62                                                                                                  Peddling Prosperity: Economic Sense and Nonsense in an Age of Diminished Expectations   \n",
       "61                                                                                           Hoodwinked: An Economic Hit Man Reveals Why the Global Economy IMPLODED -- and How to Fix It   \n",
       "172                                                                                                                        The Tipping Point: How Little Things Can Make a Big Difference   \n",
       "173                                                                                                                                         Blink: The Power of Thinking Without Thinking   \n",
       "174                                                                                                                                                        Outliers: The Story of Success   \n",
       "176                                                                                                                     The Fabric of the Cosmos: Space, Time, and the Texture of Reality   \n",
       "198                                                                                                                    The Misbehavior of Markets: A Fractal View of Financial Turbulence   \n",
       "28                                                                                                                               The Paradox of Choice: Why More Is Less, Revised Edition   \n",
       "26                                                                                       Predictably Irrational, Revised and Expanded Edition: The Hidden Forces That Shape Our Decisions   \n",
       "123                                                                                                                   Super Crunchers: Why Thinking-By-Numbers is the New Way To Be Smart   \n",
       "122                                                                                                      Ubiquity: The Science of History . . . or Why the World Is Simpler Than We Think   \n",
       "125                                                                            Fortune's Formula: The Untold Story of the Scientific Betting System That Beat the Casinos and Wall Street   \n",
       "163                                                                                                                       How Pleasure Works: The New Science of Why We Like What We Like   \n",
       "164                                                                                                             The Social Animal: The Hidden Sources of Love, Character, and Achievement   \n",
       "74                                                                                                                 The Signal and the Noise: Why So Many Predictions Fail--but Some Don't   \n",
       "73                                                                                                        The Honest Truth About Dishonesty: How We Lie to Everyone--Especially Ourselves   \n",
       "35                                                                                                                                          Rebel Buddha: A Guide to a Revolution of Mind   \n",
       "36                                                                                                                                   Peace Is Every Breath: A Practice for Our Busy Lives   \n",
       "37                                                                                                                                                                      Teachings on Love   \n",
       "209                                                                                                                                               I Sold Andy Warhol (Too Soon): A Memoir   \n",
       "208                                                                                                                                  Automate This: How Algorithms Came to Rule Our World   \n",
       "211                                                                                                                                   Naked Statistics: Stripping the Dread from the Data   \n",
       "210                                                                                                                           DATA MINING: METHODS AND TECHNIQUES [Paperback] Shawkat Ali   \n",
       "79                                                                                                                  The Power Of Less: The Fine Art of Limiting Yourself to the Essential   \n",
       "78                                                                                      Think Like Zuck: The Five Business Secrets of Facebook's Improbably Brilliant CEO Mark Zuckerberg   \n",
       "118                                                                                                                  The Impact Code: 50 Ways to Enhance Your Presence and Impact at Work   \n",
       "116               The Lazy Winner: How to Do More with Less Effort and Succeed in Your Work and Personal Life without Rushing Around Like a Headless Chicken or Putting in 100 Hour Weeks   \n",
       "115                                                                                                        Real Happiness at Work: Meditations for Accomplishment, Achievement, and Peace   \n",
       "114                                                                                                                      Clean Coder, The: A Code of Conduct for Professional Programmers   \n",
       "132                Field Guide to Urban Gardening: How to Grow Plants, No Matter Where You Live: Raised Beds • Vertical Gardening • Indoor Edibles • Balconies and Rooftops • Hydroponics   \n",
       "134                                                                                                                              The Happiness Code: 10 Keys to Being the Best You Can Be   \n",
       "136                                                                                                        Manners That Matter Most: The Easy Guide to Etiquette At Home and In the World   \n",
       "185                                                                                                                                  Analytics at Work: Smarter Decisions, Better Results   \n",
       "186                                                                                                Data Mining for Managers: How to Use Data (Big and Small) to Solve Business Challenges   \n",
       "184                                                                                                                              Program or be Programmed: Ten Commands for a Digital Age   \n",
       "183                                                                                                                Why Information Grows: The Evolution of Order, from Atoms to Economies   \n",
       "225                                                                                                                   Bad Data Handbook: Cleaning Up the Data So You Can Get Back to Work   \n",
       "222                                                                                                                      Shipping Greatness: Lessons in Leadership from Amazon and Google   \n",
       "8                                                                                                                                    Big Data: Understanding How Data Powers Big Business   \n",
       "7                                                                                                 Introduction to Algorithmic Marketing: Artificial Intelligence for Marketing Operations   \n",
       "138                                                                                                     Countdown to Zero Day: Stuxnet and the Launch of the World's First Digital Weapon   \n",
       "91                                                                                                   Rejection Proof: How I Beat Fear and Became Invincible Through 100 Days of Rejection   \n",
       "83                                                                                                                              Lean Analytics: Use Data to Build a Better Startup Faster   \n",
       "229                                                                                                                                                                      Ego Is the Enemy   \n",
       "230                                                                                                                                         Essentialism: The Disciplined Pursuit of Less   \n",
       "227                                  Functional Training and Beyond: Building the Ultimate Superfunctional Body and Mind (Building Muscle and Performance, Weight Training, Men's Health)   \n",
       "0                                                                                                                                                          Seven Steps to Train Your Mind   \n",
       "2                                                                                                       Growth Hacker Marketing: A Primer on the Future of PR, Marketing, and Advertising   \n",
       "4                                                                                        Making Habits, Breaking Habits: Why We Do Things, Why We Don't, and How to Make Any Change Stick   \n",
       "188                                                                                                  Smart Change: Five Tools to Create New and Sustainable Habits in Yourself and Others   \n",
       "189                                                                                                                Never Split the Difference: Negotiating as if Your Life Depended on It   \n",
       "187                                                                                           Grit to Great: How Perseverance, Passion, and Pluck Take You from Ordinary to Extraordinary   \n",
       "42                                                                                                     The Success Equation: Untangling Skill and Luck in Business, Sports, and Investing   \n",
       "155                                                                                Do It! Marketing: 77 Instant-Action Ideas to Boost Sales, Maximize Profits, and Crush Your Competition   \n",
       "95                                                                                                                   Sensemaking: The Power of the Humanities in the Age of the Algorithm   \n",
       "96                                                             Insight: The Surprising Truth about How Others See Us, How We See Ourselves, and Why the Answers Matter More Than We Think   \n",
       "97                                                                                    Listful Thinking: Using Lists to Be More Productive, Successful and Less Stressed (Chinese Edition)   \n",
       "98                                                                                     How to Talk to Anyone, Getting Things Done, Secrets of the Millionaire Mind 3 Books Collection Set   \n",
       "146                                                                                             Hacking Marketing: Agile Practices to Make Marketing Smarter, Faster, and More Innovative   \n",
       "142                                                                                                          The Art of Connection: 7 Relationship-Building Skills Every Leader Needs Now   \n",
       "52                                                                                                              Atomic Habits: An Easy & Proven Way to Build Good Habits & Break Bad Ones   \n",
       "53                                                                                                                The Power of Moments: Why Certain Experiences Have Extraordinary Impact   \n",
       "195                                                                                                            The Algorithmic Leader: How to Be Smart When Machines Are Smarter Than You   \n",
       "12                                                                                                                                                  Breaking and Entering: eleven stories   \n",
       "11                                                                                              Measure What Matters: How Google, Bono, and the Gates Foundation Rock the World with OKRs   \n",
       "233                                                                                  Fluent in 3 Months: How Anyone at Any Age Can Learn to Speak Any Language from Anywhere in the World   \n",
       "236                                                                                                                            Deep Work: Rules for Focused Success in a Distracted World   \n",
       "234                                                                                      Good Stocks Cheap: Value Investing with Confidence for a Lifetime of Stock Market Outperformance   \n",
       "168                                                                           How to Speak So People Really Listen: The Straight-Talking Guide to Communicating with Influence and Impact   \n",
       "169                                                                                                          Crucial Conversations: Tools for Talking When Stakes are High, Third Edition   \n",
       "58                                              Mindfulness on the Go: Discover How to be Mindful Wherever You are―at Home or Work, on Your Daily Commute, or Whenever You'Re on the Move   \n",
       "57                                                                                                                          Quiet Influence: The Introvert's Guide to Making a Difference   \n",
       "128                                                                                            The Stoic Challenge: A Philosopher's Guide to Becoming Tougher, Calmer, and More Resilient   \n",
       "129                                                                                                   How to Be an Existentialist: or How to Get Real, Get a Grip and Stop Making Excuses   \n",
       "104                                                                                                                                   Shorter: Work Better, Smarter, and Less--Here's How   \n",
       "103                                                                                                                      The Power of Experiments: Decision Making in a Data-Driven World   \n",
       "30                                                                                        Ask Your Developer: How to Harness the Power of Software Developers and Win in the 21st Century   \n",
       "205                                                                                                                                      Solo: How to Work Alone (and Not Lose Your Mind)   \n",
       "206  HBR's 10 Must Reads 2020: The Definitive Management Ideas of the Year from Harvard Business Review (with bonus article \"How CEOs Manage Time\" by Michael E. Porter and Nitin Nohria)   \n",
       "203                                                                                                                  Be Data Literate: The Data Literacy Skills Everyone Needs To Succeed   \n",
       "15                                                                                                            Hypnotic Writing: How to Seduce and Persuade Customers with Only Your Words   \n",
       "18                                                                                                       The Little Book of Ikigai: The secret Japanese way to live a happy and long life   \n",
       "19                                                                                               Small Giants: Companies That Choose to Be Great Instead of Big, 10th-Anniversary Edition   \n",
       "212                                                                             The Art of Being Indispensable at Work: Win Influence, Beat Overcommitment, and Get the Right Things Done   \n",
       "214  HBR's 10 Must Reads 2020: The Definitive Management Ideas of the Year from Harvard Business Review (with bonus article \"How CEOs Manage Time\" by Michael E. Porter and Nitin Nohria)   \n",
       "215                                                                                                           Hypnotic Writing: How to Seduce and Persuade Customers with Only Your Words   \n",
       "65                                                                                        High-Performance Without Pain: A Companion Workbook for High-Achievers and Those Aspiring To Be   \n",
       "68                                                                                                         The Cute Book of Kawaii Coloring: Learn Japanese Words by Coloring Cute Things   \n",
       "69                                                                                               Small Giants: Companies That Choose to Be Great Instead of Big, 10th-Anniversary Edition   \n",
       "159                                                                                                                                          Courage Is Calling: Fortune Favors the Brave   \n",
       "\n",
       "      price    i  title_check  \n",
       "62    26.57    0     0.510644  \n",
       "61    25.36    0     0.488833  \n",
       "172   24.74    5     0.457422  \n",
       "173   21.53    5     0.635436  \n",
       "174   23.11    5     0.362800  \n",
       "176   27.37    5     0.536864  \n",
       "198   30.39   10     0.512096  \n",
       "28    19.48   15     0.611815  \n",
       "26    24.18   15     0.207592  \n",
       "123   24.43   20     0.613925  \n",
       "122   25.10   20     0.347194  \n",
       "125   26.21   20     0.541176  \n",
       "163   32.96   30     0.671035  \n",
       "164   24.29   30     0.555734  \n",
       "74    24.79   35     0.657917  \n",
       "73    24.18   35     0.591165  \n",
       "35    23.76   40     0.533839  \n",
       "36    55.61   40     0.684836  \n",
       "37    32.48   40     0.629265  \n",
       "209   29.50   45     0.672211  \n",
       "208   50.36   45     0.519100  \n",
       "211   24.67   45     0.635052  \n",
       "210   31.34   45     0.691581  \n",
       "79    24.04   60     0.566070  \n",
       "78    32.84   60     0.311775  \n",
       "118   23.62   70     0.574042  \n",
       "116   44.00   70     0.511768  \n",
       "115   18.28   70     0.557646  \n",
       "114   25.52   70     0.608227  \n",
       "132   30.49   75     0.344143  \n",
       "134   25.14   75     0.630864  \n",
       "136   19.98   75     0.426066  \n",
       "185   31.39   80     0.558629  \n",
       "186   77.09   80     0.655985  \n",
       "184  270.99   80     0.589845  \n",
       "183   27.55   80     0.494159  \n",
       "225   42.96   90     0.522091  \n",
       "222   36.63   90     0.566892  \n",
       "8     33.12   95     0.673025  \n",
       "7     35.31   95     0.508343  \n",
       "138   21.58  100     0.598392  \n",
       "91    28.88  105     0.533258  \n",
       "83    39.28  115     0.640714  \n",
       "229   25.22  120     0.625801  \n",
       "230   29.51  120     0.390786  \n",
       "227   27.32  120     0.402686  \n",
       "0     56.74  125     0.647268  \n",
       "2     19.48  125     0.608473  \n",
       "4     27.18  125     0.689043  \n",
       "188   22.42  130     0.582167  \n",
       "189   15.72  130     0.489267  \n",
       "187   27.97  130     0.531670  \n",
       "42    33.27  135     0.533891  \n",
       "155   42.03  145     0.479148  \n",
       "95    38.20  150     0.205525  \n",
       "96    20.55  150     0.482502  \n",
       "97    45.99  150     0.538027  \n",
       "98    60.27  150     0.511495  \n",
       "146   30.67  155     0.608494  \n",
       "142   23.22  155     0.660512  \n",
       "52    29.91  160     0.677738  \n",
       "53    35.34  160     0.665248  \n",
       "195   30.70  165     0.568841  \n",
       "12    20.61  170     0.682850  \n",
       "11    34.13  170     0.494167  \n",
       "233   25.22  175     0.538088  \n",
       "236   33.08  175     0.614826  \n",
       "234   36.01  175     0.506449  \n",
       "168   17.76  180     0.369740  \n",
       "169   25.95  180     0.564357  \n",
       "58    20.58  185     0.421445  \n",
       "57    35.95  185     0.610385  \n",
       "128   21.22  190     0.624059  \n",
       "129  109.90  190     0.664974  \n",
       "104   31.53  195     0.369710  \n",
       "103   22.82  195     0.560959  \n",
       "30    33.87  200     0.544983  \n",
       "205   28.14  205     0.531385  \n",
       "206   25.83  205     0.498493  \n",
       "203   34.85  205     0.661918  \n",
       "15    23.30  210     0.488749  \n",
       "18    15.07  210     0.610754  \n",
       "19    24.28  210     0.634960  \n",
       "212   31.56  215     0.623451  \n",
       "214   25.83  215     0.579929  \n",
       "215   23.30  215     0.488749  \n",
       "65    10.00  220     0.659752  \n",
       "68    19.17  220     0.699451  \n",
       "69    24.28  220     0.571301  \n",
       "159   23.44  225     0.553356  "
      ]
     },
     "execution_count": 23,
     "metadata": {},
     "output_type": "execute_result"
    }
   ],
   "source": [
    "df['i'] = df['i'].astype(int)\n",
    "df[df['title_check'] < .7].sort_values('i')"
   ]
  },
  {
   "cell_type": "markdown",
   "id": "3983b363-ad0a-45ab-869d-e1391a29cfaf",
   "metadata": {},
   "source": [
    "### What the hell, still more issues?\n",
    "After some intense eyeballing, I had to pick out some titles that didn't match, but because my stakeholder (who is myself) is rushing to have this \"product\" shipped out, I, the \"programmer\" decided to just hard code these deletions to make my proof-of-concept look more reasonable in the final analysis. Such things do happen, especially when deadlines are dead. 3 out of 247 is less than 1%. I can accept this level of fudging. "
   ]
  },
  {
   "cell_type": "code",
   "execution_count": 26,
   "id": "9a757648-98e0-4769-8f1f-958f71d0f6ad",
   "metadata": {},
   "outputs": [],
   "source": [
    "df = df[df.scraped_title != 'The Cute Book of Kawaii Coloring: Learn Japanese Words by Coloring Cute Things']\n",
    "df = df[df.scraped_title != 'High-Performance Without Pain: A Companion Workbook for High-Achievers and Those Aspiring To Be']\n",
    "df = df[df.scraped_title != \"Functional Training and Beyond: Building the Ultimate Superfunctional Body and Mind (Building Muscle and Performance, Weight Training, Men's Health)\"]"
   ]
  },
  {
   "cell_type": "markdown",
   "id": "4c76759f-1d71-47e8-b9e4-ba9e10aa9270",
   "metadata": {},
   "source": [
    "### Finally, what I found out!"
   ]
  },
  {
   "cell_type": "code",
   "execution_count": 51,
   "id": "2eb9b795-47ab-4fcf-8489-26f9521dba3a",
   "metadata": {},
   "outputs": [
    {
     "name": "stdout",
     "output_type": "stream",
     "text": [
      "Total books: 234 (I removed 3 books)\n",
      "Total book costs: SGD 7772.61\n",
      "Average book costs: SGD 33.22\n"
     ]
    }
   ],
   "source": [
    "print(f\"Total books: {df.price.count()} (I removed 3 books)\")\n",
    "print(f\"Total book costs: SGD {round(df.price.sum(), 2)}\")\n",
    "print(f\"Average book costs: SGD {round(df.price.sum() / df.price.count(), 2)}\")"
   ]
  },
  {
   "cell_type": "markdown",
   "id": "8be1721f-8b53-4c52-9262-cf46abf5cb41",
   "metadata": {},
   "source": [
    "### Numbers are fine, but hey, we should always add some fancy pantsy graphs, right!? \n",
    "Here, I use Plotly, my favourite go-to python visualisation package for non-so-big data sets. Solely because (1) their charts look nice and (2) they allow interactions under certain conditions"
   ]
  },
  {
   "cell_type": "code",
   "execution_count": 33,
   "id": "75308013-185e-4557-b18b-5e909fe77799",
   "metadata": {},
   "outputs": [],
   "source": [
    "import plotly.graph_objects as go"
   ]
  },
  {
   "cell_type": "code",
   "execution_count": 55,
   "id": "a4a65a41-7f58-4698-9729-f944f14ad5cb",
   "metadata": {},
   "outputs": [
    {
     "data": {
      "application/vnd.plotly.v1+json": {
       "config": {
        "plotlyServerURL": "https://plot.ly"
       },
       "data": [
        {
         "boxpoints": "all",
         "jitter": 0,
         "name": "book prices",
         "text": [
          "Seven Steps to Train Your Mind",
          "The Obstacle Is the Way: The Timeless Art of Turning Trials into Triumph",
          "Growth Hacker Marketing: A Primer on the Future of PR, Marketing, and Advertising",
          "Trust Me, I'm Lying: Confessions of a Media Manipulator",
          "Making Habits, Breaking Habits: Why We Do Things, Why We Don't, and How to Make Any Change Stick",
          "Innovation Generation: How to Produce Creative and Useful Scientific Ideas",
          "Web Scraping with Python, 2e: Collecting More Data from the Modern Web",
          "Introduction to Algorithmic Marketing: Artificial Intelligence for Marketing Operations",
          "Big Data: Understanding How Data Powers Big Business",
          "Colorless Tsukuru Tazaki and His Years of Pilgrimage",
          "The Cartoon Introduction to Philosophy",
          "Measure What Matters: How Google, Bono, and the Gates Foundation Rock the World with OKRs",
          "Breaking and Entering: eleven stories",
          "The Four: The Hidden DNA of Amazon, Apple, Facebook, and Google",
          "Stillness Is the Key",
          "Hypnotic Writing: How to Seduce and Persuade Customers with Only Your Words",
          "Data-Driven Marketing: The 15 Metrics Everyone in Marketing Should Know",
          "Design Things that Make Sense: Tech. Innovator's Guide",
          "The Little Book of Ikigai: The secret Japanese way to live a happy and long life",
          "Small Giants: Companies That Choose to Be Great Instead of Big, 10th-Anniversary Edition",
          "We Are Anonymous: Inside the Hacker World of LulzSec, Anonymous, and the Global Cyber Insurgency",
          "Uncharted: Big Data as a Lens on Human Culture",
          "How to Read a Modern Painting: Understanding and Enjoying the Modern Masters",
          "50 Artists: You Should Know",
          "Escape from Camp 14: One Man's Remarkable Odyssey from North Korea to Freedom in the West",
          "Identity Economics",
          "Predictably Irrational, Revised and Expanded Edition: The Hidden Forces That Shape Our Decisions",
          "The Upside of Irrationality: The Unexpected Benefits of Defying Logic",
          "The Paradox of Choice: Why More Is Less, Revised Edition",
          "Prophet of Innovation: Joseph Schumpeter and Creative Destruction",
          "Ask Your Developer: How to Harness the Power of Software Developers and Win in the 21st Century",
          "Working Backwards: Insights, Stories, and Secrets from Inside Amazon",
          "Generating Business Referrals Without Asking: A Simple Five Step Plan to a Referral Explosion",
          "Negotiating the Sweet Spot: The Art of Leaving Nothing on the Table",
          "The Culture Code: The Secrets of Highly Successful Groups",
          "Rebel Buddha: A Guide to a Revolution of Mind",
          "Peace Is Every Breath: A Practice for Our Busy Lives",
          "Teachings on Love",
          "Forecast: What Physics, Meteorology, and the Natural Sciences Can Teach Us About Economics",
          "Big Data: A Revolution That Will Transform How We Live, Work, and Think",
          "The Science of Growth: How Facebook Beat Friendster--and How Nine Other Startups Left the Rest in the Dust",
          "So Good They Can't Ignore You",
          "The Success Equation: Untangling Skill and Luck in Business, Sports, and Investing",
          "The Numbers Game: Why Everything You Know About Soccer Is Wrong",
          "Payoff: The Hidden Logic That Shapes Our Motivations",
          "A PRACTITIONER'S GUIDE TO BUSINESS ANALYTICS: Using Data Analysis Tools to Improve Your Organization’s Decision Making and Strategy",
          "Nudge: Improving Decisions About Health, Wealth, and Happiness",
          "The Digital Marketer: Ten New Skills You Must Learn to Stay Relevant and Customer-Centric",
          "Simple Rules: How to Thrive in a Complex World",
          "Data Driven Marketing For Dummies",
          "Men Without Women: Stories",
          "The Strange Library",
          "Atomic Habits: An Easy & Proven Way to Build Good Habits & Break Bad Ones",
          "The Power of Moments: Why Certain Experiences Have Extraordinary Impact",
          "How To Be A Stoic: Ancient Wisdom for Modern Living",
          "The Art of Communicating",
          "What I Talk About When I Talk About Running: A Memoir",
          "Quiet Influence: The Introvert's Guide to Making a Difference",
          "Mindfulness on the Go: Discover How to be Mindful Wherever You are―at Home or Work, on Your Daily Commute, or Whenever You'Re on the Move",
          "Quiet: The Power of Introverts in a World That Can't Stop Talking",
          "The New Confessions of an Economic Hit Man",
          "Hoodwinked: An Economic Hit Man Reveals Why the Global Economy IMPLODED -- and How to Fix It",
          "Peddling Prosperity: Economic Sense and Nonsense in an Age of Diminished Expectations",
          "The Worldly Philosophers: The Lives, Times, and Ideas of the Great Economic Thinkers",
          "Freakonomics: A Rogue Economist Explores the Hidden Side of Everything",
          "The Tyranny of Metrics",
          "Design Things that Make Sense: Tech. Innovator's Guide",
          "Small Giants: Companies That Choose to Be Great Instead of Big, 10th-Anniversary Edition",
          "The Art of Creative Thinking",
          "The Myths of Innovation",
          "Antifragile: Things That Gain from Disorder: 3",
          "The Honest Truth About Dishonesty: How We Lie to Everyone--Especially Ourselves",
          "The Signal and the Noise: Why So Many Predictions Fail--but Some Don't",
          "Average Is Over: Powering America Beyond the Age of the Great Stagnation",
          "The Secret Language of Competitive Intelligence: How to See Through And Stay Ahead of Business Disruptions, Distortions, Rumors, And Smoke Screens",
          "How to Fail at Almost Everything and Still Win Big: Kind of the Story of My Life",
          "Think Like Zuck: The Five Business Secrets of Facebook's Improbably Brilliant CEO Mark Zuckerberg",
          "The Power Of Less: The Fine Art of Limiting Yourself to the Essential",
          "The Effective Engineer: How to Leverage Your Efforts In Software Engineering to Make a Disproportionate and Meaningful Impact",
          "Barking Up the Wrong Tree: The Surprising Science Behind Why Everything You Know About Success Is (Mostly) Wrong",
          "Mind Hacking: How to Change Your Mind for Good in 21 Days",
          "Lean Analytics: Use Data to Build a Better Startup Faster",
          "The Art of Readable Code: Simple and Practical Techniques for Writing Better Code",
          "The Mathematical Corporation: Where Machine Intelligence and Human Ingenuity Achieve the Impossible",
          "The Rise of the Platform Marketer: Performance Marketing with Google, Facebook, and Twitter, Plus the Latest High-Growth Digital Advertising Platforms",
          "Does It Work?: 10 Principles for Delivering True Business Value in Digital Marketing",
          "Digital Relevance: Developing Marketing Content and Strategies that Drive Results",
          "Converge: Transforming Business at the Intersection of Marketing and Technology",
          "Weapons of Math Destruction: How Big Data Increases Inequality and Threatens Democracy",
          "Rejection Proof: How I Beat Fear and Became Invincible Through 100 Days of Rejection",
          "How to Think Like Einstein: Simple Ways to Break the Rules and Discover Your Hidden Genius",
          "Mastermind: How to Think Like Sherlock Holmes",
          "Yoga Wisdom at Work: Finding Sanity Off the Mat and On the Job",
          "Sensemaking: The Power of the Humanities in the Age of the Algorithm",
          "Insight: The Surprising Truth about How Others See Us, How We See Ourselves, and Why the Answers Matter More Than We Think",
          "Listful Thinking: Using Lists to Be More Productive, Successful and Less Stressed (Chinese Edition)",
          "How to Talk to Anyone, Getting Things Done, Secrets of the Millionaire Mind 3 Books Collection Set",
          "Make Time: How to Focus on What Matters Every Day",
          "Search Engine Optimization (SEO): Search Marketing",
          "Seo: Step-by-step beginners' guide to dominate the first page using Google Analytics, Adwords etc.",
          "SEO Warrior: Essential Techniques for Increasing Web Visibility",
          "The Power of Experiments: Decision Making in a Data-Driven World",
          "Shorter: Work Better, Smarter, and Less--Here's How",
          "Software Engineering at Google: Lessons Learned from Programming Over Time",
          "97 Things Every Data Engineer Should Know: Collective Wisdom from the Experts",
          "Narrative Economics: How Stories Go Viral and Drive Major Economic Events",
          "SQL Antipatterns: Avoiding the Pitfalls of Database Programming",
          "Economyths: Ten Ways That Economics Gets it Wrong",
          "Dark Pools: The rise of A.I. trading machines and the looming threat to Wall Street",
          "Man's Search for Meaning",
          "1Q84",
          "This Will Make You Smarter: New Scientific Concepts to Improve Your Thinking",
          "Clean Coder, The: A Code of Conduct for Professional Programmers",
          "Real Happiness at Work: Meditations for Accomplishment, Achievement, and Peace",
          "The Lazy Winner: How to Do More with Less Effort and Succeed in Your Work and Personal Life without Rushing Around Like a Headless Chicken or Putting in 100 Hour Weeks",
          "The Rules of Work: A definitive code for personal success",
          "The Impact Code: 50 Ways to Enhance Your Presence and Impact at Work",
          "97 Things Every Data Engineer Should Know: Collective Wisdom from the Experts",
          "Narrative Economics: How Stories Go Viral and Drive Major Economic Events",
          "SQL Antipatterns: Avoiding the Pitfalls of Database Programming",
          "Ubiquity: The Science of History . . . or Why the World Is Simpler Than We Think",
          "Super Crunchers: Why Thinking-By-Numbers is the New Way To Be Smart",
          "The Quants: How a New Breed of Math Whizzes Conquered Wall Street and Nearly Destroyed It",
          "Fortune's Formula: The Untold Story of the Scientific Betting System That Beat the Casinos and Wall Street",
          "The Origin of Wealth: The Radical Remaking of Economics and What it Means for Business and Society",
          "How to Have Impossible Conversations: A Very Practical Guide",
          "The Stoic Challenge: A Philosopher's Guide to Becoming Tougher, Calmer, and More Resilient",
          "How to Be an Existentialist: or How to Get Real, Get a Grip and Stop Making Excuses",
          "Keep Going: 10 Ways to Stay Creative in Good Times and Bad",
          "Programming for PaaS: A Practical Guide to Coding for Platform-As-A-Service",
          "Field Guide to Urban Gardening: How to Grow Plants, No Matter Where You Live: Raised Beds • Vertical Gardening • Indoor Edibles • Balconies and Rooftops • Hydroponics",
          "Becoming a Better Programmer",
          "The Happiness Code: 10 Keys to Being the Best You Can Be",
          "Data Scientists at Work",
          "Manners That Matter Most: The Easy Guide to Etiquette At Home and In the World",
          "Hanging Man: The Arrest of Ai Weiwei",
          "Countdown to Zero Day: Stuxnet and the Launch of the World's First Digital Weapon",
          "The Power of Habit: Why We Do What We Do in Life and Business",
          "The Art of Thinking Clearly",
          "Software Craftsman, The: Professionalism, Pragmatism, Pride",
          "The Art of Connection: 7 Relationship-Building Skills Every Leader Needs Now",
          "The Hard Thing About Hard Things: Building a Business When There Are No Easy Answers",
          "A / B Testing: The Most Powerful Way to Turn Clicks Into Customers",
          "The Fuzzy and the Techie: Why the Liberal Arts Will Rule the Digital World",
          "Hacking Marketing: Agile Practices to Make Marketing Smarter, Faster, and More Innovative",
          "How to Have a Good Day: Harness the Power of Behavioral Science to Transform Your Working Life",
          "Living Paleo For Dummies",
          "Irresistible: The Rise of Addictive Technology and the Business of Keeping Us Hooked",
          "Marketing Automation For Dummies",
          "Who Gets What -- And Why: The New Economics of Matchmaking and Market Design",
          "The Mindful Athlete: Secrets to Peak Performance",
          "MARKETING ANALYTICS ROADMAP: METHODS, METRICS, AND TOOLS [Paperback] Rackley",
          "Engaging Customers Using Big Data: How Marketing Analytics Are Transforming Business",
          "Do It! Marketing: 77 Instant-Action Ideas to Boost Sales, Maximize Profits, and Crush Your Competition",
          "The Agile Marketer: Turning Customer Experience Into Your Competitive Advantage",
          "Python Testing with pytest: Simple, Rapid, Effective, and Scalable",
          "Robust Python: Write Clean and Maintainable Code",
          "Courage Is Calling: Fortune Favors the Brave",
          "DataStory: Explain Data and Inspire Action Through Story",
          "The Book of Ichigo Ichie: The Art of Making the Most of Every Moment, the Japanese Way",
          "Errornomics: Why We Make Mistakes and What We Can Do To Avoid Them",
          "How Pleasure Works: The New Science of Why We Like What We Like",
          "The Social Animal: The Hidden Sources of Love, Character, and Achievement",
          "The Tinkerers: The Amateurs, DIYers, and Inventors Who Make America Great",
          "The Last Lecture",
          "Lean UX: Creating Great Products with Agile Teams",
          "How to Speak So People Really Listen: The Straight-Talking Guide to Communicating with Influence and Impact",
          "Crucial Conversations: Tools for Talking When Stakes are High, Third Edition",
          "Graphic Design Rules: 365 Essential Dos and Don'ts",
          "Getting Things Done: The Art of Stress-Free Productivity",
          "The Tipping Point: How Little Things Can Make a Big Difference",
          "Blink: The Power of Thinking Without Thinking",
          "Outliers: The Story of Success",
          "Why Most Things Fail",
          "The Fabric of the Cosmos: Space, Time, and the Texture of Reality",
          "The Art of the Strategist: 10 Essential Principles for Leading Your Company to Victory",
          "Our Final Invention: Artificial Intelligence and the End of the Human Era",
          "Flee 9-5: Get 6 - 7 Figures and Do What You Love",
          "How to Think Like Steve Jobs",
          "1337 h4x0r h4ndb00k",
          "Smartcuts: How Hackers, Innovators, and Icons Accelerate Success",
          "Why Information Grows: The Evolution of Order, from Atoms to Economies",
          "Program or be Programmed: Ten Commands for a Digital Age",
          "Analytics at Work: Smarter Decisions, Better Results",
          "Data Mining for Managers: How to Use Data (Big and Small) to Solve Business Challenges",
          "Grit to Great: How Perseverance, Passion, and Pluck Take You from Ordinary to Extraordinary",
          "Smart Change: Five Tools to Create New and Sustainable Habits in Yourself and Others",
          "Never Split the Difference: Negotiating as if Your Life Depended on It",
          "Marketing Analytics: A practical guide to real marketing science",
          "Smarter Faster Better: The Secrets of Being Productive in Life and Business",
          "Existentialism and Excess: The Life and Times of Jean-Paul Sartre",
          "A Guide to the Good Life: The Ancient Art of Stoic Joy",
          "Uberland: How Algorithms Are Rewriting the Rules of Work",
          "The Algorithmic Leader: How to Be Smart When Machines Are Smarter Than You",
          "Practical Zen for Health, Wealth and Mindfulness",
          "23 Things They Don't Tell You about Capitalism",
          "The Misbehavior of Markets: A Fractal View of Financial Turbulence",
          "The End of Poverty: Economic Possibilities for Our Time",
          "The Strategist: The Life and Times of Thomas Schelling",
          "Micromotives and Macrobehavior",
          "A Data-Driven Company: 21 lessons for large organizations to create value from AI",
          "Be Data Literate: The Data Literacy Skills Everyone Needs To Succeed",
          "Getting Started with D3: Creating Data-Driven Documents",
          "Solo: How to Work Alone (and Not Lose Your Mind)",
          "HBR's 10 Must Reads 2020: The Definitive Management Ideas of the Year from Harvard Business Review (with bonus article \"How CEOs Manage Time\" by Michael E. Porter and Nitin Nohria)",
          "The Physics of Wall Street: A Brief History of Predicting the Unpredictable: Includes PDF",
          "Automate This: How Algorithms Came to Rule Our World",
          "I Sold Andy Warhol (Too Soon): A Memoir",
          "DATA MINING: METHODS AND TECHNIQUES [Paperback] Shawkat Ali",
          "Naked Statistics: Stripping the Dread from the Data",
          "The Art of Being Indispensable at Work: Win Influence, Beat Overcommitment, and Get the Right Things Done",
          "CSS Refactoring Architect Your Stylesheets for Success",
          "HBR's 10 Must Reads 2020: The Definitive Management Ideas of the Year from Harvard Business Review (with bonus article \"How CEOs Manage Time\" by Michael E. Porter and Nitin Nohria)",
          "Hypnotic Writing: How to Seduce and Persuade Customers with Only Your Words",
          "Data-Driven Marketing: The 15 Metrics Everyone in Marketing Should Know",
          "Geek Sublime: Writing Fiction, Coding Software",
          "The Art of a Beautiful Game: The Thinking Fan's Tour of the NBA",
          "Why I Left Goldman Sachs: A Wall Street Story",
          "The Art of Lean Software Development: A Practical and Incremental Approach",
          "I Spend, Therefore I Am: The True Cost of Economics",
          "Shipping Greatness: Lessons in Leadership from Amazon and Google",
          "Misbehaving: The Making of Behavioral Economics",
          "Statistics Done Wrong: The Woefully Complete Guide",
          "Bad Data Handbook: Cleaning Up the Data So You Can Get Back to Work",
          "Sams Teach Yourself Google AdWords in 10 Minutes",
          "Dance Dance Dance",
          "Ego Is the Enemy",
          "Essentialism: The Disciplined Pursuit of Less",
          "The Life-Changing Magic of Tidying: A simple, effective way to banish clutter forever",
          "How to Visit an Art Museum: Tips for a Truly Rewarding Visit",
          "Fluent in 3 Months: How Anyone at Any Age Can Learn to Speak Any Language from Anywhere in the World",
          "Good Stocks Cheap: Value Investing with Confidence for a Lifetime of Stock Market Outperformance",
          "The Art of Stopping Time: Practical Mindfulness for Busy People",
          "Deep Work: Rules for Focused Success in a Distracted World"
         ],
         "type": "box",
         "y": [
          56.74,
          23.54,
          19.48,
          22.89,
          27.18,
          53.2,
          47.3,
          35.31,
          33.12,
          9.6,
          24.48,
          34.13,
          20.61,
          32.75,
          22.83,
          23.3,
          35.31,
          8.23,
          15.07,
          24.28,
          25.33,
          87.99,
          49.12,
          79.95,
          12.95,
          25.38,
          24.18,
          18.97,
          19.48,
          33.87,
          20,
          19.89,
          33,
          32.27,
          23.76,
          55.61,
          32.48,
          65.99,
          38.71,
          21.61,
          24.3,
          33.27,
          26.64,
          22.07,
          69.28,
          26.38,
          28.4,
          44.71,
          30.83,
          20.65,
          21.44,
          29.91,
          35.34,
          23.94,
          20.01,
          22.35,
          35.95,
          20.58,
          17.9,
          27.7,
          25.36,
          26.57,
          26.02,
          15.52,
          20.5,
          8.23,
          24.28,
          23.27,
          27.24,
          23.86,
          24.18,
          24.79,
          21.25,
          33.74,
          21.18,
          32.84,
          24.04,
          51.94,
          30.98,
          19.09,
          39.28,
          51.62,
          19.23,
          33.2,
          44.86,
          73.14,
          53.12,
          19.85,
          28.88,
          23.82,
          23.44,
          22.36,
          38.2,
          20.55,
          45.99,
          60.27,
          32.4,
          38.67,
          60.29,
          43.7,
          22.82,
          31.53,
          52.24,
          40.64,
          28.18,
          40.18,
          26.15,
          18.43,
          20.69,
          26.44,
          22.96,
          25.52,
          18.28,
          44,
          49.05,
          23.62,
          40.64,
          28.18,
          40.18,
          25.1,
          24.43,
          30.25,
          26.21,
          41.05,
          22.08,
          21.22,
          16.89,
          30.58,
          30.49,
          45.32,
          25.14,
          53.26,
          19.98,
          13.42,
          21.58,
          14.39,
          26.19,
          43.79,
          23.22,
          25,
          30.4,
          23.6,
          30.67,
          31.95,
          23.3,
          21.48,
          30,
          21.22,
          25.42,
          33.66,
          85.91,
          42.03,
          28.07,
          48.01,
          46.25,
          23.44,
          39.96,
          24.61,
          28.51,
          32.96,
          24.29,
          45.31,
          18.37,
          39.41,
          17.76,
          25.95,
          35.53,
          20.67,
          24.74,
          21.53,
          23.11,
          20.81,
          27.37,
          83.48,
          22.72,
          21.24,
          22.18,
          42.04,
          37.14,
          27.55,
          31.39,
          77.09,
          27.97,
          22.42,
          15.72,
          33.98,
          51.08,
          20.61,
          33.95,
          30.7,
          30.59,
          25.64,
          30.39,
          27.3,
          20.99,
          24.97,
          24.18,
          34.85,
          25.27,
          28.14,
          25.83,
          56.06,
          50.36,
          29.5,
          31.34,
          24.67,
          31.56,
          22.49,
          25.83,
          23.3,
          35.31,
          24.16,
          35.2,
          37.85,
          41.9,
          42.04,
          36.63,
          21.59,
          28.66,
          42.96,
          53.74,
          20.23,
          25.22,
          29.51,
          22.01,
          24.47,
          25.22,
          36.01,
          27.28,
          33.08
         ]
        }
       ],
       "layout": {
        "autosize": false,
        "height": 650,
        "margin": {
         "b": 100,
         "l": 50,
         "pad": 2,
         "r": 50,
         "t": 100
        },
        "template": {
         "data": {
          "bar": [
           {
            "error_x": {
             "color": "#2a3f5f"
            },
            "error_y": {
             "color": "#2a3f5f"
            },
            "marker": {
             "line": {
              "color": "#E5ECF6",
              "width": 0.5
             },
             "pattern": {
              "fillmode": "overlay",
              "size": 10,
              "solidity": 0.2
             }
            },
            "type": "bar"
           }
          ],
          "barpolar": [
           {
            "marker": {
             "line": {
              "color": "#E5ECF6",
              "width": 0.5
             },
             "pattern": {
              "fillmode": "overlay",
              "size": 10,
              "solidity": 0.2
             }
            },
            "type": "barpolar"
           }
          ],
          "carpet": [
           {
            "aaxis": {
             "endlinecolor": "#2a3f5f",
             "gridcolor": "white",
             "linecolor": "white",
             "minorgridcolor": "white",
             "startlinecolor": "#2a3f5f"
            },
            "baxis": {
             "endlinecolor": "#2a3f5f",
             "gridcolor": "white",
             "linecolor": "white",
             "minorgridcolor": "white",
             "startlinecolor": "#2a3f5f"
            },
            "type": "carpet"
           }
          ],
          "choropleth": [
           {
            "colorbar": {
             "outlinewidth": 0,
             "ticks": ""
            },
            "type": "choropleth"
           }
          ],
          "contour": [
           {
            "colorbar": {
             "outlinewidth": 0,
             "ticks": ""
            },
            "colorscale": [
             [
              0,
              "#0d0887"
             ],
             [
              0.1111111111111111,
              "#46039f"
             ],
             [
              0.2222222222222222,
              "#7201a8"
             ],
             [
              0.3333333333333333,
              "#9c179e"
             ],
             [
              0.4444444444444444,
              "#bd3786"
             ],
             [
              0.5555555555555556,
              "#d8576b"
             ],
             [
              0.6666666666666666,
              "#ed7953"
             ],
             [
              0.7777777777777778,
              "#fb9f3a"
             ],
             [
              0.8888888888888888,
              "#fdca26"
             ],
             [
              1,
              "#f0f921"
             ]
            ],
            "type": "contour"
           }
          ],
          "contourcarpet": [
           {
            "colorbar": {
             "outlinewidth": 0,
             "ticks": ""
            },
            "type": "contourcarpet"
           }
          ],
          "heatmap": [
           {
            "colorbar": {
             "outlinewidth": 0,
             "ticks": ""
            },
            "colorscale": [
             [
              0,
              "#0d0887"
             ],
             [
              0.1111111111111111,
              "#46039f"
             ],
             [
              0.2222222222222222,
              "#7201a8"
             ],
             [
              0.3333333333333333,
              "#9c179e"
             ],
             [
              0.4444444444444444,
              "#bd3786"
             ],
             [
              0.5555555555555556,
              "#d8576b"
             ],
             [
              0.6666666666666666,
              "#ed7953"
             ],
             [
              0.7777777777777778,
              "#fb9f3a"
             ],
             [
              0.8888888888888888,
              "#fdca26"
             ],
             [
              1,
              "#f0f921"
             ]
            ],
            "type": "heatmap"
           }
          ],
          "heatmapgl": [
           {
            "colorbar": {
             "outlinewidth": 0,
             "ticks": ""
            },
            "colorscale": [
             [
              0,
              "#0d0887"
             ],
             [
              0.1111111111111111,
              "#46039f"
             ],
             [
              0.2222222222222222,
              "#7201a8"
             ],
             [
              0.3333333333333333,
              "#9c179e"
             ],
             [
              0.4444444444444444,
              "#bd3786"
             ],
             [
              0.5555555555555556,
              "#d8576b"
             ],
             [
              0.6666666666666666,
              "#ed7953"
             ],
             [
              0.7777777777777778,
              "#fb9f3a"
             ],
             [
              0.8888888888888888,
              "#fdca26"
             ],
             [
              1,
              "#f0f921"
             ]
            ],
            "type": "heatmapgl"
           }
          ],
          "histogram": [
           {
            "marker": {
             "pattern": {
              "fillmode": "overlay",
              "size": 10,
              "solidity": 0.2
             }
            },
            "type": "histogram"
           }
          ],
          "histogram2d": [
           {
            "colorbar": {
             "outlinewidth": 0,
             "ticks": ""
            },
            "colorscale": [
             [
              0,
              "#0d0887"
             ],
             [
              0.1111111111111111,
              "#46039f"
             ],
             [
              0.2222222222222222,
              "#7201a8"
             ],
             [
              0.3333333333333333,
              "#9c179e"
             ],
             [
              0.4444444444444444,
              "#bd3786"
             ],
             [
              0.5555555555555556,
              "#d8576b"
             ],
             [
              0.6666666666666666,
              "#ed7953"
             ],
             [
              0.7777777777777778,
              "#fb9f3a"
             ],
             [
              0.8888888888888888,
              "#fdca26"
             ],
             [
              1,
              "#f0f921"
             ]
            ],
            "type": "histogram2d"
           }
          ],
          "histogram2dcontour": [
           {
            "colorbar": {
             "outlinewidth": 0,
             "ticks": ""
            },
            "colorscale": [
             [
              0,
              "#0d0887"
             ],
             [
              0.1111111111111111,
              "#46039f"
             ],
             [
              0.2222222222222222,
              "#7201a8"
             ],
             [
              0.3333333333333333,
              "#9c179e"
             ],
             [
              0.4444444444444444,
              "#bd3786"
             ],
             [
              0.5555555555555556,
              "#d8576b"
             ],
             [
              0.6666666666666666,
              "#ed7953"
             ],
             [
              0.7777777777777778,
              "#fb9f3a"
             ],
             [
              0.8888888888888888,
              "#fdca26"
             ],
             [
              1,
              "#f0f921"
             ]
            ],
            "type": "histogram2dcontour"
           }
          ],
          "mesh3d": [
           {
            "colorbar": {
             "outlinewidth": 0,
             "ticks": ""
            },
            "type": "mesh3d"
           }
          ],
          "parcoords": [
           {
            "line": {
             "colorbar": {
              "outlinewidth": 0,
              "ticks": ""
             }
            },
            "type": "parcoords"
           }
          ],
          "pie": [
           {
            "automargin": true,
            "type": "pie"
           }
          ],
          "scatter": [
           {
            "marker": {
             "colorbar": {
              "outlinewidth": 0,
              "ticks": ""
             }
            },
            "type": "scatter"
           }
          ],
          "scatter3d": [
           {
            "line": {
             "colorbar": {
              "outlinewidth": 0,
              "ticks": ""
             }
            },
            "marker": {
             "colorbar": {
              "outlinewidth": 0,
              "ticks": ""
             }
            },
            "type": "scatter3d"
           }
          ],
          "scattercarpet": [
           {
            "marker": {
             "colorbar": {
              "outlinewidth": 0,
              "ticks": ""
             }
            },
            "type": "scattercarpet"
           }
          ],
          "scattergeo": [
           {
            "marker": {
             "colorbar": {
              "outlinewidth": 0,
              "ticks": ""
             }
            },
            "type": "scattergeo"
           }
          ],
          "scattergl": [
           {
            "marker": {
             "colorbar": {
              "outlinewidth": 0,
              "ticks": ""
             }
            },
            "type": "scattergl"
           }
          ],
          "scattermapbox": [
           {
            "marker": {
             "colorbar": {
              "outlinewidth": 0,
              "ticks": ""
             }
            },
            "type": "scattermapbox"
           }
          ],
          "scatterpolar": [
           {
            "marker": {
             "colorbar": {
              "outlinewidth": 0,
              "ticks": ""
             }
            },
            "type": "scatterpolar"
           }
          ],
          "scatterpolargl": [
           {
            "marker": {
             "colorbar": {
              "outlinewidth": 0,
              "ticks": ""
             }
            },
            "type": "scatterpolargl"
           }
          ],
          "scatterternary": [
           {
            "marker": {
             "colorbar": {
              "outlinewidth": 0,
              "ticks": ""
             }
            },
            "type": "scatterternary"
           }
          ],
          "surface": [
           {
            "colorbar": {
             "outlinewidth": 0,
             "ticks": ""
            },
            "colorscale": [
             [
              0,
              "#0d0887"
             ],
             [
              0.1111111111111111,
              "#46039f"
             ],
             [
              0.2222222222222222,
              "#7201a8"
             ],
             [
              0.3333333333333333,
              "#9c179e"
             ],
             [
              0.4444444444444444,
              "#bd3786"
             ],
             [
              0.5555555555555556,
              "#d8576b"
             ],
             [
              0.6666666666666666,
              "#ed7953"
             ],
             [
              0.7777777777777778,
              "#fb9f3a"
             ],
             [
              0.8888888888888888,
              "#fdca26"
             ],
             [
              1,
              "#f0f921"
             ]
            ],
            "type": "surface"
           }
          ],
          "table": [
           {
            "cells": {
             "fill": {
              "color": "#EBF0F8"
             },
             "line": {
              "color": "white"
             }
            },
            "header": {
             "fill": {
              "color": "#C8D4E3"
             },
             "line": {
              "color": "white"
             }
            },
            "type": "table"
           }
          ]
         },
         "layout": {
          "annotationdefaults": {
           "arrowcolor": "#2a3f5f",
           "arrowhead": 0,
           "arrowwidth": 1
          },
          "autotypenumbers": "strict",
          "coloraxis": {
           "colorbar": {
            "outlinewidth": 0,
            "ticks": ""
           }
          },
          "colorscale": {
           "diverging": [
            [
             0,
             "#8e0152"
            ],
            [
             0.1,
             "#c51b7d"
            ],
            [
             0.2,
             "#de77ae"
            ],
            [
             0.3,
             "#f1b6da"
            ],
            [
             0.4,
             "#fde0ef"
            ],
            [
             0.5,
             "#f7f7f7"
            ],
            [
             0.6,
             "#e6f5d0"
            ],
            [
             0.7,
             "#b8e186"
            ],
            [
             0.8,
             "#7fbc41"
            ],
            [
             0.9,
             "#4d9221"
            ],
            [
             1,
             "#276419"
            ]
           ],
           "sequential": [
            [
             0,
             "#0d0887"
            ],
            [
             0.1111111111111111,
             "#46039f"
            ],
            [
             0.2222222222222222,
             "#7201a8"
            ],
            [
             0.3333333333333333,
             "#9c179e"
            ],
            [
             0.4444444444444444,
             "#bd3786"
            ],
            [
             0.5555555555555556,
             "#d8576b"
            ],
            [
             0.6666666666666666,
             "#ed7953"
            ],
            [
             0.7777777777777778,
             "#fb9f3a"
            ],
            [
             0.8888888888888888,
             "#fdca26"
            ],
            [
             1,
             "#f0f921"
            ]
           ],
           "sequentialminus": [
            [
             0,
             "#0d0887"
            ],
            [
             0.1111111111111111,
             "#46039f"
            ],
            [
             0.2222222222222222,
             "#7201a8"
            ],
            [
             0.3333333333333333,
             "#9c179e"
            ],
            [
             0.4444444444444444,
             "#bd3786"
            ],
            [
             0.5555555555555556,
             "#d8576b"
            ],
            [
             0.6666666666666666,
             "#ed7953"
            ],
            [
             0.7777777777777778,
             "#fb9f3a"
            ],
            [
             0.8888888888888888,
             "#fdca26"
            ],
            [
             1,
             "#f0f921"
            ]
           ]
          },
          "colorway": [
           "#636efa",
           "#EF553B",
           "#00cc96",
           "#ab63fa",
           "#FFA15A",
           "#19d3f3",
           "#FF6692",
           "#B6E880",
           "#FF97FF",
           "#FECB52"
          ],
          "font": {
           "color": "#2a3f5f"
          },
          "geo": {
           "bgcolor": "white",
           "lakecolor": "white",
           "landcolor": "#E5ECF6",
           "showlakes": true,
           "showland": true,
           "subunitcolor": "white"
          },
          "hoverlabel": {
           "align": "left"
          },
          "hovermode": "closest",
          "mapbox": {
           "style": "light"
          },
          "paper_bgcolor": "white",
          "plot_bgcolor": "#E5ECF6",
          "polar": {
           "angularaxis": {
            "gridcolor": "white",
            "linecolor": "white",
            "ticks": ""
           },
           "bgcolor": "#E5ECF6",
           "radialaxis": {
            "gridcolor": "white",
            "linecolor": "white",
            "ticks": ""
           }
          },
          "scene": {
           "xaxis": {
            "backgroundcolor": "#E5ECF6",
            "gridcolor": "white",
            "gridwidth": 2,
            "linecolor": "white",
            "showbackground": true,
            "ticks": "",
            "zerolinecolor": "white"
           },
           "yaxis": {
            "backgroundcolor": "#E5ECF6",
            "gridcolor": "white",
            "gridwidth": 2,
            "linecolor": "white",
            "showbackground": true,
            "ticks": "",
            "zerolinecolor": "white"
           },
           "zaxis": {
            "backgroundcolor": "#E5ECF6",
            "gridcolor": "white",
            "gridwidth": 2,
            "linecolor": "white",
            "showbackground": true,
            "ticks": "",
            "zerolinecolor": "white"
           }
          },
          "shapedefaults": {
           "line": {
            "color": "#2a3f5f"
           }
          },
          "ternary": {
           "aaxis": {
            "gridcolor": "white",
            "linecolor": "white",
            "ticks": ""
           },
           "baxis": {
            "gridcolor": "white",
            "linecolor": "white",
            "ticks": ""
           },
           "bgcolor": "#E5ECF6",
           "caxis": {
            "gridcolor": "white",
            "linecolor": "white",
            "ticks": ""
           }
          },
          "title": {
           "x": 0.05
          },
          "xaxis": {
           "automargin": true,
           "gridcolor": "white",
           "linecolor": "white",
           "ticks": "",
           "title": {
            "standoff": 15
           },
           "zerolinecolor": "white",
           "zerolinewidth": 2
          },
          "yaxis": {
           "automargin": true,
           "gridcolor": "white",
           "linecolor": "white",
           "ticks": "",
           "title": {
            "standoff": 15
           },
           "zerolinecolor": "white",
           "zerolinewidth": 2
          }
         }
        },
        "title": {
         "text": "Book Prices"
        },
        "width": 800,
        "xaxis": {
         "autorange": true,
         "range": [
          -0.5043352601156069,
          0.5
         ],
         "type": "category"
        },
        "yaxis": {
         "autorange": true,
         "range": [
          3.7988888888888903,
          92.4211111111111
         ],
         "title": {
          "text": "$ (SGD)"
         },
         "type": "linear"
        }
       }
      },
      "image/png": "[encoded data removed]",
      "text/html": [
       "<div>                            <div id=\"a775953a-0674-4f00-a2ac-3ef3e00dd696\" class=\"plotly-graph-div\" style=\"height:650px; width:800px;\"></div>            <script type=\"text/javascript\">                require([\"plotly\"], function(Plotly) {                    window.PLOTLYENV=window.PLOTLYENV || {};                                    if (document.getElementById(\"a775953a-0674-4f00-a2ac-3ef3e00dd696\")) {                    Plotly.newPlot(                        \"a775953a-0674-4f00-a2ac-3ef3e00dd696\",                        [{\"name\":\"book prices\",\"text\":[\"Seven Steps to Train Your Mind\",\"The Obstacle Is the Way: The Timeless Art of Turning Trials into Triumph\",\"Growth Hacker Marketing: A Primer on the Future of PR, Marketing, and Advertising\",\"Trust Me, I'm Lying: Confessions of a Media Manipulator\",\"Making Habits, Breaking Habits: Why We Do Things, Why We Don't, and How to Make Any Change Stick\",\"Innovation Generation: How to Produce Creative and Useful Scientific Ideas\",\"Web Scraping with Python, 2e: Collecting More Data from the Modern Web\",\"Introduction to Algorithmic Marketing: Artificial Intelligence for Marketing Operations\",\"Big Data: Understanding How Data Powers Big Business\",\"Colorless Tsukuru Tazaki and His Years of Pilgrimage\",\"The Cartoon Introduction to Philosophy\",\"Measure What Matters: How Google, Bono, and the Gates Foundation Rock the World with OKRs\",\"Breaking and Entering: eleven stories\",\"The Four: The Hidden DNA of Amazon, Apple, Facebook, and Google\",\"Stillness Is the Key\",\"Hypnotic Writing: How to Seduce and Persuade Customers with Only Your Words\",\"Data-Driven Marketing: The 15 Metrics Everyone in Marketing Should Know\",\"Design Things that Make Sense: Tech. Innovator's Guide\",\"The Little Book of Ikigai: The secret Japanese way to live a happy and long life\",\"Small Giants: Companies That Choose to Be Great Instead of Big, 10th-Anniversary Edition\",\"We Are Anonymous: Inside the Hacker World of LulzSec, Anonymous, and the Global Cyber Insurgency\",\"Uncharted: Big Data as a Lens on Human Culture\",\"How to Read a Modern Painting: Understanding and Enjoying the Modern Masters\",\"50 Artists: You Should Know\",\"Escape from Camp 14: One Man's Remarkable Odyssey from North Korea to Freedom in the West\",\"Identity Economics\",\"Predictably Irrational, Revised and Expanded Edition: The Hidden Forces That Shape Our Decisions\",\"The Upside of Irrationality: The Unexpected Benefits of Defying Logic\",\"The Paradox of Choice: Why More Is Less, Revised Edition\",\"Prophet of Innovation: Joseph Schumpeter and Creative Destruction\",\"Ask Your Developer: How to Harness the Power of Software Developers and Win in the 21st Century\",\"Working Backwards: Insights, Stories, and Secrets from Inside Amazon\",\"Generating Business Referrals Without Asking: A Simple Five Step Plan to a Referral Explosion\",\"Negotiating the Sweet Spot: The Art of Leaving Nothing on the Table\",\"The Culture Code: The Secrets of Highly Successful Groups\",\"Rebel Buddha: A Guide to a Revolution of Mind\",\"Peace Is Every Breath: A Practice for Our Busy Lives\",\"Teachings on Love\",\"Forecast: What Physics, Meteorology, and the Natural Sciences Can Teach Us About Economics\",\"Big Data: A Revolution That Will Transform How We Live, Work, and Think\",\"The Science of Growth: How Facebook Beat Friendster--and How Nine Other Startups Left the Rest in the Dust\",\"So Good They Can't Ignore You\",\"The Success Equation: Untangling Skill and Luck in Business, Sports, and Investing\",\"The Numbers Game: Why Everything You Know About Soccer Is Wrong\",\"Payoff: The Hidden Logic That Shapes Our Motivations\",\"A PRACTITIONER'S GUIDE TO BUSINESS ANALYTICS: Using Data Analysis Tools to Improve Your Organization\\u2019s Decision Making and Strategy\",\"Nudge: Improving Decisions About Health, Wealth, and Happiness\",\"The Digital Marketer: Ten New Skills You Must Learn to Stay Relevant and Customer-Centric\",\"Simple Rules: How to Thrive in a Complex World\",\"Data Driven Marketing For Dummies\",\"Men Without Women: Stories\",\"The Strange Library\",\"Atomic Habits: An Easy & Proven Way to Build Good Habits & Break Bad Ones\",\"The Power of Moments: Why Certain Experiences Have Extraordinary Impact\",\"How To Be A Stoic: Ancient Wisdom for Modern Living\",\"The Art of Communicating\",\"What I Talk About When I Talk About Running: A Memoir\",\"Quiet Influence: The Introvert's Guide to Making a Difference\",\"Mindfulness on the Go: Discover How to be Mindful Wherever You are\\u2015at Home or Work, on Your Daily Commute, or Whenever You'Re on the Move\",\"Quiet: The Power of Introverts in a World That Can't Stop Talking\",\"The New Confessions of an Economic Hit Man\",\"Hoodwinked: An Economic Hit Man Reveals Why the Global Economy IMPLODED -- and How to Fix It\",\"Peddling Prosperity: Economic Sense and Nonsense in an Age of Diminished Expectations\",\"The Worldly Philosophers: The Lives, Times, and Ideas of the Great Economic Thinkers\",\"Freakonomics: A Rogue Economist Explores the Hidden Side of Everything\",\"The Tyranny of Metrics\",\"Design Things that Make Sense: Tech. Innovator's Guide\",\"Small Giants: Companies That Choose to Be Great Instead of Big, 10th-Anniversary Edition\",\"The Art of Creative Thinking\",\"The Myths of Innovation\",\"Antifragile: Things That Gain from Disorder: 3\",\"The Honest Truth About Dishonesty: How We Lie to Everyone--Especially Ourselves\",\"The Signal and the Noise: Why So Many Predictions Fail--but Some Don't\",\"Average Is Over: Powering America Beyond the Age of the Great Stagnation\",\"The Secret Language of Competitive Intelligence: How to See Through And Stay Ahead of Business Disruptions, Distortions, Rumors, And Smoke Screens\",\"How to Fail at Almost Everything and Still Win Big: Kind of the Story of My Life\",\"Think Like Zuck: The Five Business Secrets of Facebook's Improbably Brilliant CEO Mark Zuckerberg\",\"The Power Of Less: The Fine Art of Limiting Yourself to the Essential\",\"The Effective Engineer: How to Leverage Your Efforts In Software Engineering to Make a Disproportionate and Meaningful Impact\",\"Barking Up the Wrong Tree: The Surprising Science Behind Why Everything You Know About Success Is (Mostly) Wrong\",\"Mind Hacking: How to Change Your Mind for Good in 21 Days\",\"Lean Analytics: Use Data to Build a Better Startup Faster\",\"The Art of Readable Code: Simple and Practical Techniques for Writing Better Code\",\"The Mathematical Corporation: Where Machine Intelligence and Human Ingenuity Achieve the Impossible\",\"The Rise of the Platform Marketer: Performance Marketing with Google, Facebook, and Twitter, Plus the Latest High-Growth Digital Advertising Platforms\",\"Does It Work?: 10 Principles for Delivering True Business Value in Digital Marketing\",\"Digital Relevance: Developing Marketing Content and Strategies that Drive Results\",\"Converge: Transforming Business at the Intersection of Marketing and Technology\",\"Weapons of Math Destruction: How Big Data Increases Inequality and Threatens Democracy\",\"Rejection Proof: How I Beat Fear and Became Invincible Through 100 Days of Rejection\",\"How to Think Like Einstein: Simple Ways to Break the Rules and Discover Your Hidden Genius\",\"Mastermind: How to Think Like Sherlock Holmes\",\"Yoga Wisdom at Work: Finding Sanity Off the Mat and On the Job\",\"Sensemaking: The Power of the Humanities in the Age of the Algorithm\",\"Insight: The Surprising Truth about How Others See Us, How We See Ourselves, and Why the Answers Matter More Than We Think\",\"Listful Thinking: Using Lists to Be More Productive, Successful and Less Stressed (Chinese Edition)\",\"How to Talk to Anyone, Getting Things Done, Secrets of the Millionaire Mind 3 Books Collection Set\",\"Make Time: How to Focus on What Matters Every Day\",\"Search Engine Optimization (SEO): Search Marketing\",\"Seo: Step-by-step beginners' guide to dominate the first page using Google Analytics, Adwords etc.\",\"SEO Warrior: Essential Techniques for Increasing Web Visibility\",\"The Power of Experiments: Decision Making in a Data-Driven World\",\"Shorter: Work Better, Smarter, and Less--Here's How\",\"Software Engineering at Google: Lessons Learned from Programming Over Time\",\"97 Things Every Data Engineer Should Know: Collective Wisdom from the Experts\",\"Narrative Economics: How Stories Go Viral and Drive Major Economic Events\",\"SQL Antipatterns: Avoiding the Pitfalls of Database Programming\",\"Economyths: Ten Ways That Economics Gets it Wrong\",\"Dark Pools: The rise of A.I. trading machines and the looming threat to Wall Street\",\"Man's Search for Meaning\",\"1Q84\",\"This Will Make You Smarter: New Scientific Concepts to Improve Your Thinking\",\"Clean Coder, The: A Code of Conduct for Professional Programmers\",\"Real Happiness at Work: Meditations for Accomplishment, Achievement, and Peace\",\"The Lazy Winner: How to Do More with Less Effort and Succeed in Your Work and Personal Life without Rushing Around Like a Headless Chicken or Putting in 100 Hour Weeks\",\"The Rules of Work: A definitive code for personal success\",\"The Impact Code: 50 Ways to Enhance Your Presence and Impact at Work\",\"97 Things Every Data Engineer Should Know: Collective Wisdom from the Experts\",\"Narrative Economics: How Stories Go Viral and Drive Major Economic Events\",\"SQL Antipatterns: Avoiding the Pitfalls of Database Programming\",\"Ubiquity: The Science of History . . . or Why the World Is Simpler Than We Think\",\"Super Crunchers: Why Thinking-By-Numbers is the New Way To Be Smart\",\"The Quants: How a New Breed of Math Whizzes Conquered Wall Street and Nearly Destroyed It\",\"Fortune's Formula: The Untold Story of the Scientific Betting System That Beat the Casinos and Wall Street\",\"The Origin of Wealth: The Radical Remaking of Economics and What it Means for Business and Society\",\"How to Have Impossible Conversations: A Very Practical Guide\",\"The Stoic Challenge: A Philosopher's Guide to Becoming Tougher, Calmer, and More Resilient\",\"How to Be an Existentialist: or How to Get Real, Get a Grip and Stop Making Excuses\",\"Keep Going: 10 Ways to Stay Creative in Good Times and Bad\",\"Programming for PaaS: A Practical Guide to Coding for Platform-As-A-Service\",\"Field Guide to Urban Gardening: How to Grow Plants, No Matter Where You Live: Raised Beds \\u2022 Vertical Gardening \\u2022 Indoor Edibles \\u2022 Balconies and Rooftops \\u2022 Hydroponics\",\"Becoming a Better Programmer\",\"The Happiness Code: 10 Keys to Being the Best You Can Be\",\"Data Scientists at Work\",\"Manners That Matter Most: The Easy Guide to Etiquette At Home and In the World\",\"Hanging Man: The Arrest of Ai Weiwei\",\"Countdown to Zero Day: Stuxnet and the Launch of the World's First Digital Weapon\",\"The Power of Habit: Why We Do What We Do in Life and Business\",\"The Art of Thinking Clearly\",\"Software Craftsman, The: Professionalism, Pragmatism, Pride\",\"The Art of Connection: 7 Relationship-Building Skills Every Leader Needs Now\",\"The Hard Thing About Hard Things: Building a Business When There Are No Easy Answers\",\"A / B Testing: The Most Powerful Way to Turn Clicks Into Customers\",\"The Fuzzy and the Techie: Why the Liberal Arts Will Rule the Digital World\",\"Hacking Marketing: Agile Practices to Make Marketing Smarter, Faster, and More Innovative\",\"How to Have a Good Day: Harness the Power of Behavioral Science to Transform Your Working Life\",\"Living Paleo For Dummies\",\"Irresistible: The Rise of Addictive Technology and the Business of Keeping Us Hooked\",\"Marketing Automation For Dummies\",\"Who Gets What -- And Why: The New Economics of Matchmaking and Market Design\",\"The Mindful Athlete: Secrets to Peak Performance\",\"MARKETING ANALYTICS ROADMAP: METHODS, METRICS, AND TOOLS [Paperback] Rackley\",\"Engaging Customers Using Big Data: How Marketing Analytics Are Transforming Business\",\"Do It! Marketing: 77 Instant-Action Ideas to Boost Sales, Maximize Profits, and Crush Your Competition\",\"The Agile Marketer: Turning Customer Experience Into Your Competitive Advantage\",\"Python Testing with pytest: Simple, Rapid, Effective, and Scalable\",\"Robust Python: Write Clean and Maintainable Code\",\"Courage Is Calling: Fortune Favors the Brave\",\"DataStory: Explain Data and Inspire Action Through Story\",\"The Book of Ichigo Ichie: The Art of Making the Most of Every Moment, the Japanese Way\",\"Errornomics: Why We Make Mistakes and What We Can Do To Avoid Them\",\"How Pleasure Works: The New Science of Why We Like What We Like\",\"The Social Animal: The Hidden Sources of Love, Character, and Achievement\",\"The Tinkerers: The Amateurs, DIYers, and Inventors Who Make America Great\",\"The Last Lecture\",\"Lean UX: Creating Great Products with Agile Teams\",\"How to Speak So People Really Listen: The Straight-Talking Guide to Communicating with Influence and Impact\",\"Crucial Conversations: Tools for Talking When Stakes are High, Third Edition\",\"Graphic Design Rules: 365 Essential Dos and Don'ts\",\"Getting Things Done: The Art of Stress-Free Productivity\",\"The Tipping Point: How Little Things Can Make a Big Difference\",\"Blink: The Power of Thinking Without Thinking\",\"Outliers: The Story of Success\",\"Why Most Things Fail\",\"The Fabric of the Cosmos: Space, Time, and the Texture of Reality\",\"The Art of the Strategist: 10 Essential Principles for Leading Your Company to Victory\",\"Our Final Invention: Artificial Intelligence and the End of the Human Era\",\"Flee 9-5: Get 6 - 7 Figures and Do What You Love\",\"How to Think Like Steve Jobs\",\"1337 h4x0r h4ndb00k\",\"Smartcuts: How Hackers, Innovators, and Icons Accelerate Success\",\"Why Information Grows: The Evolution of Order, from Atoms to Economies\",\"Program or be Programmed: Ten Commands for a Digital Age\",\"Analytics at Work: Smarter Decisions, Better Results\",\"Data Mining for Managers: How to Use Data (Big and Small) to Solve Business Challenges\",\"Grit to Great: How Perseverance, Passion, and Pluck Take You from Ordinary to Extraordinary\",\"Smart Change: Five Tools to Create New and Sustainable Habits in Yourself and Others\",\"Never Split the Difference: Negotiating as if Your Life Depended on It\",\"Marketing Analytics: A practical guide to real marketing science\",\"Smarter Faster Better: The Secrets of Being Productive in Life and Business\",\"Existentialism and Excess: The Life and Times of Jean-Paul Sartre\",\"A Guide to the Good Life: The Ancient Art of Stoic Joy\",\"Uberland: How Algorithms Are Rewriting the Rules of Work\",\"The Algorithmic Leader: How to Be Smart When Machines Are Smarter Than You\",\"Practical Zen for Health, Wealth and Mindfulness\",\"23 Things They Don't Tell You about Capitalism\",\"The Misbehavior of Markets: A Fractal View of Financial Turbulence\",\"The End of Poverty: Economic Possibilities for Our Time\",\"The Strategist: The Life and Times of Thomas Schelling\",\"Micromotives and Macrobehavior\",\"A Data-Driven Company: 21 lessons for large organizations to create value from AI\",\"Be Data Literate: The Data Literacy Skills Everyone Needs To Succeed\",\"Getting Started with D3: Creating Data-Driven Documents\",\"Solo: How to Work Alone (and Not Lose Your Mind)\",\"HBR's 10 Must Reads 2020: The Definitive Management Ideas of the Year from Harvard Business Review (with bonus article \\\"How CEOs Manage Time\\\" by Michael E. Porter and Nitin Nohria)\",\"The Physics of Wall Street: A Brief History of Predicting the Unpredictable: Includes PDF\",\"Automate This: How Algorithms Came to Rule Our World\",\"I Sold Andy Warhol (Too Soon): A Memoir\",\"DATA MINING: METHODS AND TECHNIQUES [Paperback] Shawkat Ali\",\"Naked Statistics: Stripping the Dread from the Data\",\"The Art of Being Indispensable at Work: Win Influence, Beat Overcommitment, and Get the Right Things Done\",\"CSS Refactoring Architect Your Stylesheets for Success\",\"HBR's 10 Must Reads 2020: The Definitive Management Ideas of the Year from Harvard Business Review (with bonus article \\\"How CEOs Manage Time\\\" by Michael E. Porter and Nitin Nohria)\",\"Hypnotic Writing: How to Seduce and Persuade Customers with Only Your Words\",\"Data-Driven Marketing: The 15 Metrics Everyone in Marketing Should Know\",\"Geek Sublime: Writing Fiction, Coding Software\",\"The Art of a Beautiful Game: The Thinking Fan's Tour of the NBA\",\"Why I Left Goldman Sachs: A Wall Street Story\",\"The Art of Lean Software Development: A Practical and Incremental Approach\",\"I Spend, Therefore I Am: The True Cost of Economics\",\"Shipping Greatness: Lessons in Leadership from Amazon and Google\",\"Misbehaving: The Making of Behavioral Economics\",\"Statistics Done Wrong: The Woefully Complete Guide\",\"Bad Data Handbook: Cleaning Up the Data So You Can Get Back to Work\",\"Sams Teach Yourself Google AdWords in 10 Minutes\",\"Dance Dance Dance\",\"Ego Is the Enemy\",\"Essentialism: The Disciplined Pursuit of Less\",\"The Life-Changing Magic of Tidying: A simple, effective way to banish clutter forever\",\"How to Visit an Art Museum: Tips for a Truly Rewarding Visit\",\"Fluent in 3 Months: How Anyone at Any Age Can Learn to Speak Any Language from Anywhere in the World\",\"Good Stocks Cheap: Value Investing with Confidence for a Lifetime of Stock Market Outperformance\",\"The Art of Stopping Time: Practical Mindfulness for Busy People\",\"Deep Work: Rules for Focused Success in a Distracted World\"],\"y\":[56.74,23.54,19.48,22.89,27.18,53.2,47.3,35.31,33.12,9.6,24.48,34.13,20.61,32.75,22.83,23.3,35.31,8.23,15.07,24.28,25.33,87.99,49.12,79.95,12.95,25.38,24.18,18.97,19.48,33.87,20.0,19.89,33.0,32.27,23.76,55.61,32.48,65.99,38.71,21.61,24.3,33.27,26.64,22.07,69.28,26.38,28.4,44.71,30.83,20.65,21.44,29.91,35.34,23.94,20.01,22.35,35.95,20.58,17.9,27.7,25.36,26.57,26.02,15.52,20.5,8.23,24.28,23.27,27.24,23.86,24.18,24.79,21.25,33.74,21.18,32.84,24.04,51.94,30.98,19.09,39.28,51.62,19.23,33.2,44.86,73.14,53.12,19.85,28.88,23.82,23.44,22.36,38.2,20.55,45.99,60.27,32.4,38.67,60.29,43.7,22.82,31.53,52.24,40.64,28.18,40.18,26.15,18.43,20.69,26.44,22.96,25.52,18.28,44.0,49.05,23.62,40.64,28.18,40.18,25.1,24.43,30.25,26.21,41.05,22.08,21.22,16.89,30.58,30.49,45.32,25.14,53.26,19.98,13.42,21.58,14.39,26.19,43.79,23.22,25.0,30.4,23.6,30.67,31.95,23.3,21.48,30.0,21.22,25.42,33.66,85.91,42.03,28.07,48.01,46.25,23.44,39.96,24.61,28.51,32.96,24.29,45.31,18.37,39.41,17.76,25.95,35.53,20.67,24.74,21.53,23.11,20.81,27.37,83.48,22.72,21.24,22.18,42.04,37.14,27.55,31.39,77.09,27.97,22.42,15.72,33.98,51.08,20.61,33.95,30.7,30.59,25.64,30.39,27.3,20.99,24.97,24.18,34.85,25.27,28.14,25.83,56.06,50.36,29.5,31.34,24.67,31.56,22.49,25.83,23.3,35.31,24.16,35.2,37.85,41.9,42.04,36.63,21.59,28.66,42.96,53.74,20.23,25.22,29.51,22.01,24.47,25.22,36.01,27.28,33.08],\"type\":\"box\",\"boxpoints\":\"all\",\"jitter\":0}],                        {\"template\":{\"data\":{\"bar\":[{\"error_x\":{\"color\":\"#2a3f5f\"},\"error_y\":{\"color\":\"#2a3f5f\"},\"marker\":{\"line\":{\"color\":\"#E5ECF6\",\"width\":0.5},\"pattern\":{\"fillmode\":\"overlay\",\"size\":10,\"solidity\":0.2}},\"type\":\"bar\"}],\"barpolar\":[{\"marker\":{\"line\":{\"color\":\"#E5ECF6\",\"width\":0.5},\"pattern\":{\"fillmode\":\"overlay\",\"size\":10,\"solidity\":0.2}},\"type\":\"barpolar\"}],\"carpet\":[{\"aaxis\":{\"endlinecolor\":\"#2a3f5f\",\"gridcolor\":\"white\",\"linecolor\":\"white\",\"minorgridcolor\":\"white\",\"startlinecolor\":\"#2a3f5f\"},\"baxis\":{\"endlinecolor\":\"#2a3f5f\",\"gridcolor\":\"white\",\"linecolor\":\"white\",\"minorgridcolor\":\"white\",\"startlinecolor\":\"#2a3f5f\"},\"type\":\"carpet\"}],\"choropleth\":[{\"colorbar\":{\"outlinewidth\":0,\"ticks\":\"\"},\"type\":\"choropleth\"}],\"contour\":[{\"colorbar\":{\"outlinewidth\":0,\"ticks\":\"\"},\"colorscale\":[[0.0,\"#0d0887\"],[0.1111111111111111,\"#46039f\"],[0.2222222222222222,\"#7201a8\"],[0.3333333333333333,\"#9c179e\"],[0.4444444444444444,\"#bd3786\"],[0.5555555555555556,\"#d8576b\"],[0.6666666666666666,\"#ed7953\"],[0.7777777777777778,\"#fb9f3a\"],[0.8888888888888888,\"#fdca26\"],[1.0,\"#f0f921\"]],\"type\":\"contour\"}],\"contourcarpet\":[{\"colorbar\":{\"outlinewidth\":0,\"ticks\":\"\"},\"type\":\"contourcarpet\"}],\"heatmap\":[{\"colorbar\":{\"outlinewidth\":0,\"ticks\":\"\"},\"colorscale\":[[0.0,\"#0d0887\"],[0.1111111111111111,\"#46039f\"],[0.2222222222222222,\"#7201a8\"],[0.3333333333333333,\"#9c179e\"],[0.4444444444444444,\"#bd3786\"],[0.5555555555555556,\"#d8576b\"],[0.6666666666666666,\"#ed7953\"],[0.7777777777777778,\"#fb9f3a\"],[0.8888888888888888,\"#fdca26\"],[1.0,\"#f0f921\"]],\"type\":\"heatmap\"}],\"heatmapgl\":[{\"colorbar\":{\"outlinewidth\":0,\"ticks\":\"\"},\"colorscale\":[[0.0,\"#0d0887\"],[0.1111111111111111,\"#46039f\"],[0.2222222222222222,\"#7201a8\"],[0.3333333333333333,\"#9c179e\"],[0.4444444444444444,\"#bd3786\"],[0.5555555555555556,\"#d8576b\"],[0.6666666666666666,\"#ed7953\"],[0.7777777777777778,\"#fb9f3a\"],[0.8888888888888888,\"#fdca26\"],[1.0,\"#f0f921\"]],\"type\":\"heatmapgl\"}],\"histogram\":[{\"marker\":{\"pattern\":{\"fillmode\":\"overlay\",\"size\":10,\"solidity\":0.2}},\"type\":\"histogram\"}],\"histogram2d\":[{\"colorbar\":{\"outlinewidth\":0,\"ticks\":\"\"},\"colorscale\":[[0.0,\"#0d0887\"],[0.1111111111111111,\"#46039f\"],[0.2222222222222222,\"#7201a8\"],[0.3333333333333333,\"#9c179e\"],[0.4444444444444444,\"#bd3786\"],[0.5555555555555556,\"#d8576b\"],[0.6666666666666666,\"#ed7953\"],[0.7777777777777778,\"#fb9f3a\"],[0.8888888888888888,\"#fdca26\"],[1.0,\"#f0f921\"]],\"type\":\"histogram2d\"}],\"histogram2dcontour\":[{\"colorbar\":{\"outlinewidth\":0,\"ticks\":\"\"},\"colorscale\":[[0.0,\"#0d0887\"],[0.1111111111111111,\"#46039f\"],[0.2222222222222222,\"#7201a8\"],[0.3333333333333333,\"#9c179e\"],[0.4444444444444444,\"#bd3786\"],[0.5555555555555556,\"#d8576b\"],[0.6666666666666666,\"#ed7953\"],[0.7777777777777778,\"#fb9f3a\"],[0.8888888888888888,\"#fdca26\"],[1.0,\"#f0f921\"]],\"type\":\"histogram2dcontour\"}],\"mesh3d\":[{\"colorbar\":{\"outlinewidth\":0,\"ticks\":\"\"},\"type\":\"mesh3d\"}],\"parcoords\":[{\"line\":{\"colorbar\":{\"outlinewidth\":0,\"ticks\":\"\"}},\"type\":\"parcoords\"}],\"pie\":[{\"automargin\":true,\"type\":\"pie\"}],\"scatter\":[{\"marker\":{\"colorbar\":{\"outlinewidth\":0,\"ticks\":\"\"}},\"type\":\"scatter\"}],\"scatter3d\":[{\"line\":{\"colorbar\":{\"outlinewidth\":0,\"ticks\":\"\"}},\"marker\":{\"colorbar\":{\"outlinewidth\":0,\"ticks\":\"\"}},\"type\":\"scatter3d\"}],\"scattercarpet\":[{\"marker\":{\"colorbar\":{\"outlinewidth\":0,\"ticks\":\"\"}},\"type\":\"scattercarpet\"}],\"scattergeo\":[{\"marker\":{\"colorbar\":{\"outlinewidth\":0,\"ticks\":\"\"}},\"type\":\"scattergeo\"}],\"scattergl\":[{\"marker\":{\"colorbar\":{\"outlinewidth\":0,\"ticks\":\"\"}},\"type\":\"scattergl\"}],\"scattermapbox\":[{\"marker\":{\"colorbar\":{\"outlinewidth\":0,\"ticks\":\"\"}},\"type\":\"scattermapbox\"}],\"scatterpolar\":[{\"marker\":{\"colorbar\":{\"outlinewidth\":0,\"ticks\":\"\"}},\"type\":\"scatterpolar\"}],\"scatterpolargl\":[{\"marker\":{\"colorbar\":{\"outlinewidth\":0,\"ticks\":\"\"}},\"type\":\"scatterpolargl\"}],\"scatterternary\":[{\"marker\":{\"colorbar\":{\"outlinewidth\":0,\"ticks\":\"\"}},\"type\":\"scatterternary\"}],\"surface\":[{\"colorbar\":{\"outlinewidth\":0,\"ticks\":\"\"},\"colorscale\":[[0.0,\"#0d0887\"],[0.1111111111111111,\"#46039f\"],[0.2222222222222222,\"#7201a8\"],[0.3333333333333333,\"#9c179e\"],[0.4444444444444444,\"#bd3786\"],[0.5555555555555556,\"#d8576b\"],[0.6666666666666666,\"#ed7953\"],[0.7777777777777778,\"#fb9f3a\"],[0.8888888888888888,\"#fdca26\"],[1.0,\"#f0f921\"]],\"type\":\"surface\"}],\"table\":[{\"cells\":{\"fill\":{\"color\":\"#EBF0F8\"},\"line\":{\"color\":\"white\"}},\"header\":{\"fill\":{\"color\":\"#C8D4E3\"},\"line\":{\"color\":\"white\"}},\"type\":\"table\"}]},\"layout\":{\"annotationdefaults\":{\"arrowcolor\":\"#2a3f5f\",\"arrowhead\":0,\"arrowwidth\":1},\"autotypenumbers\":\"strict\",\"coloraxis\":{\"colorbar\":{\"outlinewidth\":0,\"ticks\":\"\"}},\"colorscale\":{\"diverging\":[[0,\"#8e0152\"],[0.1,\"#c51b7d\"],[0.2,\"#de77ae\"],[0.3,\"#f1b6da\"],[0.4,\"#fde0ef\"],[0.5,\"#f7f7f7\"],[0.6,\"#e6f5d0\"],[0.7,\"#b8e186\"],[0.8,\"#7fbc41\"],[0.9,\"#4d9221\"],[1,\"#276419\"]],\"sequential\":[[0.0,\"#0d0887\"],[0.1111111111111111,\"#46039f\"],[0.2222222222222222,\"#7201a8\"],[0.3333333333333333,\"#9c179e\"],[0.4444444444444444,\"#bd3786\"],[0.5555555555555556,\"#d8576b\"],[0.6666666666666666,\"#ed7953\"],[0.7777777777777778,\"#fb9f3a\"],[0.8888888888888888,\"#fdca26\"],[1.0,\"#f0f921\"]],\"sequentialminus\":[[0.0,\"#0d0887\"],[0.1111111111111111,\"#46039f\"],[0.2222222222222222,\"#7201a8\"],[0.3333333333333333,\"#9c179e\"],[0.4444444444444444,\"#bd3786\"],[0.5555555555555556,\"#d8576b\"],[0.6666666666666666,\"#ed7953\"],[0.7777777777777778,\"#fb9f3a\"],[0.8888888888888888,\"#fdca26\"],[1.0,\"#f0f921\"]]},\"colorway\":[\"#636efa\",\"#EF553B\",\"#00cc96\",\"#ab63fa\",\"#FFA15A\",\"#19d3f3\",\"#FF6692\",\"#B6E880\",\"#FF97FF\",\"#FECB52\"],\"font\":{\"color\":\"#2a3f5f\"},\"geo\":{\"bgcolor\":\"white\",\"lakecolor\":\"white\",\"landcolor\":\"#E5ECF6\",\"showlakes\":true,\"showland\":true,\"subunitcolor\":\"white\"},\"hoverlabel\":{\"align\":\"left\"},\"hovermode\":\"closest\",\"mapbox\":{\"style\":\"light\"},\"paper_bgcolor\":\"white\",\"plot_bgcolor\":\"#E5ECF6\",\"polar\":{\"angularaxis\":{\"gridcolor\":\"white\",\"linecolor\":\"white\",\"ticks\":\"\"},\"bgcolor\":\"#E5ECF6\",\"radialaxis\":{\"gridcolor\":\"white\",\"linecolor\":\"white\",\"ticks\":\"\"}},\"scene\":{\"xaxis\":{\"backgroundcolor\":\"#E5ECF6\",\"gridcolor\":\"white\",\"gridwidth\":2,\"linecolor\":\"white\",\"showbackground\":true,\"ticks\":\"\",\"zerolinecolor\":\"white\"},\"yaxis\":{\"backgroundcolor\":\"#E5ECF6\",\"gridcolor\":\"white\",\"gridwidth\":2,\"linecolor\":\"white\",\"showbackground\":true,\"ticks\":\"\",\"zerolinecolor\":\"white\"},\"zaxis\":{\"backgroundcolor\":\"#E5ECF6\",\"gridcolor\":\"white\",\"gridwidth\":2,\"linecolor\":\"white\",\"showbackground\":true,\"ticks\":\"\",\"zerolinecolor\":\"white\"}},\"shapedefaults\":{\"line\":{\"color\":\"#2a3f5f\"}},\"ternary\":{\"aaxis\":{\"gridcolor\":\"white\",\"linecolor\":\"white\",\"ticks\":\"\"},\"baxis\":{\"gridcolor\":\"white\",\"linecolor\":\"white\",\"ticks\":\"\"},\"bgcolor\":\"#E5ECF6\",\"caxis\":{\"gridcolor\":\"white\",\"linecolor\":\"white\",\"ticks\":\"\"}},\"title\":{\"x\":0.05},\"xaxis\":{\"automargin\":true,\"gridcolor\":\"white\",\"linecolor\":\"white\",\"ticks\":\"\",\"title\":{\"standoff\":15},\"zerolinecolor\":\"white\",\"zerolinewidth\":2},\"yaxis\":{\"automargin\":true,\"gridcolor\":\"white\",\"linecolor\":\"white\",\"ticks\":\"\",\"title\":{\"standoff\":15},\"zerolinecolor\":\"white\",\"zerolinewidth\":2}}},\"title\":{\"text\":\"Book Prices\"},\"yaxis\":{\"title\":{\"text\":\"$ (SGD)\"}},\"autosize\":false,\"width\":800,\"height\":650,\"margin\":{\"l\":50,\"r\":50,\"b\":100,\"t\":100,\"pad\":2}},                        {\"responsive\": true}                    ).then(function(){\n",
       "                            \n",
       "var gd = document.getElementById('a775953a-0674-4f00-a2ac-3ef3e00dd696');\n",
       "var x = new MutationObserver(function (mutations, observer) {{\n",
       "        var display = window.getComputedStyle(gd).display;\n",
       "        if (!display || display === 'none') {{\n",
       "            console.log([gd, 'removed!']);\n",
       "            Plotly.purge(gd);\n",
       "            observer.disconnect();\n",
       "        }}\n",
       "}});\n",
       "\n",
       "// Listen for the removal of the full notebook cells\n",
       "var notebookContainer = gd.closest('#notebook-container');\n",
       "if (notebookContainer) {{\n",
       "    x.observe(notebookContainer, {childList: true});\n",
       "}}\n",
       "\n",
       "// Listen for the clearing of the current output cell\n",
       "var outputEl = gd.closest('.output');\n",
       "if (outputEl) {{\n",
       "    x.observe(outputEl, {childList: true});\n",
       "}}\n",
       "\n",
       "                        })                };                });            </script>        </div>"
      ]
     },
     "metadata": {},
     "output_type": "display_data"
    }
   ],
   "source": [
    "fig = go.Figure()\n",
    "fig = fig.add_trace(go.Box(\n",
    "    # Did more data fudging here by manually removing outliers. \n",
    "    # WIP - I will take note to fix this. I swear.\n",
    "    y=df[df.price <= 100].price,\n",
    "    name='book prices',\n",
    "    text=df.scraped_title\n",
    "))\n",
    "\n",
    "# Tried to squeeze all my inputs into a single line. \n",
    "# This is not known to be a good practice as it is harder to identify the inputs used\n",
    "fig.update_traces(boxpoints='all', jitter=0)\n",
    "fig.update_layout(title='Book Prices', yaxis=dict(title='$ (SGD)'), autosize=False, width=800, height=650)\n",
    "fig.update_layout(margin=dict(l=50, r=50, b=100, t=100, pad=2))\n",
    "fig"
   ]
  },
  {
   "cell_type": "markdown",
   "id": "a06d389c-ce5d-4b1d-a7ac-39a226a8ae21",
   "metadata": {},
   "source": [
    "### Getting the graph to share on Medium post\n",
    "Lastly, do you know you can actually push such interactive graphs into some cloud service (called DataPane), and have the embed the graph into your Medium post? "
   ]
  },
  {
   "cell_type": "code",
   "execution_count": 57,
   "id": "0843d0d2-4017-4264-9d33-fd61ce27d23f",
   "metadata": {},
   "outputs": [
    {
     "data": {
      "text/markdown": [
       "Uploading report and associated data - *please wait...*"
      ],
      "text/plain": [
       "<IPython.core.display.Markdown object>"
      ]
     },
     "metadata": {},
     "output_type": "display_data"
    },
    {
     "data": {
      "text/markdown": [
       "Your report only contains a single element - did you know you can include additional plots, tables and text in a single report? More info <a href='https://docs.datapane.com/reports/blocks/layout-pages-and-selects' target='_blank'>here</a>"
      ],
      "text/plain": [
       "<IPython.core.display.Markdown object>"
      ]
     },
     "metadata": {},
     "output_type": "display_data"
    },
    {
     "data": {
      "text/markdown": [
       "Report successfully uploaded. View and share your report <a href='https://datapane.com/reports/J35Olak/book-price-analysis/' target='_blank'>here</a>, or edit your report <a href='https://datapane.com/reports/J35Olak/book-price-analysis/edit/' target='_blank'>here</a>."
      ],
      "text/plain": [
       "<IPython.core.display.Markdown object>"
      ]
     },
     "metadata": {},
     "output_type": "display_data"
    }
   ],
   "source": [
    "import datapane as dp\n",
    "\n",
    "dp.Report(\n",
    "    dp.Plot(fig),\n",
    "    dp.DataTable(df[['given_title', 'scraped_title', 'price', 'title_check']])\n",
    ").upload(name=\"Book Price Analysis\")"
   ]
  }
 ],
 "metadata": {
  "kernelspec": {
   "display_name": "Python 3 (ipykernel)",
   "language": "python",
   "name": "python3"
  },
  "language_info": {
   "codemirror_mode": {
    "name": "ipython",
    "version": 3
   },
   "file_extension": ".py",
   "mimetype": "text/x-python",
   "name": "python",
   "nbconvert_exporter": "python",
   "pygments_lexer": "ipython3",
   "version": "3.9.10"
  }
 },
 "nbformat": 4,
 "nbformat_minor": 5
}
