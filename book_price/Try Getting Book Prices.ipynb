{
 "cells": [
  {
   "cell_type": "code",
   "execution_count": 1,
   "id": "a15af801-9d20-4287-a46a-02bc32e0a7ad",
   "metadata": {},
   "outputs": [],
   "source": [
    "%load_ext autoreload\n",
    "%autoreload 2\n",
    "\n",
    "from selenium import webdriver\n",
    "from selenium.webdriver.support import expected_conditions as EC\n",
    "from selenium.webdriver.support.ui import WebDriverWait\n",
    "from selenium.webdriver.common.by import By\n",
    "\n",
    "from bs4 import BeautifulSoup as bs\n",
    "import pandas as pd\n",
    "import numpy as np\n",
    "from lxml import etree\n",
    "import os\n",
    "import re\n",
    "import time\n",
    "from tqdm import tqdm\n",
    "\n",
    "warnings.filterwarnings('ignore')\n",
    "pd.set_option('display.max_colwidth', 1000)\n",
    "\n",
    "## Load the NLB methods that I already have\n",
    "os.chdir(os.environ['cred_folder'])\n",
    "from web_scraping import *\n",
    "\n",
    "os.chdir('/Users/cliff/main/sides/nlb/book_price')"
   ]
  },
  {
   "cell_type": "markdown",
   "id": "d65b05fa-874b-41f8-853b-326421553202",
   "metadata": {},
   "source": [
    "### Testing Amazon "
   ]
  },
  {
   "cell_type": "code",
   "execution_count": 2,
   "id": "edc94029-34fa-4b14-bfe6-aba034762383",
   "metadata": {},
   "outputs": [],
   "source": [
    "def title_to_url_suffix(book_title: str):\n",
    "    \"\"\" Converting normal title text into url suffix \"\"\"\n",
    "    return re.sub(r\"[!,*)@#%(&$_?.^'-]\", '', book_title).lower().replace(\" \", \"+\")"
   ]
  },
  {
   "cell_type": "code",
   "execution_count": 3,
   "id": "99a384df-1e78-4385-a0fe-256c8cfc9630",
   "metadata": {},
   "outputs": [
    {
     "data": {
      "text/plain": [
       "'be+so+good+they+cant+ignore+you'"
      ]
     },
     "execution_count": 3,
     "metadata": {},
     "output_type": "execute_result"
    }
   ],
   "source": [
    "title_to_url_suffix(\"Be So Good They Cant Ignore You\")"
   ]
  },
  {
   "cell_type": "code",
   "execution_count": 4,
   "id": "d4d0a343-a234-4309-b4c3-3ec303b99fc7",
   "metadata": {},
   "outputs": [
    {
     "data": {
      "text/plain": [
       "'be+so+good+they+cant+ignore+you'"
      ]
     },
     "execution_count": 4,
     "metadata": {},
     "output_type": "execute_result"
    }
   ],
   "source": [
    "title_to_url_suffix(\"Be So Good They Can't Ignore You\")"
   ]
  },
  {
   "cell_type": "code",
   "execution_count": 5,
   "id": "978ca081-5e70-4663-a3cf-b7908de59a14",
   "metadata": {},
   "outputs": [],
   "source": [
    "def title_to_full_url(title: str, base_url: str='https://www.amazon.sg/'):\n",
    "    query = \"s?k=\" + title_to_url_suffix(title)\n",
    "    return base_url + query + \"+paperback\" "
   ]
  },
  {
   "cell_type": "code",
   "execution_count": 6,
   "id": "afaebfc9-04e9-4d2f-9118-7e329d340cfb",
   "metadata": {},
   "outputs": [
    {
     "data": {
      "text/plain": [
       "'https://www.amazon.sg/s?k=obstacle+is+the+way+paperback'"
      ]
     },
     "execution_count": 6,
     "metadata": {},
     "output_type": "execute_result"
    }
   ],
   "source": [
    "title_to_full_url('obstacle is the way')"
   ]
  },
  {
   "cell_type": "code",
   "execution_count": 7,
   "id": "ff4a0b5d-e49c-4030-8ec6-959983037b60",
   "metadata": {},
   "outputs": [
    {
     "data": {
      "text/plain": [
       "'https://www.amazon.sg/s?k=be+so+good+they+cant+ignore+you+paperback'"
      ]
     },
     "execution_count": 7,
     "metadata": {},
     "output_type": "execute_result"
    }
   ],
   "source": [
    "title_to_full_url(\"Be So Good They Cant Ignore You\")"
   ]
  },
  {
   "cell_type": "code",
   "execution_count": 8,
   "id": "0bcc6b52-bd4c-4d38-afd8-f2b84fbf719f",
   "metadata": {},
   "outputs": [
    {
     "data": {
      "text/plain": [
       "'https://www.amazon.sg/s?k=be+so+good+they+cant+ignore+you+paperback'"
      ]
     },
     "execution_count": 8,
     "metadata": {},
     "output_type": "execute_result"
    }
   ],
   "source": [
    "title_to_full_url(\"Be So Good They Can't Ignore You\")"
   ]
  },
  {
   "cell_type": "markdown",
   "id": "b6475228-3196-4b76-9ec6-e8ca3c2fefd1",
   "metadata": {},
   "source": [
    "### Load Book Lists "
   ]
  },
  {
   "cell_type": "code",
   "execution_count": 9,
   "id": "2b9c4db6-8cc3-44c4-879b-e18489fd8d4f",
   "metadata": {},
   "outputs": [
    {
     "data": {
      "text/plain": [
       "247"
      ]
     },
     "execution_count": 9,
     "metadata": {},
     "output_type": "execute_result"
    }
   ],
   "source": [
    "full_book_list = open('/Users/cliff/main/sbrain/book_list_clean.md', 'r').readlines()\n",
    "full_book_list = [title.replace('\\n', '') for title in full_book_list]\n",
    "len(full_book_list)"
   ]
  },
  {
   "cell_type": "markdown",
   "id": "accea6f2-d098-4f1e-8c98-7c9b12939407",
   "metadata": {},
   "source": [
    "### Setting up the selenium "
   ]
  },
  {
   "cell_type": "code",
   "execution_count": null,
   "id": "3e39b70a-e159-4c83-9d12-30af53bf9759",
   "metadata": {},
   "outputs": [
    {
     "name": "stderr",
     "output_type": "stream",
     "text": [
      "  0%|                                                    | 0/49 [00:00<?, ?it/s]\n",
      "\n",
      "====== WebDriver manager ======\n",
      "Current google-chrome version is 104.0.5112\n",
      "Get LATEST chromedriver version for 104.0.5112 google-chrome\n",
      "Driver [/Users/cliff/.wdm/drivers/chromedriver/mac64/104.0.5112.79/chromedriver] found in cache\n",
      "  2%|▉                                           | 1/49 [00:34<27:35, 34.48s/it]\n",
      "\n",
      "====== WebDriver manager ======\n",
      "Current google-chrome version is 104.0.5112\n",
      "Get LATEST chromedriver version for 104.0.5112 google-chrome\n",
      "Driver [/Users/cliff/.wdm/drivers/chromedriver/mac64/104.0.5112.79/chromedriver] found in cache\n",
      "  4%|█▊                                          | 2/49 [01:05<25:21, 32.36s/it]\n",
      "\n",
      "====== WebDriver manager ======\n",
      "Current google-chrome version is 104.0.5112\n",
      "Get LATEST chromedriver version for 104.0.5112 google-chrome\n",
      "Driver [/Users/cliff/.wdm/drivers/chromedriver/mac64/104.0.5112.79/chromedriver] found in cache\n",
      "  6%|██▋                                         | 3/49 [01:41<26:18, 34.31s/it]\n",
      "\n",
      "====== WebDriver manager ======\n",
      "Current google-chrome version is 104.0.5112\n",
      "Get LATEST chromedriver version for 104.0.5112 google-chrome\n",
      "Driver [/Users/cliff/.wdm/drivers/chromedriver/mac64/104.0.5112.79/chromedriver] found in cache\n",
      "  8%|███▌                                        | 4/49 [02:14<25:03, 33.41s/it]\n",
      "\n",
      "====== WebDriver manager ======\n",
      "Current google-chrome version is 104.0.5112\n",
      "Get LATEST chromedriver version for 104.0.5112 google-chrome\n",
      "Driver [/Users/cliff/.wdm/drivers/chromedriver/mac64/104.0.5112.79/chromedriver] found in cache\n",
      " 10%|████▍                                       | 5/49 [02:49<25:06, 34.23s/it]\n",
      "\n",
      "====== WebDriver manager ======\n",
      "Current google-chrome version is 104.0.5112\n",
      "Get LATEST chromedriver version for 104.0.5112 google-chrome\n",
      "Driver [/Users/cliff/.wdm/drivers/chromedriver/mac64/104.0.5112.79/chromedriver] found in cache\n",
      " 12%|█████▍                                      | 6/49 [03:23<24:27, 34.12s/it]\n",
      "\n",
      "====== WebDriver manager ======\n",
      "Current google-chrome version is 104.0.5112\n",
      "Get LATEST chromedriver version for 104.0.5112 google-chrome\n",
      "Driver [/Users/cliff/.wdm/drivers/chromedriver/mac64/104.0.5112.79/chromedriver] found in cache\n",
      " 14%|██████▎                                     | 7/49 [03:57<23:49, 34.04s/it]\n",
      "\n",
      "====== WebDriver manager ======\n",
      "Current google-chrome version is 104.0.5112\n",
      "Get LATEST chromedriver version for 104.0.5112 google-chrome\n",
      "Driver [/Users/cliff/.wdm/drivers/chromedriver/mac64/104.0.5112.79/chromedriver] found in cache\n",
      " 16%|███████▏                                    | 8/49 [04:28<22:30, 32.93s/it]\n",
      "\n",
      "====== WebDriver manager ======\n",
      "Current google-chrome version is 104.0.5112\n",
      "Get LATEST chromedriver version for 104.0.5112 google-chrome\n",
      "Driver [/Users/cliff/.wdm/drivers/chromedriver/mac64/104.0.5112.79/chromedriver] found in cache\n",
      " 18%|████████                                    | 9/49 [05:04<22:37, 33.93s/it]\n",
      "\n",
      "====== WebDriver manager ======\n",
      "Current google-chrome version is 104.0.5112\n",
      "Get LATEST chromedriver version for 104.0.5112 google-chrome\n",
      "Driver [/Users/cliff/.wdm/drivers/chromedriver/mac64/104.0.5112.79/chromedriver] found in cache\n",
      " 20%|████████▊                                  | 10/49 [05:38<22:12, 34.16s/it]\n",
      "\n",
      "====== WebDriver manager ======\n",
      "Current google-chrome version is 104.0.5112\n",
      "Get LATEST chromedriver version for 104.0.5112 google-chrome\n",
      "Driver [/Users/cliff/.wdm/drivers/chromedriver/mac64/104.0.5112.79/chromedriver] found in cache\n",
      " 22%|█████████▋                                 | 11/49 [06:09<20:57, 33.10s/it]\n",
      "\n",
      "====== WebDriver manager ======\n",
      "Current google-chrome version is 104.0.5112\n",
      "Get LATEST chromedriver version for 104.0.5112 google-chrome\n",
      "Driver [/Users/cliff/.wdm/drivers/chromedriver/mac64/104.0.5112.79/chromedriver] found in cache\n",
      " 24%|██████████▌                                | 12/49 [06:41<20:11, 32.74s/it]\n",
      "\n",
      "====== WebDriver manager ======\n",
      "Current google-chrome version is 104.0.5112\n",
      "Get LATEST chromedriver version for 104.0.5112 google-chrome\n",
      "Driver [/Users/cliff/.wdm/drivers/chromedriver/mac64/104.0.5112.79/chromedriver] found in cache\n",
      " 27%|███████████▍                               | 13/49 [07:17<20:10, 33.63s/it]\n",
      "\n",
      "====== WebDriver manager ======\n",
      "Current google-chrome version is 104.0.5112\n",
      "Get LATEST chromedriver version for 104.0.5112 google-chrome\n",
      "Driver [/Users/cliff/.wdm/drivers/chromedriver/mac64/104.0.5112.79/chromedriver] found in cache\n",
      " 29%|████████████▎                              | 14/49 [07:52<19:53, 34.09s/it]\n",
      "\n",
      "====== WebDriver manager ======\n",
      "Current google-chrome version is 104.0.5112\n",
      "Get LATEST chromedriver version for 104.0.5112 google-chrome\n",
      "Driver [/Users/cliff/.wdm/drivers/chromedriver/mac64/104.0.5112.79/chromedriver] found in cache\n",
      " 31%|█████████████▏                             | 15/49 [08:30<20:02, 35.37s/it]\n",
      "\n",
      "====== WebDriver manager ======\n",
      "Current google-chrome version is 104.0.5112\n",
      "Get LATEST chromedriver version for 104.0.5112 google-chrome\n",
      "Driver [/Users/cliff/.wdm/drivers/chromedriver/mac64/104.0.5112.79/chromedriver] found in cache\n",
      " 33%|██████████████                             | 16/49 [09:06<19:30, 35.47s/it]\n",
      "\n",
      "====== WebDriver manager ======\n",
      "Current google-chrome version is 104.0.5112\n",
      "Get LATEST chromedriver version for 104.0.5112 google-chrome\n",
      "Driver [/Users/cliff/.wdm/drivers/chromedriver/mac64/104.0.5112.79/chromedriver] found in cache\n",
      " 35%|██████████████▉                            | 17/49 [09:38<18:20, 34.39s/it]\n",
      "\n",
      "====== WebDriver manager ======\n",
      "Current google-chrome version is 104.0.5112\n",
      "Get LATEST chromedriver version for 104.0.5112 google-chrome\n",
      "Driver [/Users/cliff/.wdm/drivers/chromedriver/mac64/104.0.5112.79/chromedriver] found in cache\n",
      " 37%|███████████████▊                           | 18/49 [10:14<18:04, 34.97s/it]\n",
      "\n",
      "====== WebDriver manager ======\n",
      "Current google-chrome version is 104.0.5112\n",
      "Get LATEST chromedriver version for 104.0.5112 google-chrome\n",
      "Driver [/Users/cliff/.wdm/drivers/chromedriver/mac64/104.0.5112.79/chromedriver] found in cache\n",
      " 39%|████████████████▋                          | 19/49 [10:46<17:05, 34.17s/it]\n",
      "\n",
      "====== WebDriver manager ======\n",
      "Current google-chrome version is 104.0.5112\n",
      "Get LATEST chromedriver version for 104.0.5112 google-chrome\n",
      "Driver [/Users/cliff/.wdm/drivers/chromedriver/mac64/104.0.5112.79/chromedriver] found in cache\n",
      " 41%|█████████████████▌                         | 20/49 [11:23<16:49, 34.79s/it]\n",
      "\n",
      "====== WebDriver manager ======\n",
      "Current google-chrome version is 104.0.5112\n",
      "Get LATEST chromedriver version for 104.0.5112 google-chrome\n",
      "Driver [/Users/cliff/.wdm/drivers/chromedriver/mac64/104.0.5112.79/chromedriver] found in cache\n",
      " 43%|██████████████████▍                        | 21/49 [11:58<16:20, 35.00s/it]\n",
      "\n",
      "====== WebDriver manager ======\n",
      "Current google-chrome version is 104.0.5112\n",
      "Get LATEST chromedriver version for 104.0.5112 google-chrome\n",
      "Driver [/Users/cliff/.wdm/drivers/chromedriver/mac64/104.0.5112.79/chromedriver] found in cache\n",
      " 45%|███████████████████▎                       | 22/49 [12:33<15:47, 35.11s/it]\n",
      "\n",
      "====== WebDriver manager ======\n",
      "Current google-chrome version is 104.0.5112\n",
      "Get LATEST chromedriver version for 104.0.5112 google-chrome\n",
      "Driver [/Users/cliff/.wdm/drivers/chromedriver/mac64/104.0.5112.79/chromedriver] found in cache\n",
      " 47%|████████████████████▏                      | 23/49 [13:07<14:59, 34.59s/it]\n",
      "\n",
      "====== WebDriver manager ======\n",
      "Current google-chrome version is 104.0.5112\n",
      "Get LATEST chromedriver version for 104.0.5112 google-chrome\n",
      "Driver [/Users/cliff/.wdm/drivers/chromedriver/mac64/104.0.5112.79/chromedriver] found in cache\n",
      " 49%|█████████████████████                      | 24/49 [13:44<14:43, 35.32s/it]\n",
      "\n",
      "====== WebDriver manager ======\n",
      "Current google-chrome version is 104.0.5112\n",
      "Get LATEST chromedriver version for 104.0.5112 google-chrome\n",
      "Driver [/Users/cliff/.wdm/drivers/chromedriver/mac64/104.0.5112.79/chromedriver] found in cache\n",
      " 51%|█████████████████████▉                     | 25/49 [14:22<14:25, 36.06s/it]\n",
      "\n",
      "====== WebDriver manager ======\n",
      "Current google-chrome version is 104.0.5112\n",
      "Get LATEST chromedriver version for 104.0.5112 google-chrome\n",
      "Driver [/Users/cliff/.wdm/drivers/chromedriver/mac64/104.0.5112.79/chromedriver] found in cache\n",
      " 53%|██████████████████████▊                    | 26/49 [14:57<13:44, 35.83s/it]\n",
      "\n",
      "====== WebDriver manager ======\n",
      "Current google-chrome version is 104.0.5112\n",
      "Get LATEST chromedriver version for 104.0.5112 google-chrome\n",
      "Driver [/Users/cliff/.wdm/drivers/chromedriver/mac64/104.0.5112.79/chromedriver] found in cache\n",
      " 55%|███████████████████████▋                   | 27/49 [15:31<12:56, 35.30s/it]\n",
      "\n",
      "====== WebDriver manager ======\n",
      "Current google-chrome version is 104.0.5112\n",
      "Get LATEST chromedriver version for 104.0.5112 google-chrome\n",
      "Driver [/Users/cliff/.wdm/drivers/chromedriver/mac64/104.0.5112.79/chromedriver] found in cache\n",
      " 57%|████████████████████████▌                  | 28/49 [16:03<12:00, 34.31s/it]\n",
      "\n",
      "====== WebDriver manager ======\n",
      "Current google-chrome version is 104.0.5112\n",
      "Get LATEST chromedriver version for 104.0.5112 google-chrome\n",
      "Driver [/Users/cliff/.wdm/drivers/chromedriver/mac64/104.0.5112.79/chromedriver] found in cache\n",
      " 59%|█████████████████████████▍                 | 29/49 [16:36<11:18, 33.95s/it]\n",
      "\n",
      "====== WebDriver manager ======\n",
      "Current google-chrome version is 104.0.5112\n",
      "Get LATEST chromedriver version for 104.0.5112 google-chrome\n",
      "Driver [/Users/cliff/.wdm/drivers/chromedriver/mac64/104.0.5112.79/chromedriver] found in cache\n",
      " 61%|██████████████████████████▎                | 30/49 [17:11<10:48, 34.14s/it]\n",
      "\n",
      "====== WebDriver manager ======\n",
      "Current google-chrome version is 104.0.5112\n",
      "Get LATEST chromedriver version for 104.0.5112 google-chrome\n",
      "Driver [/Users/cliff/.wdm/drivers/chromedriver/mac64/104.0.5112.79/chromedriver] found in cache\n",
      " 63%|███████████████████████████▏               | 31/49 [17:43<10:07, 33.74s/it]\n",
      "\n",
      "====== WebDriver manager ======\n",
      "Current google-chrome version is 104.0.5112\n",
      "Get LATEST chromedriver version for 104.0.5112 google-chrome\n",
      "Driver [/Users/cliff/.wdm/drivers/chromedriver/mac64/104.0.5112.79/chromedriver] found in cache\n",
      " 65%|████████████████████████████               | 32/49 [18:21<09:53, 34.88s/it]\n",
      "\n",
      "====== WebDriver manager ======\n",
      "Current google-chrome version is 104.0.5112\n",
      "Get LATEST chromedriver version for 104.0.5112 google-chrome\n",
      "Driver [/Users/cliff/.wdm/drivers/chromedriver/mac64/104.0.5112.79/chromedriver] found in cache\n",
      " 67%|████████████████████████████▉              | 33/49 [18:56<09:17, 34.84s/it]\n",
      "\n",
      "====== WebDriver manager ======\n",
      "Current google-chrome version is 104.0.5112\n",
      "Get LATEST chromedriver version for 104.0.5112 google-chrome\n",
      "Driver [/Users/cliff/.wdm/drivers/chromedriver/mac64/104.0.5112.79/chromedriver] found in cache\n",
      " 69%|█████████████████████████████▊             | 34/49 [19:32<08:48, 35.23s/it]\n",
      "\n",
      "====== WebDriver manager ======\n",
      "Current google-chrome version is 104.0.5112\n",
      "Get LATEST chromedriver version for 104.0.5112 google-chrome\n",
      "Driver [/Users/cliff/.wdm/drivers/chromedriver/mac64/104.0.5112.79/chromedriver] found in cache\n",
      " 71%|██████████████████████████████▋            | 35/49 [20:08<08:17, 35.54s/it]\n",
      "\n",
      "====== WebDriver manager ======\n",
      "Current google-chrome version is 104.0.5112\n",
      "Get LATEST chromedriver version for 104.0.5112 google-chrome\n",
      "Driver [/Users/cliff/.wdm/drivers/chromedriver/mac64/104.0.5112.79/chromedriver] found in cache\n",
      " 73%|███████████████████████████████▌           | 36/49 [20:43<07:38, 35.30s/it]\n",
      "\n",
      "====== WebDriver manager ======\n",
      "Current google-chrome version is 104.0.5112\n",
      "Get LATEST chromedriver version for 104.0.5112 google-chrome\n",
      "Driver [/Users/cliff/.wdm/drivers/chromedriver/mac64/104.0.5112.79/chromedriver] found in cache\n",
      " 76%|████████████████████████████████▍          | 37/49 [21:18<07:03, 35.27s/it]\n",
      "\n",
      "====== WebDriver manager ======\n",
      "Current google-chrome version is 104.0.5112\n",
      "Get LATEST chromedriver version for 104.0.5112 google-chrome\n",
      "Driver [/Users/cliff/.wdm/drivers/chromedriver/mac64/104.0.5112.79/chromedriver] found in cache\n",
      " 78%|█████████████████████████████████▎         | 38/49 [21:56<06:36, 36.08s/it]\n",
      "\n",
      "====== WebDriver manager ======\n",
      "Current google-chrome version is 104.0.5112\n",
      "Get LATEST chromedriver version for 104.0.5112 google-chrome\n",
      "Driver [/Users/cliff/.wdm/drivers/chromedriver/mac64/104.0.5112.79/chromedriver] found in cache\n",
      " 80%|██████████████████████████████████▏        | 39/49 [22:35<06:10, 37.05s/it]\n",
      "\n",
      "====== WebDriver manager ======\n",
      "Current google-chrome version is 104.0.5112\n",
      "Get LATEST chromedriver version for 104.0.5112 google-chrome\n",
      "Driver [/Users/cliff/.wdm/drivers/chromedriver/mac64/104.0.5112.79/chromedriver] found in cache\n",
      " 82%|███████████████████████████████████        | 40/49 [23:07<05:18, 35.37s/it]\n",
      "\n",
      "====== WebDriver manager ======\n",
      "Current google-chrome version is 104.0.5112\n",
      "Get LATEST chromedriver version for 104.0.5112 google-chrome\n",
      "Driver [/Users/cliff/.wdm/drivers/chromedriver/mac64/104.0.5112.79/chromedriver] found in cache\n",
      " 84%|███████████████████████████████████▉       | 41/49 [23:41<04:40, 35.05s/it]\n",
      "\n",
      "====== WebDriver manager ======\n",
      "Current google-chrome version is 104.0.5112\n",
      "Get LATEST chromedriver version for 104.0.5112 google-chrome\n",
      "Driver [/Users/cliff/.wdm/drivers/chromedriver/mac64/104.0.5112.79/chromedriver] found in cache\n",
      " 86%|████████████████████████████████████▊      | 42/49 [24:15<04:03, 34.76s/it]\n",
      "\n",
      "====== WebDriver manager ======\n",
      "Current google-chrome version is 104.0.5112\n",
      "Get LATEST chromedriver version for 104.0.5112 google-chrome\n",
      "Driver [/Users/cliff/.wdm/drivers/chromedriver/mac64/104.0.5112.79/chromedriver] found in cache\n",
      " 88%|█████████████████████████████████████▋     | 43/49 [24:52<03:32, 35.45s/it]\n",
      "\n",
      "====== WebDriver manager ======\n",
      "Current google-chrome version is 104.0.5112\n",
      "Get LATEST chromedriver version for 104.0.5112 google-chrome\n",
      "Driver [/Users/cliff/.wdm/drivers/chromedriver/mac64/104.0.5112.79/chromedriver] found in cache\n",
      " 90%|██████████████████████████████████████▌    | 44/49 [25:25<02:53, 34.68s/it]\n",
      "\n",
      "====== WebDriver manager ======\n",
      "Current google-chrome version is 104.0.5112\n",
      "Get LATEST chromedriver version for 104.0.5112 google-chrome\n",
      "Driver [/Users/cliff/.wdm/drivers/chromedriver/mac64/104.0.5112.79/chromedriver] found in cache\n"
     ]
    }
   ],
   "source": [
    "# for i in tqdm(range(0,250,5)):\n",
    "# for i in tqdm(range(0,10,5)):\n",
    "\n",
    "for i in tqdm(range(10,255,5)):\n",
    "    try:\n",
    "        book_lists = full_book_list[i:i+5]\n",
    "        title_dict = dict()\n",
    "        browser = activate_chrome_selenium_latest(have_pic=False, is_headless=True)\n",
    "        \n",
    "        for title in book_lists:\n",
    "            url_query = title_to_full_url(title)\n",
    "            browser.get(url_query)\n",
    "            soup = bs(browser.page_source, 'html5lib')\n",
    "\n",
    "            first_price = soup.find(class_ = 'a-offscreen').text\n",
    "            final_first_price = float(first_price.replace('S$', ''))\n",
    "            scrapped_title = soup.find('h2', 'a-size-mini a-spacing-none a-color-base s-line-clamp-4').text.strip()\n",
    "            title_dict[scrapped_title] = final_first_price\n",
    "            time.sleep(3)\n",
    "\n",
    "        ## Saving files locally\n",
    "        title_prices = pd.DataFrame.from_dict(title_dict, orient='index').reset_index()\n",
    "        title_prices['title'] = book_lists\n",
    "        title_prices.columns = ['scraped_title', 'price', 'given_title']\n",
    "        title_prices[['given_title', 'scraped_title', 'price']].to_csv(f\"book_list_{i}.csv\", index=False)\n",
    "\n",
    "        browser.close()\n",
    "        time.sleep(5)\n",
    "    except:\n",
    "        browser.close()\n",
    "        pass"
   ]
  },
  {
   "cell_type": "markdown",
   "id": "e73979a7-9fc8-4e68-a4a9-66eaa3848b38",
   "metadata": {},
   "source": [
    "### Check locally saved files"
   ]
  },
  {
   "cell_type": "code",
   "execution_count": null,
   "id": "61611503-0737-4e4a-ada6-d864754593d2",
   "metadata": {},
   "outputs": [],
   "source": [
    "from glob import glob\n",
    "saved_book_list = glob(\"book_list*.csv\")\n",
    "len(saved_book_list)"
   ]
  },
  {
   "cell_type": "code",
   "execution_count": null,
   "id": "ce193c4a-579c-498a-b624-d626814c0da2",
   "metadata": {},
   "outputs": [],
   "source": [
    "df = pd.DataFrame()\n",
    "for file in saved_book_list:\n",
    "    df = df.append(pd.read_csv(file))\n",
    "df.reset_index(drop=True, inplace=True)"
   ]
  },
  {
   "cell_type": "code",
   "execution_count": null,
   "id": "ef87cb3c-25fe-4779-ba9f-7bdd50b9d587",
   "metadata": {},
   "outputs": [],
   "source": [
    "df.shape"
   ]
  },
  {
   "cell_type": "code",
   "execution_count": null,
   "id": "ff736fa4-dc24-4046-8a6e-0b614599a30a",
   "metadata": {},
   "outputs": [],
   "source": [
    "df"
   ]
  },
  {
   "cell_type": "markdown",
   "id": "d1795949-230f-4284-8f19-2f5489476545",
   "metadata": {},
   "source": [
    "### Summary Statistics "
   ]
  },
  {
   "cell_type": "code",
   "execution_count": null,
   "id": "2eb9b795-47ab-4fcf-8489-26f9521dba3a",
   "metadata": {},
   "outputs": [],
   "source": [
    "print(f\"Total books: {title_prices.price.count()}\")\n",
    "print(f\"Total book costs: SGD {title_prices.price.sum()}\")\n",
    "print(f\"Average book costs: SGD {round(title_prices.price.sum() / title_prices.price.count(), 2)}\")"
   ]
  },
  {
   "cell_type": "markdown",
   "id": "0293fc8a-05a6-4e50-b352-bb7eb80cd395",
   "metadata": {},
   "source": [
    "### Given Title to Scraped Title Quality Check "
   ]
  },
  {
   "cell_type": "code",
   "execution_count": null,
   "id": "ae3c374b-984b-44b7-8ed8-ed53f618ef26",
   "metadata": {},
   "outputs": [],
   "source": [
    "# !python -m spacy download en"
   ]
  },
  {
   "cell_type": "code",
   "execution_count": null,
   "id": "3d452bd7-3338-4ad6-b852-407465577617",
   "metadata": {},
   "outputs": [],
   "source": [
    "import spacy\n",
    "import en_core_web_sm\n",
    "nlp = en_core_web_sm.load()"
   ]
  },
  {
   "cell_type": "code",
   "execution_count": null,
   "id": "e2ed7177-7515-4dbb-b524-de0db60a0c26",
   "metadata": {},
   "outputs": [],
   "source": [
    "[nlp(i.split(\":\")[0]).similarity(nlp(j.split(':')[0])) for i,j in zip(title_prices.given_title, title_prices.scraped_title)]"
   ]
  }
 ],
 "metadata": {
  "kernelspec": {
   "display_name": "Python 3 (ipykernel)",
   "language": "python",
   "name": "python3"
  },
  "language_info": {
   "codemirror_mode": {
    "name": "ipython",
    "version": 3
   },
   "file_extension": ".py",
   "mimetype": "text/x-python",
   "name": "python",
   "nbconvert_exporter": "python",
   "pygments_lexer": "ipython3",
   "version": "3.9.10"
  }
 },
 "nbformat": 4,
 "nbformat_minor": 5
}
