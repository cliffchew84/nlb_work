{
 "cells": [
  {
   "cell_type": "code",
   "execution_count": 25,
   "id": "a15af801-9d20-4287-a46a-02bc32e0a7ad",
   "metadata": {},
   "outputs": [
    {
     "name": "stdout",
     "output_type": "stream",
     "text": [
      "The autoreload extension is already loaded. To reload it, use:\n",
      "  %reload_ext autoreload\n"
     ]
    }
   ],
   "source": [
    "%load_ext autoreload\n",
    "%autoreload 2\n",
    "\n",
    "from selenium import webdriver\n",
    "from selenium.webdriver.support import expected_conditions as EC\n",
    "from selenium.webdriver.support.ui import WebDriverWait\n",
    "from selenium.webdriver.common.by import By\n",
    "\n",
    "from bs4 import BeautifulSoup as bs\n",
    "import pandas as pd\n",
    "import numpy as np\n",
    "from lxml import etree\n",
    "import os\n",
    "import re\n",
    "import time\n",
    "from tqdm import tqdm\n",
    "\n",
    "warnings.filterwarnings('ignore')\n",
    "pd.set_option('display.max_colwidth', 1000)\n",
    "pd.set_option('display.max_rows', 1000)\n",
    "pd.set_option('display.max_columns', 1000)\n",
    "\n",
    "## Load the NLB methods that I already have\n",
    "os.chdir(os.environ['cred_folder'])\n",
    "from web_scraping import *\n",
    "\n",
    "os.chdir('/Users/cliff/main/sides/nlb/book_price')"
   ]
  },
  {
   "cell_type": "markdown",
   "id": "d65b05fa-874b-41f8-853b-326421553202",
   "metadata": {},
   "source": [
    "### Testing Amazon "
   ]
  },
  {
   "cell_type": "code",
   "execution_count": 2,
   "id": "edc94029-34fa-4b14-bfe6-aba034762383",
   "metadata": {},
   "outputs": [],
   "source": [
    "def title_to_url_suffix(book_title: str):\n",
    "    \"\"\" Converting normal title text into url suffix \"\"\"\n",
    "    return re.sub(r\"[!,*)@#%(&$_?.^'-]\", '', book_title).lower().replace(\" \", \"+\")"
   ]
  },
  {
   "cell_type": "code",
   "execution_count": 3,
   "id": "99a384df-1e78-4385-a0fe-256c8cfc9630",
   "metadata": {},
   "outputs": [
    {
     "data": {
      "text/plain": [
       "'be+so+good+they+cant+ignore+you'"
      ]
     },
     "execution_count": 3,
     "metadata": {},
     "output_type": "execute_result"
    }
   ],
   "source": [
    "title_to_url_suffix(\"Be So Good They Cant Ignore You\")"
   ]
  },
  {
   "cell_type": "code",
   "execution_count": 4,
   "id": "d4d0a343-a234-4309-b4c3-3ec303b99fc7",
   "metadata": {},
   "outputs": [
    {
     "data": {
      "text/plain": [
       "'be+so+good+they+cant+ignore+you'"
      ]
     },
     "execution_count": 4,
     "metadata": {},
     "output_type": "execute_result"
    }
   ],
   "source": [
    "title_to_url_suffix(\"Be So Good They Can't Ignore You\")"
   ]
  },
  {
   "cell_type": "code",
   "execution_count": 5,
   "id": "978ca081-5e70-4663-a3cf-b7908de59a14",
   "metadata": {},
   "outputs": [],
   "source": [
    "def title_to_full_url(title: str, base_url: str='https://www.amazon.sg/'):\n",
    "    query = \"s?k=\" + title_to_url_suffix(title)\n",
    "    return base_url + query + \"+paperback\" "
   ]
  },
  {
   "cell_type": "code",
   "execution_count": 6,
   "id": "afaebfc9-04e9-4d2f-9118-7e329d340cfb",
   "metadata": {},
   "outputs": [
    {
     "data": {
      "text/plain": [
       "'https://www.amazon.sg/s?k=obstacle+is+the+way+paperback'"
      ]
     },
     "execution_count": 6,
     "metadata": {},
     "output_type": "execute_result"
    }
   ],
   "source": [
    "title_to_full_url('obstacle is the way')"
   ]
  },
  {
   "cell_type": "code",
   "execution_count": 7,
   "id": "ff4a0b5d-e49c-4030-8ec6-959983037b60",
   "metadata": {},
   "outputs": [
    {
     "data": {
      "text/plain": [
       "'https://www.amazon.sg/s?k=be+so+good+they+cant+ignore+you+paperback'"
      ]
     },
     "execution_count": 7,
     "metadata": {},
     "output_type": "execute_result"
    }
   ],
   "source": [
    "title_to_full_url(\"Be So Good They Cant Ignore You\")"
   ]
  },
  {
   "cell_type": "code",
   "execution_count": 8,
   "id": "0bcc6b52-bd4c-4d38-afd8-f2b84fbf719f",
   "metadata": {},
   "outputs": [
    {
     "data": {
      "text/plain": [
       "'https://www.amazon.sg/s?k=be+so+good+they+cant+ignore+you+paperback'"
      ]
     },
     "execution_count": 8,
     "metadata": {},
     "output_type": "execute_result"
    }
   ],
   "source": [
    "title_to_full_url(\"Be So Good They Can't Ignore You\")"
   ]
  },
  {
   "cell_type": "markdown",
   "id": "b6475228-3196-4b76-9ec6-e8ca3c2fefd1",
   "metadata": {},
   "source": [
    "### Load Book Lists "
   ]
  },
  {
   "cell_type": "code",
   "execution_count": 9,
   "id": "2b9c4db6-8cc3-44c4-879b-e18489fd8d4f",
   "metadata": {},
   "outputs": [
    {
     "data": {
      "text/plain": [
       "247"
      ]
     },
     "execution_count": 9,
     "metadata": {},
     "output_type": "execute_result"
    }
   ],
   "source": [
    "full_book_list = open('/Users/cliff/main/sbrain/book_list_clean.md', 'r').readlines()\n",
    "full_book_list = [title.replace('\\n', '') for title in full_book_list]\n",
    "len(full_book_list)"
   ]
  },
  {
   "cell_type": "markdown",
   "id": "accea6f2-d098-4f1e-8c98-7c9b12939407",
   "metadata": {},
   "source": [
    "### Setting up the selenium "
   ]
  },
  {
   "cell_type": "code",
   "execution_count": 10,
   "id": "3e39b70a-e159-4c83-9d12-30af53bf9759",
   "metadata": {},
   "outputs": [
    {
     "name": "stderr",
     "output_type": "stream",
     "text": [
      "  0%|                                                    | 0/49 [00:00<?, ?it/s]\n",
      "\n",
      "====== WebDriver manager ======\n",
      "Current google-chrome version is 104.0.5112\n",
      "Get LATEST chromedriver version for 104.0.5112 google-chrome\n",
      "Driver [/Users/cliff/.wdm/drivers/chromedriver/mac64/104.0.5112.79/chromedriver] found in cache\n",
      "  2%|▉                                           | 1/49 [00:34<27:35, 34.48s/it]\n",
      "\n",
      "====== WebDriver manager ======\n",
      "Current google-chrome version is 104.0.5112\n",
      "Get LATEST chromedriver version for 104.0.5112 google-chrome\n",
      "Driver [/Users/cliff/.wdm/drivers/chromedriver/mac64/104.0.5112.79/chromedriver] found in cache\n",
      "  4%|█▊                                          | 2/49 [01:05<25:21, 32.36s/it]\n",
      "\n",
      "====== WebDriver manager ======\n",
      "Current google-chrome version is 104.0.5112\n",
      "Get LATEST chromedriver version for 104.0.5112 google-chrome\n",
      "Driver [/Users/cliff/.wdm/drivers/chromedriver/mac64/104.0.5112.79/chromedriver] found in cache\n",
      "  6%|██▋                                         | 3/49 [01:41<26:18, 34.31s/it]\n",
      "\n",
      "====== WebDriver manager ======\n",
      "Current google-chrome version is 104.0.5112\n",
      "Get LATEST chromedriver version for 104.0.5112 google-chrome\n",
      "Driver [/Users/cliff/.wdm/drivers/chromedriver/mac64/104.0.5112.79/chromedriver] found in cache\n",
      "  8%|███▌                                        | 4/49 [02:14<25:03, 33.41s/it]\n",
      "\n",
      "====== WebDriver manager ======\n",
      "Current google-chrome version is 104.0.5112\n",
      "Get LATEST chromedriver version for 104.0.5112 google-chrome\n",
      "Driver [/Users/cliff/.wdm/drivers/chromedriver/mac64/104.0.5112.79/chromedriver] found in cache\n",
      " 10%|████▍                                       | 5/49 [02:49<25:06, 34.23s/it]\n",
      "\n",
      "====== WebDriver manager ======\n",
      "Current google-chrome version is 104.0.5112\n",
      "Get LATEST chromedriver version for 104.0.5112 google-chrome\n",
      "Driver [/Users/cliff/.wdm/drivers/chromedriver/mac64/104.0.5112.79/chromedriver] found in cache\n",
      " 12%|█████▍                                      | 6/49 [03:23<24:27, 34.12s/it]\n",
      "\n",
      "====== WebDriver manager ======\n",
      "Current google-chrome version is 104.0.5112\n",
      "Get LATEST chromedriver version for 104.0.5112 google-chrome\n",
      "Driver [/Users/cliff/.wdm/drivers/chromedriver/mac64/104.0.5112.79/chromedriver] found in cache\n",
      " 14%|██████▎                                     | 7/49 [03:57<23:49, 34.04s/it]\n",
      "\n",
      "====== WebDriver manager ======\n",
      "Current google-chrome version is 104.0.5112\n",
      "Get LATEST chromedriver version for 104.0.5112 google-chrome\n",
      "Driver [/Users/cliff/.wdm/drivers/chromedriver/mac64/104.0.5112.79/chromedriver] found in cache\n",
      " 16%|███████▏                                    | 8/49 [04:28<22:30, 32.93s/it]\n",
      "\n",
      "====== WebDriver manager ======\n",
      "Current google-chrome version is 104.0.5112\n",
      "Get LATEST chromedriver version for 104.0.5112 google-chrome\n",
      "Driver [/Users/cliff/.wdm/drivers/chromedriver/mac64/104.0.5112.79/chromedriver] found in cache\n",
      " 18%|████████                                    | 9/49 [05:04<22:37, 33.93s/it]\n",
      "\n",
      "====== WebDriver manager ======\n",
      "Current google-chrome version is 104.0.5112\n",
      "Get LATEST chromedriver version for 104.0.5112 google-chrome\n",
      "Driver [/Users/cliff/.wdm/drivers/chromedriver/mac64/104.0.5112.79/chromedriver] found in cache\n",
      " 20%|████████▊                                  | 10/49 [05:38<22:12, 34.16s/it]\n",
      "\n",
      "====== WebDriver manager ======\n",
      "Current google-chrome version is 104.0.5112\n",
      "Get LATEST chromedriver version for 104.0.5112 google-chrome\n",
      "Driver [/Users/cliff/.wdm/drivers/chromedriver/mac64/104.0.5112.79/chromedriver] found in cache\n",
      " 22%|█████████▋                                 | 11/49 [06:09<20:57, 33.10s/it]\n",
      "\n",
      "====== WebDriver manager ======\n",
      "Current google-chrome version is 104.0.5112\n",
      "Get LATEST chromedriver version for 104.0.5112 google-chrome\n",
      "Driver [/Users/cliff/.wdm/drivers/chromedriver/mac64/104.0.5112.79/chromedriver] found in cache\n",
      " 24%|██████████▌                                | 12/49 [06:41<20:11, 32.74s/it]\n",
      "\n",
      "====== WebDriver manager ======\n",
      "Current google-chrome version is 104.0.5112\n",
      "Get LATEST chromedriver version for 104.0.5112 google-chrome\n",
      "Driver [/Users/cliff/.wdm/drivers/chromedriver/mac64/104.0.5112.79/chromedriver] found in cache\n",
      " 27%|███████████▍                               | 13/49 [07:17<20:10, 33.63s/it]\n",
      "\n",
      "====== WebDriver manager ======\n",
      "Current google-chrome version is 104.0.5112\n",
      "Get LATEST chromedriver version for 104.0.5112 google-chrome\n",
      "Driver [/Users/cliff/.wdm/drivers/chromedriver/mac64/104.0.5112.79/chromedriver] found in cache\n",
      " 29%|████████████▎                              | 14/49 [07:52<19:53, 34.09s/it]\n",
      "\n",
      "====== WebDriver manager ======\n",
      "Current google-chrome version is 104.0.5112\n",
      "Get LATEST chromedriver version for 104.0.5112 google-chrome\n",
      "Driver [/Users/cliff/.wdm/drivers/chromedriver/mac64/104.0.5112.79/chromedriver] found in cache\n",
      " 31%|█████████████▏                             | 15/49 [08:30<20:02, 35.37s/it]\n",
      "\n",
      "====== WebDriver manager ======\n",
      "Current google-chrome version is 104.0.5112\n",
      "Get LATEST chromedriver version for 104.0.5112 google-chrome\n",
      "Driver [/Users/cliff/.wdm/drivers/chromedriver/mac64/104.0.5112.79/chromedriver] found in cache\n",
      " 33%|██████████████                             | 16/49 [09:06<19:30, 35.47s/it]\n",
      "\n",
      "====== WebDriver manager ======\n",
      "Current google-chrome version is 104.0.5112\n",
      "Get LATEST chromedriver version for 104.0.5112 google-chrome\n",
      "Driver [/Users/cliff/.wdm/drivers/chromedriver/mac64/104.0.5112.79/chromedriver] found in cache\n",
      " 35%|██████████████▉                            | 17/49 [09:38<18:20, 34.39s/it]\n",
      "\n",
      "====== WebDriver manager ======\n",
      "Current google-chrome version is 104.0.5112\n",
      "Get LATEST chromedriver version for 104.0.5112 google-chrome\n",
      "Driver [/Users/cliff/.wdm/drivers/chromedriver/mac64/104.0.5112.79/chromedriver] found in cache\n",
      " 37%|███████████████▊                           | 18/49 [10:14<18:04, 34.97s/it]\n",
      "\n",
      "====== WebDriver manager ======\n",
      "Current google-chrome version is 104.0.5112\n",
      "Get LATEST chromedriver version for 104.0.5112 google-chrome\n",
      "Driver [/Users/cliff/.wdm/drivers/chromedriver/mac64/104.0.5112.79/chromedriver] found in cache\n",
      " 39%|████████████████▋                          | 19/49 [10:46<17:05, 34.17s/it]\n",
      "\n",
      "====== WebDriver manager ======\n",
      "Current google-chrome version is 104.0.5112\n",
      "Get LATEST chromedriver version for 104.0.5112 google-chrome\n",
      "Driver [/Users/cliff/.wdm/drivers/chromedriver/mac64/104.0.5112.79/chromedriver] found in cache\n",
      " 41%|█████████████████▌                         | 20/49 [11:23<16:49, 34.79s/it]\n",
      "\n",
      "====== WebDriver manager ======\n",
      "Current google-chrome version is 104.0.5112\n",
      "Get LATEST chromedriver version for 104.0.5112 google-chrome\n",
      "Driver [/Users/cliff/.wdm/drivers/chromedriver/mac64/104.0.5112.79/chromedriver] found in cache\n",
      " 43%|██████████████████▍                        | 21/49 [11:58<16:20, 35.00s/it]\n",
      "\n",
      "====== WebDriver manager ======\n",
      "Current google-chrome version is 104.0.5112\n",
      "Get LATEST chromedriver version for 104.0.5112 google-chrome\n",
      "Driver [/Users/cliff/.wdm/drivers/chromedriver/mac64/104.0.5112.79/chromedriver] found in cache\n",
      " 45%|███████████████████▎                       | 22/49 [12:33<15:47, 35.11s/it]\n",
      "\n",
      "====== WebDriver manager ======\n",
      "Current google-chrome version is 104.0.5112\n",
      "Get LATEST chromedriver version for 104.0.5112 google-chrome\n",
      "Driver [/Users/cliff/.wdm/drivers/chromedriver/mac64/104.0.5112.79/chromedriver] found in cache\n",
      " 47%|████████████████████▏                      | 23/49 [13:07<14:59, 34.59s/it]\n",
      "\n",
      "====== WebDriver manager ======\n",
      "Current google-chrome version is 104.0.5112\n",
      "Get LATEST chromedriver version for 104.0.5112 google-chrome\n",
      "Driver [/Users/cliff/.wdm/drivers/chromedriver/mac64/104.0.5112.79/chromedriver] found in cache\n",
      " 49%|█████████████████████                      | 24/49 [13:44<14:43, 35.32s/it]\n",
      "\n",
      "====== WebDriver manager ======\n",
      "Current google-chrome version is 104.0.5112\n",
      "Get LATEST chromedriver version for 104.0.5112 google-chrome\n",
      "Driver [/Users/cliff/.wdm/drivers/chromedriver/mac64/104.0.5112.79/chromedriver] found in cache\n",
      " 51%|█████████████████████▉                     | 25/49 [14:22<14:25, 36.06s/it]\n",
      "\n",
      "====== WebDriver manager ======\n",
      "Current google-chrome version is 104.0.5112\n",
      "Get LATEST chromedriver version for 104.0.5112 google-chrome\n",
      "Driver [/Users/cliff/.wdm/drivers/chromedriver/mac64/104.0.5112.79/chromedriver] found in cache\n",
      " 53%|██████████████████████▊                    | 26/49 [14:57<13:44, 35.83s/it]\n",
      "\n",
      "====== WebDriver manager ======\n",
      "Current google-chrome version is 104.0.5112\n",
      "Get LATEST chromedriver version for 104.0.5112 google-chrome\n",
      "Driver [/Users/cliff/.wdm/drivers/chromedriver/mac64/104.0.5112.79/chromedriver] found in cache\n",
      " 55%|███████████████████████▋                   | 27/49 [15:31<12:56, 35.30s/it]\n",
      "\n",
      "====== WebDriver manager ======\n",
      "Current google-chrome version is 104.0.5112\n",
      "Get LATEST chromedriver version for 104.0.5112 google-chrome\n",
      "Driver [/Users/cliff/.wdm/drivers/chromedriver/mac64/104.0.5112.79/chromedriver] found in cache\n",
      " 57%|████████████████████████▌                  | 28/49 [16:03<12:00, 34.31s/it]\n",
      "\n",
      "====== WebDriver manager ======\n",
      "Current google-chrome version is 104.0.5112\n",
      "Get LATEST chromedriver version for 104.0.5112 google-chrome\n",
      "Driver [/Users/cliff/.wdm/drivers/chromedriver/mac64/104.0.5112.79/chromedriver] found in cache\n",
      " 59%|█████████████████████████▍                 | 29/49 [16:36<11:18, 33.95s/it]\n",
      "\n",
      "====== WebDriver manager ======\n",
      "Current google-chrome version is 104.0.5112\n",
      "Get LATEST chromedriver version for 104.0.5112 google-chrome\n",
      "Driver [/Users/cliff/.wdm/drivers/chromedriver/mac64/104.0.5112.79/chromedriver] found in cache\n",
      " 61%|██████████████████████████▎                | 30/49 [17:11<10:48, 34.14s/it]\n",
      "\n",
      "====== WebDriver manager ======\n",
      "Current google-chrome version is 104.0.5112\n",
      "Get LATEST chromedriver version for 104.0.5112 google-chrome\n",
      "Driver [/Users/cliff/.wdm/drivers/chromedriver/mac64/104.0.5112.79/chromedriver] found in cache\n",
      " 63%|███████████████████████████▏               | 31/49 [17:43<10:07, 33.74s/it]\n",
      "\n",
      "====== WebDriver manager ======\n",
      "Current google-chrome version is 104.0.5112\n",
      "Get LATEST chromedriver version for 104.0.5112 google-chrome\n",
      "Driver [/Users/cliff/.wdm/drivers/chromedriver/mac64/104.0.5112.79/chromedriver] found in cache\n",
      " 65%|████████████████████████████               | 32/49 [18:21<09:53, 34.88s/it]\n",
      "\n",
      "====== WebDriver manager ======\n",
      "Current google-chrome version is 104.0.5112\n",
      "Get LATEST chromedriver version for 104.0.5112 google-chrome\n",
      "Driver [/Users/cliff/.wdm/drivers/chromedriver/mac64/104.0.5112.79/chromedriver] found in cache\n",
      " 67%|████████████████████████████▉              | 33/49 [18:56<09:17, 34.84s/it]\n",
      "\n",
      "====== WebDriver manager ======\n",
      "Current google-chrome version is 104.0.5112\n",
      "Get LATEST chromedriver version for 104.0.5112 google-chrome\n",
      "Driver [/Users/cliff/.wdm/drivers/chromedriver/mac64/104.0.5112.79/chromedriver] found in cache\n",
      " 69%|█████████████████████████████▊             | 34/49 [19:32<08:48, 35.23s/it]\n",
      "\n",
      "====== WebDriver manager ======\n",
      "Current google-chrome version is 104.0.5112\n",
      "Get LATEST chromedriver version for 104.0.5112 google-chrome\n",
      "Driver [/Users/cliff/.wdm/drivers/chromedriver/mac64/104.0.5112.79/chromedriver] found in cache\n",
      " 71%|██████████████████████████████▋            | 35/49 [20:08<08:17, 35.54s/it]\n",
      "\n",
      "====== WebDriver manager ======\n",
      "Current google-chrome version is 104.0.5112\n",
      "Get LATEST chromedriver version for 104.0.5112 google-chrome\n",
      "Driver [/Users/cliff/.wdm/drivers/chromedriver/mac64/104.0.5112.79/chromedriver] found in cache\n",
      " 73%|███████████████████████████████▌           | 36/49 [20:43<07:38, 35.30s/it]\n",
      "\n",
      "====== WebDriver manager ======\n",
      "Current google-chrome version is 104.0.5112\n",
      "Get LATEST chromedriver version for 104.0.5112 google-chrome\n",
      "Driver [/Users/cliff/.wdm/drivers/chromedriver/mac64/104.0.5112.79/chromedriver] found in cache\n",
      " 76%|████████████████████████████████▍          | 37/49 [21:18<07:03, 35.27s/it]\n",
      "\n",
      "====== WebDriver manager ======\n",
      "Current google-chrome version is 104.0.5112\n",
      "Get LATEST chromedriver version for 104.0.5112 google-chrome\n",
      "Driver [/Users/cliff/.wdm/drivers/chromedriver/mac64/104.0.5112.79/chromedriver] found in cache\n",
      " 78%|█████████████████████████████████▎         | 38/49 [21:56<06:36, 36.08s/it]\n",
      "\n",
      "====== WebDriver manager ======\n",
      "Current google-chrome version is 104.0.5112\n",
      "Get LATEST chromedriver version for 104.0.5112 google-chrome\n",
      "Driver [/Users/cliff/.wdm/drivers/chromedriver/mac64/104.0.5112.79/chromedriver] found in cache\n",
      " 80%|██████████████████████████████████▏        | 39/49 [22:35<06:10, 37.05s/it]\n",
      "\n",
      "====== WebDriver manager ======\n",
      "Current google-chrome version is 104.0.5112\n",
      "Get LATEST chromedriver version for 104.0.5112 google-chrome\n",
      "Driver [/Users/cliff/.wdm/drivers/chromedriver/mac64/104.0.5112.79/chromedriver] found in cache\n",
      " 82%|███████████████████████████████████        | 40/49 [23:07<05:18, 35.37s/it]\n",
      "\n",
      "====== WebDriver manager ======\n",
      "Current google-chrome version is 104.0.5112\n",
      "Get LATEST chromedriver version for 104.0.5112 google-chrome\n",
      "Driver [/Users/cliff/.wdm/drivers/chromedriver/mac64/104.0.5112.79/chromedriver] found in cache\n",
      " 84%|███████████████████████████████████▉       | 41/49 [23:41<04:40, 35.05s/it]\n",
      "\n",
      "====== WebDriver manager ======\n",
      "Current google-chrome version is 104.0.5112\n",
      "Get LATEST chromedriver version for 104.0.5112 google-chrome\n",
      "Driver [/Users/cliff/.wdm/drivers/chromedriver/mac64/104.0.5112.79/chromedriver] found in cache\n",
      " 86%|████████████████████████████████████▊      | 42/49 [24:15<04:03, 34.76s/it]\n",
      "\n",
      "====== WebDriver manager ======\n",
      "Current google-chrome version is 104.0.5112\n",
      "Get LATEST chromedriver version for 104.0.5112 google-chrome\n",
      "Driver [/Users/cliff/.wdm/drivers/chromedriver/mac64/104.0.5112.79/chromedriver] found in cache\n",
      " 88%|█████████████████████████████████████▋     | 43/49 [24:52<03:32, 35.45s/it]\n",
      "\n",
      "====== WebDriver manager ======\n",
      "Current google-chrome version is 104.0.5112\n",
      "Get LATEST chromedriver version for 104.0.5112 google-chrome\n",
      "Driver [/Users/cliff/.wdm/drivers/chromedriver/mac64/104.0.5112.79/chromedriver] found in cache\n",
      " 90%|██████████████████████████████████████▌    | 44/49 [25:25<02:53, 34.68s/it]\n",
      "\n",
      "====== WebDriver manager ======\n",
      "Current google-chrome version is 104.0.5112\n",
      "Get LATEST chromedriver version for 104.0.5112 google-chrome\n",
      "Driver [/Users/cliff/.wdm/drivers/chromedriver/mac64/104.0.5112.79/chromedriver] found in cache\n",
      " 92%|███████████████████████████████████████▍   | 45/49 [25:55<02:13, 33.33s/it]\n",
      "\n",
      "====== WebDriver manager ======\n",
      "Current google-chrome version is 104.0.5112\n",
      "Get LATEST chromedriver version for 104.0.5112 google-chrome\n",
      "Driver [/Users/cliff/.wdm/drivers/chromedriver/mac64/104.0.5112.79/chromedriver] found in cache\n",
      " 94%|████████████████████████████████████████▎  | 46/49 [26:27<01:38, 32.96s/it]\n",
      "\n",
      "====== WebDriver manager ======\n",
      "Current google-chrome version is 104.0.5112\n",
      "Get LATEST chromedriver version for 104.0.5112 google-chrome\n",
      "Driver [/Users/cliff/.wdm/drivers/chromedriver/mac64/104.0.5112.79/chromedriver] found in cache\n",
      " 96%|█████████████████████████████████████████▏ | 47/49 [27:03<01:07, 33.75s/it]\n",
      "\n",
      "====== WebDriver manager ======\n",
      "Current google-chrome version is 104.0.5112\n",
      "Get LATEST chromedriver version for 104.0.5112 google-chrome\n",
      "Driver [/Users/cliff/.wdm/drivers/chromedriver/mac64/104.0.5112.79/chromedriver] found in cache\n",
      " 98%|██████████████████████████████████████████ | 48/49 [27:21<00:28, 28.94s/it]\n",
      "\n",
      "====== WebDriver manager ======\n",
      "Current google-chrome version is 104.0.5112\n",
      "Get LATEST chromedriver version for 104.0.5112 google-chrome\n",
      "Driver [/Users/cliff/.wdm/drivers/chromedriver/mac64/104.0.5112.79/chromedriver] found in cache\n",
      "100%|███████████████████████████████████████████| 49/49 [27:22<00:00, 33.52s/it]\n"
     ]
    }
   ],
   "source": [
    "# for i in tqdm(range(0,250,5)):\n",
    "for i in tqdm(range(0,10,5)):\n",
    "# for i in tqdm(range(10,255,5)):\n",
    "    try:\n",
    "        book_lists = full_book_list[i:i+5]\n",
    "        title_dict = dict()\n",
    "        browser = activate_chrome_selenium_latest(have_pic=False, is_headless=True)\n",
    "        \n",
    "        for title in book_lists:\n",
    "            url_query = title_to_full_url(title)\n",
    "            # If title equals to these, remove paperback\n",
    "            if title in paperback_exclusions:\n",
    "                url_query = \"+\".join(url_query.split(\"+\")[:-1])\n",
    "            \n",
    "            browser.get(url_query)\n",
    "            soup = bs(browser.page_source, 'html5lib')\n",
    "\n",
    "            first_price = soup.find(class_ = 'a-offscreen').text\n",
    "            final_first_price = float(first_price.replace('S$', ''))\n",
    "            scrapped_title = soup.find('h2', 'a-size-mini a-spacing-none a-color-base s-line-clamp-4').text.strip()\n",
    "            title_dict[scrapped_title] = final_first_price\n",
    "            time.sleep(3)\n",
    "\n",
    "        ## Saving files locally\n",
    "        title_prices = pd.DataFrame.from_dict(title_dict, orient='index').reset_index()\n",
    "        title_prices['title'] = book_lists\n",
    "        title_prices.columns = ['scraped_title', 'price', 'given_title']\n",
    "        title_prices[['given_title', 'scraped_title', 'price']].to_csv(f\"book_list_{i}.csv\", index=False)\n",
    "\n",
    "        browser.close()\n",
    "        time.sleep(5)\n",
    "    except:\n",
    "        browser.close()\n",
    "        pass"
   ]
  },
  {
   "cell_type": "markdown",
   "id": "e73979a7-9fc8-4e68-a4a9-66eaa3848b38",
   "metadata": {},
   "source": [
    "### Check locally saved files"
   ]
  },
  {
   "cell_type": "code",
   "execution_count": 11,
   "id": "61611503-0737-4e4a-ada6-d864754593d2",
   "metadata": {},
   "outputs": [
    {
     "data": {
      "text/plain": [
       "50"
      ]
     },
     "execution_count": 11,
     "metadata": {},
     "output_type": "execute_result"
    }
   ],
   "source": [
    "from glob import glob\n",
    "saved_book_list = glob(\"book_list*.csv\")\n",
    "len(saved_book_list)"
   ]
  },
  {
   "cell_type": "code",
   "execution_count": 40,
   "id": "ce193c4a-579c-498a-b624-d626814c0da2",
   "metadata": {},
   "outputs": [],
   "source": [
    "df = pd.DataFrame()\n",
    "for file in saved_book_list:\n",
    "    tmp_table = pd.read_csv(file)\n",
    "    tmp_table['i'] = file.split(\"_\")[-1].split('.')[0]\n",
    "    df = df.append(tmp_table)\n",
    "df.reset_index(drop=True, inplace=True)"
   ]
  },
  {
   "cell_type": "code",
   "execution_count": 41,
   "id": "ef87cb3c-25fe-4779-ba9f-7bdd50b9d587",
   "metadata": {},
   "outputs": [
    {
     "data": {
      "text/plain": [
       "(247, 4)"
      ]
     },
     "execution_count": 41,
     "metadata": {},
     "output_type": "execute_result"
    }
   ],
   "source": [
    "df.shape"
   ]
  },
  {
   "cell_type": "code",
   "execution_count": 42,
   "id": "0f4b6257-22ee-4e3f-86ba-221239e5bcb0",
   "metadata": {},
   "outputs": [
    {
     "data": {
      "text/html": [
       "<div>\n",
       "<style scoped>\n",
       "    .dataframe tbody tr th:only-of-type {\n",
       "        vertical-align: middle;\n",
       "    }\n",
       "\n",
       "    .dataframe tbody tr th {\n",
       "        vertical-align: top;\n",
       "    }\n",
       "\n",
       "    .dataframe thead th {\n",
       "        text-align: right;\n",
       "    }\n",
       "</style>\n",
       "<table border=\"1\" class=\"dataframe\">\n",
       "  <thead>\n",
       "    <tr style=\"text-align: right;\">\n",
       "      <th></th>\n",
       "      <th>given_title</th>\n",
       "      <th>scraped_title</th>\n",
       "      <th>price</th>\n",
       "      <th>i</th>\n",
       "    </tr>\n",
       "  </thead>\n",
       "  <tbody>\n",
       "    <tr>\n",
       "      <th>0</th>\n",
       "      <td>Marketing Automation for Dummies</td>\n",
       "      <td>MARKETING AUTOMATION FOR DUMMIES [Paperback] MATHEW SWEEZEY</td>\n",
       "      <td>19.82</td>\n",
       "      <td>115</td>\n",
       "    </tr>\n",
       "    <tr>\n",
       "      <th>1</th>\n",
       "      <td>Who Gets What - And Why?</td>\n",
       "      <td>From Strength to Strength: Finding Success, Happiness, and Deep Purpose in the Second Half of Life</td>\n",
       "      <td>29.96</td>\n",
       "      <td>115</td>\n",
       "    </tr>\n",
       "    <tr>\n",
       "      <th>2</th>\n",
       "      <td>The Effective Engineer</td>\n",
       "      <td>The Six Habits of Highly Effective Sales Engineers</td>\n",
       "      <td>30.41</td>\n",
       "      <td>115</td>\n",
       "    </tr>\n",
       "    <tr>\n",
       "      <th>3</th>\n",
       "      <td>Barking Up The Wrong Tree</td>\n",
       "      <td>Barking Up the Wrong Tree: The Surprising Science Behind Why Everything You Know About Success Is (Mostly) Wrong</td>\n",
       "      <td>30.98</td>\n",
       "      <td>115</td>\n",
       "    </tr>\n",
       "    <tr>\n",
       "      <th>4</th>\n",
       "      <td>Cyber Crime &amp; Warfare</td>\n",
       "      <td>Sandworm: A New Era of Cyberwar and the Hunt for the Kremlin's Most Dangerous Hackers</td>\n",
       "      <td>21.35</td>\n",
       "      <td>115</td>\n",
       "    </tr>\n",
       "  </tbody>\n",
       "</table>\n",
       "</div>"
      ],
      "text/plain": [
       "                        given_title  \\\n",
       "0  Marketing Automation for Dummies   \n",
       "1          Who Gets What - And Why?   \n",
       "2            The Effective Engineer   \n",
       "3         Barking Up The Wrong Tree   \n",
       "4             Cyber Crime & Warfare   \n",
       "\n",
       "                                                                                                      scraped_title  \\\n",
       "0                                                       MARKETING AUTOMATION FOR DUMMIES [Paperback] MATHEW SWEEZEY   \n",
       "1                From Strength to Strength: Finding Success, Happiness, and Deep Purpose in the Second Half of Life   \n",
       "2                                                                The Six Habits of Highly Effective Sales Engineers   \n",
       "3  Barking Up the Wrong Tree: The Surprising Science Behind Why Everything You Know About Success Is (Mostly) Wrong   \n",
       "4                             Sandworm: A New Era of Cyberwar and the Hunt for the Kremlin's Most Dangerous Hackers   \n",
       "\n",
       "   price    i  \n",
       "0  19.82  115  \n",
       "1  29.96  115  \n",
       "2  30.41  115  \n",
       "3  30.98  115  \n",
       "4  21.35  115  "
      ]
     },
     "execution_count": 42,
     "metadata": {},
     "output_type": "execute_result"
    }
   ],
   "source": [
    "df.head()"
   ]
  },
  {
   "cell_type": "markdown",
   "id": "d1795949-230f-4284-8f19-2f5489476545",
   "metadata": {},
   "source": [
    "### Summary Statistics "
   ]
  },
  {
   "cell_type": "code",
   "execution_count": 34,
   "id": "2eb9b795-47ab-4fcf-8489-26f9521dba3a",
   "metadata": {},
   "outputs": [
    {
     "name": "stdout",
     "output_type": "stream",
     "text": [
      "Total books: 247\n",
      "Total book costs: SGD 8536.2\n",
      "Average book costs: SGD 34.56\n"
     ]
    }
   ],
   "source": [
    "print(f\"Total books: {df.price.count()}\")\n",
    "print(f\"Total book costs: SGD {df.price.sum()}\")\n",
    "print(f\"Average book costs: SGD {round(df.price.sum() / df.price.count(), 2)}\")"
   ]
  },
  {
   "cell_type": "markdown",
   "id": "0293fc8a-05a6-4e50-b352-bb7eb80cd395",
   "metadata": {},
   "source": [
    "### Given Title to Scraped Title Quality Check "
   ]
  },
  {
   "cell_type": "code",
   "execution_count": null,
   "id": "ae3c374b-984b-44b7-8ed8-ed53f618ef26",
   "metadata": {},
   "outputs": [],
   "source": [
    "# !python -m spacy download en"
   ]
  },
  {
   "cell_type": "code",
   "execution_count": 35,
   "id": "3d452bd7-3338-4ad6-b852-407465577617",
   "metadata": {},
   "outputs": [],
   "source": [
    "import spacy\n",
    "import en_core_web_sm\n",
    "nlp = en_core_web_sm.load()"
   ]
  },
  {
   "cell_type": "code",
   "execution_count": 44,
   "id": "e2ed7177-7515-4dbb-b524-de0db60a0c26",
   "metadata": {},
   "outputs": [],
   "source": [
    "df['title_check'] = [nlp(i.split(\":\")[0]).similarity(nlp(j.split(':')[0])) for i,j in zip(df.given_title, df.scraped_title)]"
   ]
  },
  {
   "cell_type": "code",
   "execution_count": 45,
   "id": "440a9a6f-937e-4cf7-a921-ab43852bea3c",
   "metadata": {},
   "outputs": [
    {
     "data": {
      "text/plain": [
       "(120, 5)"
      ]
     },
     "execution_count": 45,
     "metadata": {},
     "output_type": "execute_result"
    }
   ],
   "source": [
    "df[df['title_check'] < .7].shape"
   ]
  },
  {
   "cell_type": "code",
   "execution_count": 51,
   "id": "2a29b33e-e1c2-4d13-8994-d4c8afa505ab",
   "metadata": {},
   "outputs": [
    {
     "data": {
      "text/html": [
       "<div>\n",
       "<style scoped>\n",
       "    .dataframe tbody tr th:only-of-type {\n",
       "        vertical-align: middle;\n",
       "    }\n",
       "\n",
       "    .dataframe tbody tr th {\n",
       "        vertical-align: top;\n",
       "    }\n",
       "\n",
       "    .dataframe thead th {\n",
       "        text-align: right;\n",
       "    }\n",
       "</style>\n",
       "<table border=\"1\" class=\"dataframe\">\n",
       "  <thead>\n",
       "    <tr style=\"text-align: right;\">\n",
       "      <th></th>\n",
       "      <th>i</th>\n",
       "      <th>title_check</th>\n",
       "    </tr>\n",
       "  </thead>\n",
       "  <tbody>\n",
       "    <tr>\n",
       "      <th>0</th>\n",
       "      <td>0</td>\n",
       "      <td>1</td>\n",
       "    </tr>\n",
       "    <tr>\n",
       "      <th>1</th>\n",
       "      <td>5</td>\n",
       "      <td>2</td>\n",
       "    </tr>\n",
       "    <tr>\n",
       "      <th>2</th>\n",
       "      <td>10</td>\n",
       "      <td>1</td>\n",
       "    </tr>\n",
       "    <tr>\n",
       "      <th>3</th>\n",
       "      <td>15</td>\n",
       "      <td>2</td>\n",
       "    </tr>\n",
       "    <tr>\n",
       "      <th>4</th>\n",
       "      <td>20</td>\n",
       "      <td>3</td>\n",
       "    </tr>\n",
       "  </tbody>\n",
       "</table>\n",
       "</div>"
      ],
      "text/plain": [
       "    i  title_check\n",
       "0   0            1\n",
       "1   5            2\n",
       "2  10            1\n",
       "3  15            2\n",
       "4  20            3"
      ]
     },
     "execution_count": 51,
     "metadata": {},
     "output_type": "execute_result"
    }
   ],
   "source": [
    "to_check = df[df['title_check'] < .7].groupby('i')['title_check'].count().reset_index()\n",
    "to_check['i'] = to_check['i'].astype(int)\n",
    "to_check.sort_values('i').reset_index(drop=True).head()"
   ]
  },
  {
   "cell_type": "code",
   "execution_count": null,
   "id": "d09516a1-49f6-4ee9-90cb-c8b688ca4887",
   "metadata": {},
   "outputs": [],
   "source": [
    "paperback_exclusions = [\"1337 h4x0r H4ndb00k\", \n",
    "                        \"The Strategist The Life and Times of Thomas Schelling\", \n",
    "                        \"big data understanding how data power big business\",\n",
    "                        \"23 things they dont tell you about capitalism\", \n",
    "                        \"Super Crunchers\", \"EconoMyths\", \"How Pleasure Works\", \n",
    "                        \"The Tinkerers: The Amateurs, DIYers, and Inventors Who Make America Great\", \n",
    "                        \"Rebel Buddha\", \"automate this how algorithms came to rule our world\",\n",
    "                        \"How to read a Modern Painting\", \"The Art of Lean Software Development\",\n",
    "                        \"The Secret of Competitive Intelligence\", \"Think like Zuck\", \"The Clean Coder\",\n",
    "                        \"The Lazy Winner\", \"The Rules of Work\", \"Data Scientist at Work\", \n",
    "                        \"The happiness code ten keys to being the best you can be\", \n",
    "                        \"The Digital Marketer: 10 New skills you must learn to stay relevant and customer-centric\",\n",
    "                        \"Data Mining for Managers\", \"Analytics at Work\", \"Data-driven Marketing for Dummies\", \n",
    "                        \"Bad Data Handbook\", \"Innovation: How to Produce Creative and Useful Scientific Ideas\",\n",
    "                        \"Web Scraping with Python\", \"The Big Data-Driven Business\", \n",
    "                        \"Big Data: Understanding How Data Powers Big Business\", \"Yoga Wisdom at Work\", \n",
    "                        \"How to Have a Good Day\", \"Marketing Automation for Dummies\", \"Cyber Crime & Warfare\", \n",
    "                        \"Lean Analytics\", \"Making Habits, Breaking Habits\", \"Seven steps to train your mind\", \n",
    "                        \"Smart Change\", \"Grit to Great\", \"he Success Equation\", \"Rise of the Platform Marketer\", \n",
    "                        \"The Mathematical Corporation: Where Machine Intelligence and Human Ingenuity Achieve the Impossible\"\n",
    "                        \n",
    "                       ]"
   ]
  },
  {
   "cell_type": "code",
   "execution_count": 87,
   "id": "788cadf5-941a-4b33-ab7b-575784eb483d",
   "metadata": {},
   "outputs": [
    {
     "data": {
      "text/html": [
       "<div>\n",
       "<style scoped>\n",
       "    .dataframe tbody tr th:only-of-type {\n",
       "        vertical-align: middle;\n",
       "    }\n",
       "\n",
       "    .dataframe tbody tr th {\n",
       "        vertical-align: top;\n",
       "    }\n",
       "\n",
       "    .dataframe thead th {\n",
       "        text-align: right;\n",
       "    }\n",
       "</style>\n",
       "<table border=\"1\" class=\"dataframe\">\n",
       "  <thead>\n",
       "    <tr style=\"text-align: right;\">\n",
       "      <th></th>\n",
       "      <th>given_title</th>\n",
       "      <th>scraped_title</th>\n",
       "      <th>price</th>\n",
       "      <th>i</th>\n",
       "      <th>title_check</th>\n",
       "    </tr>\n",
       "  </thead>\n",
       "  <tbody>\n",
       "    <tr>\n",
       "      <th>171</th>\n",
       "      <td>The Mathematical Corporation</td>\n",
       "      <td>Corporate Financial Reporting and Analysis: A Global Perspective</td>\n",
       "      <td>88.87</td>\n",
       "      <td>145</td>\n",
       "      <td>0.622813</td>\n",
       "    </tr>\n",
       "    <tr>\n",
       "      <th>172</th>\n",
       "      <td>Rise of the Platform Marketer</td>\n",
       "      <td>The Boy in the Striped Pajamas</td>\n",
       "      <td>16.26</td>\n",
       "      <td>145</td>\n",
       "      <td>0.680670</td>\n",
       "    </tr>\n",
       "    <tr>\n",
       "      <th>173</th>\n",
       "      <td>Does it Work? 10 Principles for Delivering True Business Value in Digital Marketing</td>\n",
       "      <td>Tiffen 82mm Variable ND Filter</td>\n",
       "      <td>238.38</td>\n",
       "      <td>145</td>\n",
       "      <td>0.561008</td>\n",
       "    </tr>\n",
       "  </tbody>\n",
       "</table>\n",
       "</div>"
      ],
      "text/plain": [
       "                                                                             given_title  \\\n",
       "171                                                         The Mathematical Corporation   \n",
       "172                                                        Rise of the Platform Marketer   \n",
       "173  Does it Work? 10 Principles for Delivering True Business Value in Digital Marketing   \n",
       "\n",
       "                                                        scraped_title   price  \\\n",
       "171  Corporate Financial Reporting and Analysis: A Global Perspective   88.87   \n",
       "172                                    The Boy in the Striped Pajamas   16.26   \n",
       "173                                    Tiffen 82mm Variable ND Filter  238.38   \n",
       "\n",
       "       i  title_check  \n",
       "171  145     0.622813  \n",
       "172  145     0.680670  \n",
       "173  145     0.561008  "
      ]
     },
     "execution_count": 87,
     "metadata": {},
     "output_type": "execute_result"
    }
   ],
   "source": [
    "df[(df.i == '145') & (df.title_check < .7)]"
   ]
  },
  {
   "cell_type": "markdown",
   "id": "7c3a08d2-b8b8-4a4a-af5e-01f354a1bd48",
   "metadata": {},
   "source": [
    "### Something to do with `paperback` search"
   ]
  },
  {
   "cell_type": "code",
   "execution_count": 47,
   "id": "db0946fe-324f-4c80-840a-9e1b633fa5ed",
   "metadata": {},
   "outputs": [
    {
     "data": {
      "text/html": [
       "<div>\n",
       "<style scoped>\n",
       "    .dataframe tbody tr th:only-of-type {\n",
       "        vertical-align: middle;\n",
       "    }\n",
       "\n",
       "    .dataframe tbody tr th {\n",
       "        vertical-align: top;\n",
       "    }\n",
       "\n",
       "    .dataframe thead th {\n",
       "        text-align: right;\n",
       "    }\n",
       "</style>\n",
       "<table border=\"1\" class=\"dataframe\">\n",
       "  <thead>\n",
       "    <tr style=\"text-align: right;\">\n",
       "      <th></th>\n",
       "      <th>given_title</th>\n",
       "      <th>scraped_title</th>\n",
       "      <th>price</th>\n",
       "      <th>i</th>\n",
       "      <th>title_check</th>\n",
       "    </tr>\n",
       "  </thead>\n",
       "  <tbody>\n",
       "    <tr>\n",
       "      <th>12</th>\n",
       "      <td>Smartworlds</td>\n",
       "      <td>The Boy in the Striped Pajamas</td>\n",
       "      <td>16.26</td>\n",
       "      <td>35</td>\n",
       "      <td>0.124945</td>\n",
       "    </tr>\n",
       "    <tr>\n",
       "      <th>35</th>\n",
       "      <td>EconoMyths</td>\n",
       "      <td>The Boy in the Striped Pajamas</td>\n",
       "      <td>16.26</td>\n",
       "      <td>25</td>\n",
       "      <td>0.274736</td>\n",
       "    </tr>\n",
       "    <tr>\n",
       "      <th>72</th>\n",
       "      <td>Innovation: How to Produce Creative and Useful Scientific Ideas</td>\n",
       "      <td>The Boy in the Striped Pajamas</td>\n",
       "      <td>16.26</td>\n",
       "      <td>95</td>\n",
       "      <td>0.109100</td>\n",
       "    </tr>\n",
       "    <tr>\n",
       "      <th>84</th>\n",
       "      <td>The Fuzzy and the Techie</td>\n",
       "      <td>The Boy in the Striped Pajamas</td>\n",
       "      <td>16.26</td>\n",
       "      <td>160</td>\n",
       "      <td>0.659540</td>\n",
       "    </tr>\n",
       "    <tr>\n",
       "      <th>124</th>\n",
       "      <td>Getting Started with D3</td>\n",
       "      <td>The Boy in the Striped Pajamas</td>\n",
       "      <td>16.26</td>\n",
       "      <td>210</td>\n",
       "      <td>0.363198</td>\n",
       "    </tr>\n",
       "    <tr>\n",
       "      <th>172</th>\n",
       "      <td>Rise of the Platform Marketer</td>\n",
       "      <td>The Boy in the Striped Pajamas</td>\n",
       "      <td>16.26</td>\n",
       "      <td>145</td>\n",
       "      <td>0.680670</td>\n",
       "    </tr>\n",
       "    <tr>\n",
       "      <th>178</th>\n",
       "      <td>Engaging Customers Using Big Data</td>\n",
       "      <td>The Boy in the Striped Pajamas</td>\n",
       "      <td>16.26</td>\n",
       "      <td>150</td>\n",
       "      <td>0.518202</td>\n",
       "    </tr>\n",
       "    <tr>\n",
       "      <th>201</th>\n",
       "      <td>CSS-Refactoring</td>\n",
       "      <td>The Boy in the Striped Pajamas</td>\n",
       "      <td>16.26</td>\n",
       "      <td>225</td>\n",
       "      <td>0.319084</td>\n",
       "    </tr>\n",
       "    <tr>\n",
       "      <th>205</th>\n",
       "      <td>1337 h4x0r H4ndb00k</td>\n",
       "      <td>The Boy in the Striped Pajamas</td>\n",
       "      <td>16.26</td>\n",
       "      <td>70</td>\n",
       "      <td>-0.040250</td>\n",
       "    </tr>\n",
       "    <tr>\n",
       "      <th>235</th>\n",
       "      <td>The Strategist The Life and Times of Thomas Schelling</td>\n",
       "      <td>The Boy in the Striped Pajamas</td>\n",
       "      <td>16.26</td>\n",
       "      <td>10</td>\n",
       "      <td>0.702106</td>\n",
       "    </tr>\n",
       "  </tbody>\n",
       "</table>\n",
       "</div>"
      ],
      "text/plain": [
       "                                                         given_title  \\\n",
       "12                                                       Smartworlds   \n",
       "35                                                        EconoMyths   \n",
       "72   Innovation: How to Produce Creative and Useful Scientific Ideas   \n",
       "84                                          The Fuzzy and the Techie   \n",
       "124                                          Getting Started with D3   \n",
       "172                                    Rise of the Platform Marketer   \n",
       "178                                Engaging Customers Using Big Data   \n",
       "201                                                  CSS-Refactoring   \n",
       "205                                              1337 h4x0r H4ndb00k   \n",
       "235            The Strategist The Life and Times of Thomas Schelling   \n",
       "\n",
       "                      scraped_title  price    i  title_check  \n",
       "12   The Boy in the Striped Pajamas  16.26   35     0.124945  \n",
       "35   The Boy in the Striped Pajamas  16.26   25     0.274736  \n",
       "72   The Boy in the Striped Pajamas  16.26   95     0.109100  \n",
       "84   The Boy in the Striped Pajamas  16.26  160     0.659540  \n",
       "124  The Boy in the Striped Pajamas  16.26  210     0.363198  \n",
       "172  The Boy in the Striped Pajamas  16.26  145     0.680670  \n",
       "178  The Boy in the Striped Pajamas  16.26  150     0.518202  \n",
       "201  The Boy in the Striped Pajamas  16.26  225     0.319084  \n",
       "205  The Boy in the Striped Pajamas  16.26   70    -0.040250  \n",
       "235  The Boy in the Striped Pajamas  16.26   10     0.702106  "
      ]
     },
     "execution_count": 47,
     "metadata": {},
     "output_type": "execute_result"
    }
   ],
   "source": [
    "df[df['scraped_title'] == \"The Boy in the Striped Pajamas\"]"
   ]
  },
  {
   "cell_type": "code",
   "execution_count": null,
   "id": "833c89b7-e326-4cff-9e1b-aab79329e8ae",
   "metadata": {},
   "outputs": [],
   "source": []
  }
 ],
 "metadata": {
  "kernelspec": {
   "display_name": "Python 3 (ipykernel)",
   "language": "python",
   "name": "python3"
  },
  "language_info": {
   "codemirror_mode": {
    "name": "ipython",
    "version": 3
   },
   "file_extension": ".py",
   "mimetype": "text/x-python",
   "name": "python",
   "nbconvert_exporter": "python",
   "pygments_lexer": "ipython3",
   "version": "3.9.10"
  }
 },
 "nbformat": 4,
 "nbformat_minor": 5
}
