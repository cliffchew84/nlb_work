{
 "cells": [
  {
   "cell_type": "markdown",
   "id": "c14363ad-65a5-4bbe-a950-02b15fe9eb45",
   "metadata": {},
   "source": [
    "### https://ravilabio.info/2020/04/10/reverse-engineering-abebooks-api.html"
   ]
  },
  {
   "cell_type": "code",
   "execution_count": 5,
   "id": "f345341e-cfa4-4bd2-a024-2f736eaf2f37",
   "metadata": {},
   "outputs": [
    {
     "data": {
      "text/plain": [
       "(237, 3)"
      ]
     },
     "execution_count": 5,
     "metadata": {},
     "output_type": "execute_result"
    }
   ],
   "source": [
    "from glob import glob\n",
    "import pandas as pd\n",
    "\n",
    "df = pd.DataFrame()\n",
    "for files in glob(\"*v2.csv\"):\n",
    "    df = df.append(pd.read_csv(files))\n",
    "df.shape"
   ]
  },
  {
   "cell_type": "code",
   "execution_count": 6,
   "id": "48cf2bbe-ce56-4cdb-b10d-206e9959c22b",
   "metadata": {},
   "outputs": [
    {
     "data": {
      "text/html": [
       "<div>\n",
       "<style scoped>\n",
       "    .dataframe tbody tr th:only-of-type {\n",
       "        vertical-align: middle;\n",
       "    }\n",
       "\n",
       "    .dataframe tbody tr th {\n",
       "        vertical-align: top;\n",
       "    }\n",
       "\n",
       "    .dataframe thead th {\n",
       "        text-align: right;\n",
       "    }\n",
       "</style>\n",
       "<table border=\"1\" class=\"dataframe\">\n",
       "  <thead>\n",
       "    <tr style=\"text-align: right;\">\n",
       "      <th></th>\n",
       "      <th>given_title</th>\n",
       "      <th>scraped_title</th>\n",
       "      <th>price</th>\n",
       "    </tr>\n",
       "  </thead>\n",
       "  <tbody>\n",
       "    <tr>\n",
       "      <th>0</th>\n",
       "      <td>Seven steps to train your mind</td>\n",
       "      <td>Seven Steps to Train Your Mind</td>\n",
       "      <td>56.74</td>\n",
       "    </tr>\n",
       "    <tr>\n",
       "      <th>1</th>\n",
       "      <td>The Obstacle Is The Way</td>\n",
       "      <td>The Obstacle Is the Way: The Timeless Art of T...</td>\n",
       "      <td>23.54</td>\n",
       "    </tr>\n",
       "    <tr>\n",
       "      <th>2</th>\n",
       "      <td>Growth Hacker Marketing</td>\n",
       "      <td>Growth Hacker Marketing: A Primer on the Futur...</td>\n",
       "      <td>19.48</td>\n",
       "    </tr>\n",
       "    <tr>\n",
       "      <th>3</th>\n",
       "      <td>Trust Me, I’m Lying: Confession of a Media Man...</td>\n",
       "      <td>Trust Me, I'm Lying: Confessions of a Media Ma...</td>\n",
       "      <td>22.89</td>\n",
       "    </tr>\n",
       "    <tr>\n",
       "      <th>4</th>\n",
       "      <td>Making Habits, Breaking Habits</td>\n",
       "      <td>Making Habits, Breaking Habits: Why We Do Thin...</td>\n",
       "      <td>27.18</td>\n",
       "    </tr>\n",
       "  </tbody>\n",
       "</table>\n",
       "</div>"
      ],
      "text/plain": [
       "                                         given_title  \\\n",
       "0                     Seven steps to train your mind   \n",
       "1                            The Obstacle Is The Way   \n",
       "2                            Growth Hacker Marketing   \n",
       "3  Trust Me, I’m Lying: Confession of a Media Man...   \n",
       "4                     Making Habits, Breaking Habits   \n",
       "\n",
       "                                       scraped_title  price  \n",
       "0                     Seven Steps to Train Your Mind  56.74  \n",
       "1  The Obstacle Is the Way: The Timeless Art of T...  23.54  \n",
       "2  Growth Hacker Marketing: A Primer on the Futur...  19.48  \n",
       "3  Trust Me, I'm Lying: Confessions of a Media Ma...  22.89  \n",
       "4  Making Habits, Breaking Habits: Why We Do Thin...  27.18  "
      ]
     },
     "execution_count": 6,
     "metadata": {},
     "output_type": "execute_result"
    }
   ],
   "source": [
    "df.head()"
   ]
  },
  {
   "cell_type": "code",
   "execution_count": 9,
   "id": "aa0ca522-60ed-4364-bfff-3fb203c47090",
   "metadata": {},
   "outputs": [],
   "source": [
    "import requests\n",
    "url = \"https://www.abebooks.com/servlet/DWRestService/pricingservice\""
   ]
  },
  {
   "cell_type": "code",
   "execution_count": 11,
   "id": "bb644527-758b-451d-97b0-c00bc15e4f73",
   "metadata": {},
   "outputs": [],
   "source": [
    "#- Search prices by ISBN\n",
    "payload1 = {'action': 'getPricingDataByISBN',\n",
    "           'isbn': 9781250297662,\n",
    "           'container': 'pricingService-9781250297662'}\n",
    "\n",
    "#- Search prices by author and title\n",
    "payload2 = {'action': 'getPricingDataForAuthorTitleStandardAddToBasket',\n",
    "            'an': 'liu ken',\n",
    "            'tn': 'broken stars',\n",
    "            'container': 'oe-search-all'}\n",
    "\n",
    "payload3 = {'action': 'getPricingDataForAuthorTitleStandardAddToBasket',\n",
    "            # 'an': 'liu ken',\n",
    "            'tn': 'making habits breaking habits',\n",
    "            'container': 'oe-search-all'}"
   ]
  },
  {
   "cell_type": "code",
   "execution_count": 12,
   "id": "bde0c171-fa4b-4914-9642-be355eebc1e5",
   "metadata": {},
   "outputs": [
    {
     "name": "stdout",
     "output_type": "stream",
     "text": [
      "200 \n"
     ]
    },
    {
     "data": {
      "text/plain": [
       "{'errorTexts': [None],\n",
       " 'errorCodes': [None],\n",
       " 'success': True,\n",
       " 'newExists': True,\n",
       " 'usedExists': True,\n",
       " 'pricingInfoForBestNew': {'bestListingid': 30619133469,\n",
       "  'totalResults': 195,\n",
       "  'bestPriceInPurchaseCurrencyWithCurrencySymbol': 'US$ 9.98',\n",
       "  'bestPriceInSurferCurrencyWithCurrencySymbol': 'US$ 9.98',\n",
       "  'domesticShippingPriceInPurchaseCurrencyWithCurrencySymbol': 'US$ 1.46',\n",
       "  'shippingToDestinationPriceInPurchaseCurrencyWithCurrencySymbol': 'US$ 0.00',\n",
       "  'shippingToDestinationPriceInSurferCurrencyWithCurrencySymbol': 'US$ 0.00',\n",
       "  'shippingDestinationNameInSurferLanguage': 'U.S.A.',\n",
       "  'vendorCountryNameInSurferLanguage': 'United Kingdom',\n",
       "  'vendorId': 63688905,\n",
       "  'bestPriceInPurchaseCurrencyValueOnly': '9.98',\n",
       "  'bestShippingToDestinationPriceInPurchaseCurrencyValueOnly': '0.0',\n",
       "  'listingCurrencySymbol': '£',\n",
       "  'purchaseCurrencySymbol': 'US$',\n",
       "  'nonPaddedPriceInListingCurrencyValueOnly': '8.04',\n",
       "  'refinementList': None,\n",
       "  'internationalEdition': False,\n",
       "  'bookCondition': 'New',\n",
       "  'bookDescription': 'Language: English. Brand new Book...',\n",
       "  'freeShipping': True},\n",
       " 'pricingInfoForBestUsed': {'bestListingid': 31137105020,\n",
       "  'totalResults': 368,\n",
       "  'bestPriceInPurchaseCurrencyWithCurrencySymbol': 'US$ 4.04',\n",
       "  'bestPriceInSurferCurrencyWithCurrencySymbol': 'US$ 4.04',\n",
       "  'domesticShippingPriceInPurchaseCurrencyWithCurrencySymbol': 'US$ 0.00',\n",
       "  'shippingToDestinationPriceInPurchaseCurrencyWithCurrencySymbol': 'US$ 0.00',\n",
       "  'shippingToDestinationPriceInSurferCurrencyWithCurrencySymbol': 'US$ 0.00',\n",
       "  'shippingDestinationNameInSurferLanguage': 'U.S.A.',\n",
       "  'vendorCountryNameInSurferLanguage': 'U.S.A.',\n",
       "  'vendorId': 55604094,\n",
       "  'bestPriceInPurchaseCurrencyValueOnly': '4.04',\n",
       "  'bestShippingToDestinationPriceInPurchaseCurrencyValueOnly': '0.0',\n",
       "  'listingCurrencySymbol': 'US$',\n",
       "  'purchaseCurrencySymbol': 'US$',\n",
       "  'nonPaddedPriceInListingCurrencyValueOnly': '4.04',\n",
       "  'refinementList': None,\n",
       "  'internationalEdition': False,\n",
       "  'bookCondition': 'Good',\n",
       "  'bookDescription': None,\n",
       "  'freeShipping': True},\n",
       " 'pricingInfoForBestAllConditions': None,\n",
       " 'isbn': None,\n",
       " 'totalResults': 563,\n",
       " 'containerId': 'oe-search-all',\n",
       " 'refinementList': [{'name': 'bindingSoft',\n",
       "   'label': 'Softcover',\n",
       "   'count': 378,\n",
       "   'url': 'bi=s&sortby=17&tn=making%20habits%20breaking%20habits'},\n",
       "  {'name': 'collectibleJacket',\n",
       "   'label': 'Dust Jacket',\n",
       "   'count': 9,\n",
       "   'url': 'dj=on&sortby=17&tn=making%20habits%20breaking%20habits'},\n",
       "  {'name': 'freeShipping',\n",
       "   'label': 'Free US Shipping',\n",
       "   'count': 277,\n",
       "   'url': 'n=100046078&sortby=17&tn=making%20habits%20breaking%20habits'},\n",
       "  {'name': 'bindingHard',\n",
       "   'label': 'Hardcover',\n",
       "   'count': 163,\n",
       "   'url': 'bi=h&sortby=17&tn=making%20habits%20breaking%20habits'},\n",
       "  {'name': 'collectibleFirstEdition',\n",
       "   'label': 'First Edition',\n",
       "   'count': 10,\n",
       "   'url': 'fe=on&sortby=17&tn=making%20habits%20breaking%20habits'}],\n",
       " 'bibliographicDetail': {'author': '', 'title': 'making habits breaking'}}"
      ]
     },
     "execution_count": 12,
     "metadata": {},
     "output_type": "execute_result"
    }
   ],
   "source": [
    "#- Sending a request\n",
    "resp = requests.post(url, data=payload3)\n",
    "print(resp.status_code, resp.reason)\n",
    "resp.json()"
   ]
  },
  {
   "cell_type": "code",
   "execution_count": null,
   "id": "f1adc9b5-5730-4a8c-b8d6-fcf2f2807800",
   "metadata": {},
   "outputs": [],
   "source": []
  }
 ],
 "metadata": {
  "kernelspec": {
   "display_name": "Python 3 (ipykernel)",
   "language": "python",
   "name": "python3"
  },
  "language_info": {
   "codemirror_mode": {
    "name": "ipython",
    "version": 3
   },
   "file_extension": ".py",
   "mimetype": "text/x-python",
   "name": "python",
   "nbconvert_exporter": "python",
   "pygments_lexer": "ipython3",
   "version": "3.9.10"
  }
 },
 "nbformat": 4,
 "nbformat_minor": 5
}
