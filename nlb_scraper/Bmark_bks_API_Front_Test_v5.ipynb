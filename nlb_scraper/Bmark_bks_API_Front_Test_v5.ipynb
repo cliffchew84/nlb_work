{
 "cells": [
  {
   "cell_type": "markdown",
   "id": "8cb19c6e-43d3-4f51-8894-41e9c295d54f",
   "metadata": {},
   "source": [
    "### FireFox Selenium "
   ]
  },
  {
   "cell_type": "code",
   "execution_count": 18,
   "id": "ac82a9c3-6bed-410f-bd5f-f9f2aa3c9e38",
   "metadata": {},
   "outputs": [],
   "source": [
    "import time\n",
    "import os\n",
    "from selenium import webdriver\n",
    "from selenium.webdriver.chrome.options import Options\n",
    "from selenium.webdriver.support import expected_conditions as EC\n",
    "from selenium.webdriver.support.ui import WebDriverWait\n",
    "from selenium.webdriver.common.by import By\n",
    "from bs4 import BeautifulSoup as bs\n",
    "import re\n",
    "import math\n",
    "\n",
    "options = Options()\n",
    "# options.add_argument(\"--headless\")\n",
    "options.add_argument(\"--no-sandbox\")\n",
    "options.add_argument(\"--disable-dev-shm-usage\")\n",
    "options.add_argument(\"--disable-gpu\")\n",
    "options.add_argument(\"--disable-features=NetworkService\")\n",
    "options.add_argument(\"--window-size=1920x1080\")\n",
    "options.add_argument(\"--disable-features=VizDisplayCompositor\")"
   ]
  },
  {
   "cell_type": "code",
   "execution_count": 8,
   "id": "37d98b55-48ca-41e1-b4e0-12d235e395fd",
   "metadata": {},
   "outputs": [],
   "source": [
    "def log_in_nlb(browser, account_name: str, password: str):\n",
    "    \"\"\" Logins into the NLB app, and returns selenium browser object\n",
    "    \"\"\"\n",
    "\n",
    "    # Go login page\n",
    "    browser.get('https://cassamv2.nlb.gov.sg/cas/login')\n",
    "    time.sleep(1)\n",
    "    \n",
    "    account_info = [account_name, password]\n",
    "    tag_info = [\"\"\"//*[@id=\"username\"]\"\"\", \"\"\"//*[@id=\"password\"]\"\"\"]\n",
    "    \n",
    "    for info, tag in zip(account_info, tag_info):\n",
    "        browser.find_element(\"xpath\", tag).send_keys(\"{}\".format(info))\n",
    "        time.sleep(1)\n",
    "    \n",
    "    # Click login\n",
    "    browser.find_element(\"xpath\", \"\"\"//*[@id=\"fm1\"]/section/input[4]\"\"\").click()\n",
    "    return browser"
   ]
  },
  {
   "cell_type": "code",
   "execution_count": 10,
   "id": "9834cbc0-44cc-4f87-8db1-c86090013593",
   "metadata": {},
   "outputs": [
    {
     "name": "stderr",
     "output_type": "stream",
     "text": [
      "\n",
      "\n",
      "====== WebDriver manager ======\n",
      "Current google-chrome version is 104.0.5112\n",
      "Get LATEST chromedriver version for 104.0.5112 google-chrome\n",
      "Driver [/Users/cliff/.wdm/drivers/chromedriver/mac64/104.0.5112.79/chromedriver] found in cache\n"
     ]
    },
    {
     "data": {
      "text/plain": [
       "<selenium.webdriver.chrome.webdriver.WebDriver (session=\"4021333bf83685206a6b6fbffacc0e51\")>"
      ]
     },
     "execution_count": 10,
     "metadata": {},
     "output_type": "execute_result"
    }
   ],
   "source": [
    "from webdriver_manager.chrome import ChromeDriverManager\n",
    "\n",
    "driver = webdriver.Chrome(ChromeDriverManager().install(), options=options)\n",
    "log_in_nlb(driver, os.environ['nlb_login_account'], os.environ['nlb_login_pw'])"
   ]
  },
  {
   "cell_type": "code",
   "execution_count": 19,
   "id": "d95ac82b-0d4a-4f93-8632-500e91d87e0a",
   "metadata": {},
   "outputs": [
    {
     "name": "stdout",
     "output_type": "stream",
     "text": [
      "5\n"
     ]
    },
    {
     "data": {
      "text/plain": [
       "range(1, 4)"
      ]
     },
     "execution_count": 19,
     "metadata": {},
     "output_type": "execute_result"
    }
   ],
   "source": [
    "url_link = \"https://www.nlb.gov.sg/mylibrary/Bookmarks\"\n",
    "driver.get(url_link)\n",
    "time.sleep(5)\n",
    "soup = bs(driver.page_source, 'html5lib')\n",
    "\n",
    "max_records = float(soup.find_all(\"div\", text=re.compile(\"Showing\"))[0].text.split(\" \")[-2])\n",
    "range_list = range(1, int(math.ceil(max_records / 20)) + 1)\n",
    "\n",
    "# To indicate when the NEXT button is at\n",
    "counter = range_list[-1] + 2\n",
    "print(counter)\n",
    "range_list"
   ]
  },
  {
   "cell_type": "markdown",
   "id": "b26133e8-f6a7-4519-a965-15d75051028c",
   "metadata": {},
   "source": [
    "### Old code "
   ]
  },
  {
   "cell_type": "code",
   "execution_count": null,
   "id": "0b6e7b54-fcd1-4883-8904-46d0ccc19823",
   "metadata": {},
   "outputs": [],
   "source": [
    "%load_ext autoreload\n",
    "%autoreload 2\n",
    "\n",
    "from bs4 import BeautifulSoup as bs\n",
    "from zeep import Client, helpers\n",
    "from tqdm import tqdm\n",
    "from glob import glob\n",
    "import pandas as pd\n",
    "import numpy as np\n",
    "import rpa as r\n",
    "\n",
    "import warnings\n",
    "import math\n",
    "import time\n",
    "import re\n",
    "import os\n",
    "\n",
    "# Some notebook configs\n",
    "warnings.filterwarnings('ignore')\n",
    "pd.set_option('display.max_colwidth', 1000)"
   ]
  },
  {
   "cell_type": "code",
   "execution_count": null,
   "id": "be4b8597-9706-432d-b751-579844c11cae",
   "metadata": {},
   "outputs": [],
   "source": [
    "from nlb_fun import *\n",
    "from nlb_api_fun import *"
   ]
  },
  {
   "cell_type": "markdown",
   "id": "7c497451-8bc0-4d9d-9129-8f0debd71230",
   "metadata": {},
   "source": [
    "### NLB section\n",
    "#### Login \n",
    "- My username and password are saved locally on my machine, and are needed to load into the signup page. \n",
    "- I am using RPA, and executing it on headless_mode=True"
   ]
  },
  {
   "cell_type": "code",
   "execution_count": null,
   "id": "85a8c8b4-6dd8-468e-96d3-6cf4779b814f",
   "metadata": {},
   "outputs": [],
   "source": [
    "def rpa_nlb_login(account_name, pw):\n",
    "    \n",
    "    r.init()\n",
    "    \n",
    "    r.url(\"https://cassamv2.nlb.gov.sg/cas/login\")\n",
    "    r.type('//*[@id=\"username\"]', f'{account_name}')\n",
    "    r.type('//*[@id=\"password\"]', f'{password}')\n",
    "\n",
    "    r.click(\"\"\"//*[@id=\"fm1\"]/section/input[4]\"\"\")\n",
    "\n",
    "    return r\n",
    "\n",
    "account_name = os.environ['nlb_login_account']\n",
    "password = os.environ['nlb_login_pw']"
   ]
  },
  {
   "cell_type": "code",
   "execution_count": null,
   "id": "78fb8324-b620-4ec4-9645-e606605fea06",
   "metadata": {},
   "outputs": [],
   "source": [
    "r = rpa_nlb_login(account_name, password)"
   ]
  },
  {
   "cell_type": "markdown",
   "id": "39148285-c4ad-4150-8d4f-3beb3da8941f",
   "metadata": {},
   "source": [
    "#### Login tests "
   ]
  },
  {
   "cell_type": "code",
   "execution_count": null,
   "id": "0ce3e94b-914f-4a72-8860-a009350c970f",
   "metadata": {},
   "outputs": [],
   "source": [
    "# blank account_name, password\n",
    "account_name = \"\"\n",
    "password = \"\"\n",
    "\n",
    "r.init()    \n",
    "r.url(\"https://cassamv2.nlb.gov.sg/cas/login\")"
   ]
  },
  {
   "cell_type": "code",
   "execution_count": null,
   "id": "d81af07a-74a9-497f-b0e6-14765eca1ccc",
   "metadata": {},
   "outputs": [],
   "source": [
    "r.type('//*[@id=\"username\"]', f'{account_name}')\n",
    "r.type('//*[@id=\"password\"]', f'{password}')\n",
    "\n",
    "r.click(\"\"\"//*[@id=\"fm1\"]/section/input[4]\"\"\")"
   ]
  },
  {
   "cell_type": "code",
   "execution_count": null,
   "id": "7551f9ec-6d52-40da-99cf-2c77430c3984",
   "metadata": {},
   "outputs": [],
   "source": [
    "r.close()"
   ]
  },
  {
   "cell_type": "markdown",
   "id": "d01e5142-fa10-4423-84cc-ad9cf2ed96d5",
   "metadata": {},
   "source": [
    "#### Finding pagination "
   ]
  },
  {
   "cell_type": "code",
   "execution_count": null,
   "id": "072cb8a9-4bf6-459e-93b6-16f1d61a3ef2",
   "metadata": {},
   "outputs": [],
   "source": [
    "r.url(\"https://www.nlb.gov.sg/mylibrary/Bookmarks\")\n",
    "time.sleep(5)\n",
    "\n",
    "soup = bs(r.read('page'), 'html5')\n",
    "soup.find_all(\"div\", text=re.compile(\"Showing\"))[0].text.split(\" \")[-2]\n",
    "\n",
    "max_records = float(soup.find_all(\"div\", text=re.compile(\"Showing\"))[0].text.split(\" \")[-2])\n",
    "range_list = range(1, int(math.ceil(max_records / 20)) + 1)\n",
    "\n",
    "# To indicate when the NEXT button is at\n",
    "counter = range_list[-1] + 2\n",
    "print(counter)"
   ]
  },
  {
   "cell_type": "markdown",
   "id": "fda6c04d-66d9-4685-9f53-721dede1a44b",
   "metadata": {},
   "source": [
    "#### Calculating number of bookmarked books"
   ]
  },
  {
   "cell_type": "code",
   "execution_count": null,
   "id": "1b1a43f7-a3a8-454d-9a0f-34ddf4c27444",
   "metadata": {},
   "outputs": [],
   "source": [
    "book_urls_dict = dict()\n",
    "soup = bs(r.read('page'), 'html5')\n",
    "book_urls_dict[0] = list(set(get_book_urls_on_page(soup)))\n",
    "\n",
    "for i in range(1,counter+1):\n",
    "    print(i)\n",
    "    time.sleep(2)\n",
    "    click_thru_pages = f'//*[@id=\"bookmark-folder-content\"]/nav/ul/li[{counter}]/a'\n",
    "    r.click(click_thru_pages)\n",
    "    time.sleep(2)\n",
    "    soup = bs(r.read('page'), 'html5')\n",
    "    book_urls_dict[i] = list(set(get_book_urls_on_page(soup)))\n",
    "\n",
    "r.close()"
   ]
  },
  {
   "cell_type": "markdown",
   "id": "6011d9eb-6d30-4422-b874-12c3de9cc29d",
   "metadata": {},
   "source": [
    "#### Getting the collection of bookmarked books "
   ]
  },
  {
   "cell_type": "code",
   "execution_count": null,
   "id": "8007fca6-774a-458c-bad4-8342bd4e2dac",
   "metadata": {},
   "outputs": [],
   "source": [
    "all_book_url_lists = list()\n",
    "for i in range(0, len(book_urls_dict)):\n",
    "    all_book_url_lists = all_book_url_lists + book_urls_dict[i]\n",
    "\n",
    "unique_books = set(all_book_url_lists)\n",
    "list_of_book_bids = [re.findall(r'\\d+', i)[-1] for i in list(unique_books)]\n",
    "print(f\"No of unique books: {len(list_of_book_bids)}\")"
   ]
  },
  {
   "cell_type": "markdown",
   "id": "1db08ba3-2382-4639-99e0-7631d9cefd8d",
   "metadata": {},
   "source": [
    "#### Making NLB API calls"
   ]
  },
  {
   "cell_type": "code",
   "execution_count": null,
   "id": "562979ee-4d1c-4182-8c0b-849c0edf08c8",
   "metadata": {},
   "outputs": [],
   "source": [
    "df = pd.DataFrame()\n",
    "bid_w_issues = list()\n",
    "for bid_no in tqdm(list_of_book_bids):\n",
    "    try:\n",
    "        avail_book_obj = make_get_avail_api_call(bid_no)\n",
    "        avail_book_df = df_get_avail_data(bid_no, avail_book_obj)\n",
    "\n",
    "        title_detail_obj = make_get_title_details_api_call(bid_no)\n",
    "        title_detail_df = df_get_title_data(title_detail_obj)\n",
    "        \n",
    "        final_book_df = final_book_avail_df(avail_book_df, title_detail_df)\n",
    "        final_book_df['url'] = return_needed_url(bid_no)\n",
    "        \n",
    "        df = df.append(final_book_df)\n",
    "    except:\n",
    "        bid_w_issues.append(bid_no)"
   ]
  },
  {
   "cell_type": "code",
   "execution_count": null,
   "id": "2095d51d-2bbf-435e-89ec-150c23da14e9",
   "metadata": {},
   "outputs": [],
   "source": [
    "df.shape"
   ]
  },
  {
   "cell_type": "code",
   "execution_count": null,
   "id": "5a519f6a-9c86-48da-b8b4-558825e55d59",
   "metadata": {},
   "outputs": [],
   "source": [
    "bid_w_issues"
   ]
  },
  {
   "cell_type": "markdown",
   "id": "edfb5da8-01f2-4327-8f7d-99812d6929ea",
   "metadata": {},
   "source": [
    "#### Processing files to loading into Google Sheets "
   ]
  },
  {
   "cell_type": "code",
   "execution_count": null,
   "id": "dc9de8e1-9ea7-48a2-a81a-45891eaaeafc",
   "metadata": {},
   "outputs": [],
   "source": [
    "final_table = df[['TitleName', 'BranchName', 'CallNumber', 'StatusDesc', 'url']]\n",
    "final_table.columns = ['title', \"library\", \"number\", 'availability', 'url']\n",
    "final_table = final_table[['library', 'title', 'number', 'availability', 'url']]\n",
    "unique_book_count = len(final_table.title.drop_duplicates().tolist())\n",
    "unique_book_count"
   ]
  },
  {
   "cell_type": "markdown",
   "id": "9d391533-5695-41c4-8422-6272bff0fcf5",
   "metadata": {},
   "source": [
    "#### Processing"
   ]
  },
  {
   "cell_type": "code",
   "execution_count": null,
   "id": "d147f305-d0ef-44b6-aea2-60e522be1867",
   "metadata": {},
   "outputs": [],
   "source": [
    "final_table = final_table[final_table.availability.notnull()]\n",
    "final_table = final_table[final_table.availability != \"For Reference Only\"]\n",
    "final_table.title = [i.split(\" | \")[0] for i in final_table.title]\n",
    "final_table.loc[final_table.library == \"Repository Used Book Collection\", 'availability'] = \"For Reference Only\"\n",
    "final_table['title'] = [i.split(r\"/\")[0].strip() for i in final_table['title']]\n",
    "final_table.availability = [i.replace(\"Not on Loan\", \"Available\") for i in final_table.availability]\n",
    "final_table.sort_values(['library', 'title'], inplace=True)"
   ]
  }
 ],
 "metadata": {
  "kernelspec": {
   "display_name": "Python 3 (ipykernel)",
   "language": "python",
   "name": "python3"
  },
  "language_info": {
   "codemirror_mode": {
    "name": "ipython",
    "version": 3
   },
   "file_extension": ".py",
   "mimetype": "text/x-python",
   "name": "python",
   "nbconvert_exporter": "python",
   "pygments_lexer": "ipython3",
   "version": "3.9.10"
  }
 },
 "nbformat": 4,
 "nbformat_minor": 5
}
