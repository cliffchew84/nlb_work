{
 "cells": [
  {
   "cell_type": "code",
   "execution_count": 1,
   "id": "0b6e7b54-fcd1-4883-8904-46d0ccc19823",
   "metadata": {},
   "outputs": [],
   "source": [
    "%load_ext autoreload\n",
    "%autoreload 2\n",
    "\n",
    "from bs4 import BeautifulSoup as bs\n",
    "from zeep import Client, helpers\n",
    "from tqdm import tqdm\n",
    "from glob import glob\n",
    "import pandas as pd\n",
    "import numpy as np\n",
    "import rpa as r\n",
    "\n",
    "import warnings\n",
    "import pygsheets\n",
    "import math\n",
    "import time\n",
    "import re\n",
    "import os\n",
    "\n",
    "# Some notebook configs\n",
    "warnings.filterwarnings('ignore')\n",
    "pd.set_option('display.max_colwidth', 1000)"
   ]
  },
  {
   "cell_type": "code",
   "execution_count": 2,
   "id": "be4b8597-9706-432d-b751-579844c11cae",
   "metadata": {},
   "outputs": [],
   "source": [
    "from nlb_fun import *\n",
    "from nlb_api_fun import *"
   ]
  },
  {
   "cell_type": "markdown",
   "id": "7c497451-8bc0-4d9d-9129-8f0debd71230",
   "metadata": {},
   "source": [
    "### NLB section\n",
    "#### Login \n",
    "- My username and password are saved locally on my machine, and are needed to load into the signup page. \n",
    "- I am using RPA, and executing it on headless_mode=True"
   ]
  },
  {
   "cell_type": "code",
   "execution_count": 3,
   "id": "e4621714-6009-4bdb-8766-0b601080e023",
   "metadata": {},
   "outputs": [
    {
     "data": {
      "text/plain": [
       "True"
      ]
     },
     "execution_count": 3,
     "metadata": {},
     "output_type": "execute_result"
    }
   ],
   "source": [
    "# r.init(headless_mode=True)\n",
    "r.init()\n",
    "\n",
    "url_link = \"https://cassamv2.nlb.gov.sg/cas/login\"\n",
    "r.url(url_link)\n",
    "\n",
    "auth_csv_file: str = os.environ['nlb_login']\n",
    "\n",
    "info = pd.read_csv(auth_csv_file)\n",
    "account_name: str = info['values'][0]\n",
    "password: str = info['values'][1]\n",
    "\n",
    "r.type('//*[@id=\"username\"]', f'{account_name}')\n",
    "r.type('//*[@id=\"password\"]', f'{password}')\n",
    "\n",
    "login_button_2 = \"\"\"//*[@id=\"fm1\"]/section/input[4]\"\"\"\n",
    "r.click(login_button_2)"
   ]
  },
  {
   "cell_type": "markdown",
   "id": "d01e5142-fa10-4423-84cc-ad9cf2ed96d5",
   "metadata": {},
   "source": [
    "#### Finding pagination "
   ]
  },
  {
   "cell_type": "code",
   "execution_count": 5,
   "id": "072cb8a9-4bf6-459e-93b6-16f1d61a3ef2",
   "metadata": {},
   "outputs": [
    {
     "name": "stdout",
     "output_type": "stream",
     "text": [
      "5\n"
     ]
    }
   ],
   "source": [
    "r.url(\"https://www.nlb.gov.sg/mylibrary/Bookmarks\")\n",
    "time.sleep(5)\n",
    "\n",
    "soup = bs(r.read('page'), 'html5')\n",
    "soup.find_all(\"div\", text=re.compile(\"Showing\"))[0].text.split(\" \")[-2]\n",
    "\n",
    "max_records = float(soup.find_all(\"div\", text=re.compile(\"Showing\"))[0].text.split(\" \")[-2])\n",
    "range_list = range(1, int(math.ceil(max_records / 20)) + 1)\n",
    "\n",
    "# To indicate when the NEXT button is at\n",
    "counter = range_list[-1] + 2\n",
    "print(counter)"
   ]
  },
  {
   "cell_type": "markdown",
   "id": "fda6c04d-66d9-4685-9f53-721dede1a44b",
   "metadata": {},
   "source": [
    "#### Calculating number of bookmarked books"
   ]
  },
  {
   "cell_type": "code",
   "execution_count": 6,
   "id": "1b1a43f7-a3a8-454d-9a0f-34ddf4c27444",
   "metadata": {},
   "outputs": [
    {
     "name": "stdout",
     "output_type": "stream",
     "text": [
      "1\n",
      "2\n",
      "3\n",
      "4\n",
      "5\n"
     ]
    },
    {
     "data": {
      "text/plain": [
       "True"
      ]
     },
     "execution_count": 6,
     "metadata": {},
     "output_type": "execute_result"
    }
   ],
   "source": [
    "book_urls_dict = dict()\n",
    "soup = bs(r.read('page'), 'html5')\n",
    "book_urls_dict[0] = list(set(get_book_urls_on_page(soup)))\n",
    "\n",
    "for i in range(1,counter+1):\n",
    "    print(i)\n",
    "    time.sleep(2)\n",
    "    click_thru_pages = f'//*[@id=\"bookmark-folder-content\"]/nav/ul/li[{counter}]/a'\n",
    "    r.click(click_thru_pages)\n",
    "    time.sleep(2)\n",
    "    soup = bs(r.read('page'), 'html5')\n",
    "    book_urls_dict[i] = list(set(get_book_urls_on_page(soup)))\n",
    "\n",
    "r.close()"
   ]
  },
  {
   "cell_type": "markdown",
   "id": "6011d9eb-6d30-4422-b874-12c3de9cc29d",
   "metadata": {},
   "source": [
    "#### Getting the collection of bookmarked books "
   ]
  },
  {
   "cell_type": "code",
   "execution_count": null,
   "id": "8007fca6-774a-458c-bad4-8342bd4e2dac",
   "metadata": {},
   "outputs": [],
   "source": [
    "all_book_url_lists = list()\n",
    "for i in range(0, len(book_urls_dict)):\n",
    "    all_book_url_lists = all_book_url_lists + book_urls_dict[i]\n",
    "\n",
    "unique_books = set(all_book_url_lists)\n",
    "list_of_book_bids = [re.findall(r'\\d+', i)[-1] for i in list(unique_books)]\n",
    "print(f\"No of unique books: {len(list_of_book_bids)}\")"
   ]
  },
  {
   "cell_type": "markdown",
   "id": "1db08ba3-2382-4639-99e0-7631d9cefd8d",
   "metadata": {},
   "source": [
    "#### Making NLB API calls"
   ]
  },
  {
   "cell_type": "code",
   "execution_count": null,
   "id": "562979ee-4d1c-4182-8c0b-849c0edf08c8",
   "metadata": {},
   "outputs": [],
   "source": [
    "# bid_no = list_of_book_bids[0]\n",
    "\n",
    "df = pd.DataFrame()\n",
    "bid_w_issues = list()\n",
    "for bid_no in tqdm(list_of_book_bids):\n",
    "    try:\n",
    "        avail_book_obj = make_get_avail_api_call(bid_no)\n",
    "        avail_book_df = df_get_avail_data(bid_no, avail_book_obj)\n",
    "\n",
    "        title_detail_obj = make_get_title_details_api_call(bid_no)\n",
    "        title_detail_df = df_get_title_data(title_detail_obj)\n",
    "        \n",
    "        final_book_df = final_book_avail_df(avail_book_df, title_detail_df)\n",
    "        final_book_df['url'] = return_needed_url(bid_no)\n",
    "        \n",
    "        df = df.append(final_book_df)\n",
    "    except:\n",
    "        bid_w_issues.append(bid_no)"
   ]
  },
  {
   "cell_type": "code",
   "execution_count": null,
   "id": "2095d51d-2bbf-435e-89ec-150c23da14e9",
   "metadata": {},
   "outputs": [],
   "source": [
    "df.shape"
   ]
  },
  {
   "cell_type": "code",
   "execution_count": null,
   "id": "5a519f6a-9c86-48da-b8b4-558825e55d59",
   "metadata": {},
   "outputs": [],
   "source": [
    "bid_w_issues"
   ]
  },
  {
   "cell_type": "markdown",
   "id": "edfb5da8-01f2-4327-8f7d-99812d6929ea",
   "metadata": {},
   "source": [
    "#### Processing files to loading into Google Sheets "
   ]
  },
  {
   "cell_type": "code",
   "execution_count": null,
   "id": "dc9de8e1-9ea7-48a2-a81a-45891eaaeafc",
   "metadata": {},
   "outputs": [],
   "source": [
    "final_table = df[['TitleName', 'BranchName', 'CallNumber', 'StatusDesc', 'url']]\n",
    "final_table.columns = ['title', \"library\", \"number\", 'availability', 'url']\n",
    "final_table = final_table[['library', 'title', 'number', 'availability', 'url']]\n",
    "unique_book_count = len(final_table.title.drop_duplicates().tolist())\n",
    "unique_book_count"
   ]
  },
  {
   "cell_type": "markdown",
   "id": "9d391533-5695-41c4-8422-6272bff0fcf5",
   "metadata": {},
   "source": [
    "#### Processing"
   ]
  },
  {
   "cell_type": "code",
   "execution_count": null,
   "id": "d147f305-d0ef-44b6-aea2-60e522be1867",
   "metadata": {},
   "outputs": [],
   "source": [
    "final_table = final_table[final_table.availability.notnull()]\n",
    "final_table = final_table[final_table.availability != \"For Reference Only\"]\n",
    "final_table.title = [i.split(\" | \")[0] for i in final_table.title]\n",
    "final_table.loc[final_table.library == \"Repository Used Book Collection\", 'availability'] = \"For Reference Only\"\n",
    "final_table['title'] = [i.split(r\"/\")[0].strip() for i in final_table['title']]\n",
    "final_table.availability = [i.replace(\"Not on Loan\", \"Available\") for i in final_table.availability]\n",
    "final_table.sort_values(['library', 'title'], inplace=True)"
   ]
  },
  {
   "cell_type": "markdown",
   "id": "3c7061e5-cb9b-427e-80dd-a9de1d6c48fb",
   "metadata": {},
   "source": [
    "### Pushing the into Google\n",
    "#### Authenitcation"
   ]
  },
  {
   "cell_type": "code",
   "execution_count": null,
   "id": "8f61d595-78c8-4fed-a3d5-effa412405e1",
   "metadata": {},
   "outputs": [],
   "source": [
    "google_auth = os.environ['gsheet_cred']\n",
    "gc = pygsheets.authorize(service_file=google_auth)\n",
    "sh = gc.open('NLB Project')"
   ]
  },
  {
   "cell_type": "markdown",
   "id": "e2a87c6f-f190-45a0-8b43-2c284ce16370",
   "metadata": {},
   "source": [
    "#### Checking in all libraries"
   ]
  },
  {
   "cell_type": "code",
   "execution_count": null,
   "id": "1c10ceae-cd99-41dd-9652-daf0363acccc",
   "metadata": {},
   "outputs": [],
   "source": [
    "all_ = sh.worksheet_by_title(\"All\")\n",
    "all_.clear('A2:F1000') \n",
    "\n",
    "all_.set_dataframe(final_table,(1,1))"
   ]
  },
  {
   "cell_type": "markdown",
   "id": "cb1ec488-564f-456e-a029-354bddca7d0f",
   "metadata": {},
   "source": [
    "#### [Link](https://docs.google.com/spreadsheets/d/1s5oYU59jyU_QO3IIhCClyWGoC_MpW9L_h4l4djDUKO0/edit#gid=1021888748) to my Google Sheet"
   ]
  }
 ],
 "metadata": {
  "kernelspec": {
   "display_name": "Python 3 (ipykernel)",
   "language": "python",
   "name": "python3"
  },
  "language_info": {
   "codemirror_mode": {
    "name": "ipython",
    "version": 3
   },
   "file_extension": ".py",
   "mimetype": "text/x-python",
   "name": "python",
   "nbconvert_exporter": "python",
   "pygments_lexer": "ipython3",
   "version": "3.9.10"
  }
 },
 "nbformat": 4,
 "nbformat_minor": 5
}
