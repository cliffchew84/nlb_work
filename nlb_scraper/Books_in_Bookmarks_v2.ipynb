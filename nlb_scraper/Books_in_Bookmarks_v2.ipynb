{
 "cells": [
  {
   "cell_type": "markdown",
   "metadata": {},
   "source": [
    "### Scraping NLB books that I have bookmarked "
   ]
  },
  {
   "cell_type": "code",
   "execution_count": 1,
   "metadata": {},
   "outputs": [],
   "source": [
    "%load_ext autoreload\n",
    "%autoreload 2\n",
    "\n",
    "from multiprocessing import Pool\n",
    "from concurrent.futures import ThreadPoolExecutor\n",
    "\n",
    "from selenium import webdriver\n",
    "from selenium.webdriver.support import expected_conditions as EC\n",
    "from selenium.webdriver.support.ui import WebDriverWait\n",
    "from selenium.webdriver.common.by import By\n",
    "\n",
    "from bs4 import BeautifulSoup as bs\n",
    "from itertools import cycle\n",
    "from glob import glob\n",
    "from tqdm import tqdm\n",
    "import pandas as pd\n",
    "import numpy as np\n",
    "\n",
    "import warnings\n",
    "import pygsheets\n",
    "import math\n",
    "import time\n",
    "import re\n",
    "import os\n",
    "\n",
    "# Some notebook configs\n",
    "warnings.filterwarnings('ignore')\n",
    "pd.set_option('display.max_colwidth', 1000)"
   ]
  },
  {
   "cell_type": "code",
   "execution_count": 2,
   "metadata": {},
   "outputs": [],
   "source": [
    "from nlb_fun import *"
   ]
  },
  {
   "cell_type": "markdown",
   "metadata": {},
   "source": [
    "### Clean files first \n",
    "- If you have ran this script before, information from each book is saved as a rtf file in your local machine. \n",
    "- To ensure that there is no overlaps, these rtf files are checked and removed everytime you re-run your script"
   ]
  },
  {
   "cell_type": "code",
   "execution_count": 3,
   "metadata": {},
   "outputs": [
    {
     "data": {
      "text/plain": [
       "0"
      ]
     },
     "execution_count": 3,
     "metadata": {},
     "output_type": "execute_result"
    }
   ],
   "source": [
    "file_list = glob(\"*.rtf\")\n",
    "len(file_list)"
   ]
  },
  {
   "cell_type": "code",
   "execution_count": 4,
   "metadata": {},
   "outputs": [],
   "source": [
    "for files in file_list:\n",
    "    os.remove(files)"
   ]
  },
  {
   "cell_type": "markdown",
   "metadata": {},
   "source": [
    "### Go to start the scraping "
   ]
  },
  {
   "cell_type": "code",
   "execution_count": 5,
   "metadata": {},
   "outputs": [
    {
     "name": "stderr",
     "output_type": "stream",
     "text": [
      "\n",
      "\n",
      "====== WebDriver manager ======\n",
      "Current google-chrome version is 101.0.4951\n",
      "Get LATEST chromedriver version for 101.0.4951 google-chrome\n",
      "Driver [/Users/cliff/.wdm/drivers/chromedriver/mac64/101.0.4951.41/chromedriver] found in cache\n"
     ]
    }
   ],
   "source": [
    "browser = activate_chrome_selenium_latest(have_pic=False, is_headless=False)"
   ]
  },
  {
   "cell_type": "code",
   "execution_count": 6,
   "metadata": {},
   "outputs": [],
   "source": [
    "auth_csv_file: str = os.environ['nlb_login']\n",
    "\n",
    "info = pd.read_csv(auth_csv_file)\n",
    "account_name: str = info['values'][0]\n",
    "password: str = info['values'][1]\n",
    "\n",
    "browser = log_in_nlb(browser, account_name, password)"
   ]
  },
  {
   "cell_type": "markdown",
   "metadata": {},
   "source": [
    "### Add hit to get number of page iterations needed "
   ]
  },
  {
   "cell_type": "code",
   "execution_count": 7,
   "metadata": {},
   "outputs": [],
   "source": [
    "url_link = \"https://www.nlb.gov.sg/mylibrary/Bookmarks\"\n",
    "browser.get(url_link)\n",
    "soup = bs(browser.page_source, 'html5lib')"
   ]
  },
  {
   "cell_type": "code",
   "execution_count": 8,
   "metadata": {},
   "outputs": [
    {
     "name": "stdout",
     "output_type": "stream",
     "text": [
      "8\n"
     ]
    },
    {
     "data": {
      "text/plain": [
       "range(1, 7)"
      ]
     },
     "execution_count": 8,
     "metadata": {},
     "output_type": "execute_result"
    }
   ],
   "source": [
    "max_records = float(soup.find_all(\"div\", text=re.compile(\"Showing\"))[0].text.split(\" \")[-2])\n",
    "range_list = range(1, int(math.ceil(max_records / 20)) + 1)\n",
    "\n",
    "# To indicate when the NEXT button is at\n",
    "counter = range_list[-1] + 2\n",
    "print(counter)\n",
    "range_list"
   ]
  },
  {
   "cell_type": "markdown",
   "metadata": {},
   "source": [
    "### Loop through the pages! "
   ]
  },
  {
   "cell_type": "code",
   "execution_count": 14,
   "metadata": {},
   "outputs": [],
   "source": [
    "book_urls_dict = dict()\n",
    "\n",
    "browser.get(\"https://www.nlb.gov.sg/mylibrary/Bookmarks\")\n",
    "soup = bs(browser.page_source, 'html5lib')\n",
    "book_urls_dict[0] = list(set(get_book_urls_on_page(soup)))\n",
    "time.sleep(3)"
   ]
  },
  {
   "cell_type": "code",
   "execution_count": 15,
   "metadata": {},
   "outputs": [
    {
     "name": "stdout",
     "output_type": "stream",
     "text": [
      "1\n",
      "//*[@id=\"bookmark-folder-content\"]/div[2]/button[8]\n",
      "2\n",
      "//*[@id=\"bookmark-folder-content\"]/div[2]/button[8]\n"
     ]
    },
    {
     "ename": "ElementClickInterceptedException",
     "evalue": "Message: element click intercepted: Element is not clickable at point (746, 4322)\n  (Session info: chrome=101.0.4951.54)\nStacktrace:\n0   chromedriver                        0x00000001047b12c9 chromedriver + 5120713\n1   chromedriver                        0x000000010473fe33 chromedriver + 4656691\n2   chromedriver                        0x000000010432f158 chromedriver + 393560\n3   chromedriver                        0x000000010436b638 chromedriver + 640568\n4   chromedriver                        0x00000001043691b3 chromedriver + 631219\n5   chromedriver                        0x0000000104366814 chromedriver + 620564\n6   chromedriver                        0x00000001043655b2 chromedriver + 615858\n7   chromedriver                        0x0000000104359249 chromedriver + 565833\n8   chromedriver                        0x0000000104381482 chromedriver + 730242\n9   chromedriver                        0x0000000104358b05 chromedriver + 563973\n10  chromedriver                        0x000000010438158e chromedriver + 730510\n11  chromedriver                        0x0000000104393f41 chromedriver + 806721\n12  chromedriver                        0x0000000104381373 chromedriver + 729971\n13  chromedriver                        0x0000000104357609 chromedriver + 558601\n14  chromedriver                        0x0000000104358635 chromedriver + 562741\n15  chromedriver                        0x0000000104783b1d chromedriver + 4934429\n16  chromedriver                        0x0000000104788295 chromedriver + 4952725\n17  chromedriver                        0x000000010478d3cf chromedriver + 4973519\n18  chromedriver                        0x0000000104788cba chromedriver + 4955322\n19  chromedriver                        0x000000010476337c chromedriver + 4801404\n20  chromedriver                        0x00000001047a2c68 chromedriver + 5061736\n21  chromedriver                        0x00000001047a2def chromedriver + 5062127\n22  chromedriver                        0x00000001047b85e5 chromedriver + 5150181\n23  libsystem_pthread.dylib             0x00007fff203428fc _pthread_start + 224\n24  libsystem_pthread.dylib             0x00007fff2033e443 thread_start + 15\n",
     "output_type": "error",
     "traceback": [
      "\u001b[0;31m---------------------------------------------------------------------------\u001b[0m",
      "\u001b[0;31mElementClickInterceptedException\u001b[0m          Traceback (most recent call last)",
      "Input \u001b[0;32mIn [15]\u001b[0m, in \u001b[0;36m<module>\u001b[0;34m\u001b[0m\n\u001b[1;32m      6\u001b[0m button \u001b[38;5;241m=\u001b[39m browser\u001b[38;5;241m.\u001b[39mfind_element_by_xpath(x_path)\n\u001b[1;32m      7\u001b[0m time\u001b[38;5;241m.\u001b[39msleep(\u001b[38;5;241m1\u001b[39m)\n\u001b[0;32m----> 8\u001b[0m \u001b[43mbutton\u001b[49m\u001b[38;5;241;43m.\u001b[39;49m\u001b[43mclick\u001b[49m\u001b[43m(\u001b[49m\u001b[43m)\u001b[49m\n\u001b[1;32m      9\u001b[0m soup \u001b[38;5;241m=\u001b[39m bs(browser\u001b[38;5;241m.\u001b[39mpage_source, \u001b[38;5;124m'\u001b[39m\u001b[38;5;124mhtml5lib\u001b[39m\u001b[38;5;124m'\u001b[39m)\n\u001b[1;32m     10\u001b[0m book_urls_dict[i] \u001b[38;5;241m=\u001b[39m \u001b[38;5;28mlist\u001b[39m(\u001b[38;5;28mset\u001b[39m(get_book_urls_on_page(soup)))\n",
      "File \u001b[0;32m~/main/cliff_analytics/venv/lib/python3.9/site-packages/selenium/webdriver/remote/webelement.py:81\u001b[0m, in \u001b[0;36mWebElement.click\u001b[0;34m(self)\u001b[0m\n\u001b[1;32m     79\u001b[0m \u001b[38;5;28;01mdef\u001b[39;00m \u001b[38;5;21mclick\u001b[39m(\u001b[38;5;28mself\u001b[39m) \u001b[38;5;241m-\u001b[39m\u001b[38;5;241m>\u001b[39m \u001b[38;5;28;01mNone\u001b[39;00m:\n\u001b[1;32m     80\u001b[0m     \u001b[38;5;124;03m\"\"\"Clicks the element.\"\"\"\u001b[39;00m\n\u001b[0;32m---> 81\u001b[0m     \u001b[38;5;28;43mself\u001b[39;49m\u001b[38;5;241;43m.\u001b[39;49m\u001b[43m_execute\u001b[49m\u001b[43m(\u001b[49m\u001b[43mCommand\u001b[49m\u001b[38;5;241;43m.\u001b[39;49m\u001b[43mCLICK_ELEMENT\u001b[49m\u001b[43m)\u001b[49m\n",
      "File \u001b[0;32m~/main/cliff_analytics/venv/lib/python3.9/site-packages/selenium/webdriver/remote/webelement.py:710\u001b[0m, in \u001b[0;36mWebElement._execute\u001b[0;34m(self, command, params)\u001b[0m\n\u001b[1;32m    708\u001b[0m     params \u001b[38;5;241m=\u001b[39m {}\n\u001b[1;32m    709\u001b[0m params[\u001b[38;5;124m'\u001b[39m\u001b[38;5;124mid\u001b[39m\u001b[38;5;124m'\u001b[39m] \u001b[38;5;241m=\u001b[39m \u001b[38;5;28mself\u001b[39m\u001b[38;5;241m.\u001b[39m_id\n\u001b[0;32m--> 710\u001b[0m \u001b[38;5;28;01mreturn\u001b[39;00m \u001b[38;5;28;43mself\u001b[39;49m\u001b[38;5;241;43m.\u001b[39;49m\u001b[43m_parent\u001b[49m\u001b[38;5;241;43m.\u001b[39;49m\u001b[43mexecute\u001b[49m\u001b[43m(\u001b[49m\u001b[43mcommand\u001b[49m\u001b[43m,\u001b[49m\u001b[43m \u001b[49m\u001b[43mparams\u001b[49m\u001b[43m)\u001b[49m\n",
      "File \u001b[0;32m~/main/cliff_analytics/venv/lib/python3.9/site-packages/selenium/webdriver/remote/webdriver.py:424\u001b[0m, in \u001b[0;36mWebDriver.execute\u001b[0;34m(self, driver_command, params)\u001b[0m\n\u001b[1;32m    422\u001b[0m response \u001b[38;5;241m=\u001b[39m \u001b[38;5;28mself\u001b[39m\u001b[38;5;241m.\u001b[39mcommand_executor\u001b[38;5;241m.\u001b[39mexecute(driver_command, params)\n\u001b[1;32m    423\u001b[0m \u001b[38;5;28;01mif\u001b[39;00m response:\n\u001b[0;32m--> 424\u001b[0m     \u001b[38;5;28;43mself\u001b[39;49m\u001b[38;5;241;43m.\u001b[39;49m\u001b[43merror_handler\u001b[49m\u001b[38;5;241;43m.\u001b[39;49m\u001b[43mcheck_response\u001b[49m\u001b[43m(\u001b[49m\u001b[43mresponse\u001b[49m\u001b[43m)\u001b[49m\n\u001b[1;32m    425\u001b[0m     response[\u001b[38;5;124m'\u001b[39m\u001b[38;5;124mvalue\u001b[39m\u001b[38;5;124m'\u001b[39m] \u001b[38;5;241m=\u001b[39m \u001b[38;5;28mself\u001b[39m\u001b[38;5;241m.\u001b[39m_unwrap_value(\n\u001b[1;32m    426\u001b[0m         response\u001b[38;5;241m.\u001b[39mget(\u001b[38;5;124m'\u001b[39m\u001b[38;5;124mvalue\u001b[39m\u001b[38;5;124m'\u001b[39m, \u001b[38;5;28;01mNone\u001b[39;00m))\n\u001b[1;32m    427\u001b[0m     \u001b[38;5;28;01mreturn\u001b[39;00m response\n",
      "File \u001b[0;32m~/main/cliff_analytics/venv/lib/python3.9/site-packages/selenium/webdriver/remote/errorhandler.py:247\u001b[0m, in \u001b[0;36mErrorHandler.check_response\u001b[0;34m(self, response)\u001b[0m\n\u001b[1;32m    245\u001b[0m         alert_text \u001b[38;5;241m=\u001b[39m value[\u001b[38;5;124m'\u001b[39m\u001b[38;5;124malert\u001b[39m\u001b[38;5;124m'\u001b[39m]\u001b[38;5;241m.\u001b[39mget(\u001b[38;5;124m'\u001b[39m\u001b[38;5;124mtext\u001b[39m\u001b[38;5;124m'\u001b[39m)\n\u001b[1;32m    246\u001b[0m     \u001b[38;5;28;01mraise\u001b[39;00m exception_class(message, screen, stacktrace, alert_text)  \u001b[38;5;66;03m# type: ignore[call-arg]  # mypy is not smart enough here\u001b[39;00m\n\u001b[0;32m--> 247\u001b[0m \u001b[38;5;28;01mraise\u001b[39;00m exception_class(message, screen, stacktrace)\n",
      "\u001b[0;31mElementClickInterceptedException\u001b[0m: Message: element click intercepted: Element is not clickable at point (746, 4322)\n  (Session info: chrome=101.0.4951.54)\nStacktrace:\n0   chromedriver                        0x00000001047b12c9 chromedriver + 5120713\n1   chromedriver                        0x000000010473fe33 chromedriver + 4656691\n2   chromedriver                        0x000000010432f158 chromedriver + 393560\n3   chromedriver                        0x000000010436b638 chromedriver + 640568\n4   chromedriver                        0x00000001043691b3 chromedriver + 631219\n5   chromedriver                        0x0000000104366814 chromedriver + 620564\n6   chromedriver                        0x00000001043655b2 chromedriver + 615858\n7   chromedriver                        0x0000000104359249 chromedriver + 565833\n8   chromedriver                        0x0000000104381482 chromedriver + 730242\n9   chromedriver                        0x0000000104358b05 chromedriver + 563973\n10  chromedriver                        0x000000010438158e chromedriver + 730510\n11  chromedriver                        0x0000000104393f41 chromedriver + 806721\n12  chromedriver                        0x0000000104381373 chromedriver + 729971\n13  chromedriver                        0x0000000104357609 chromedriver + 558601\n14  chromedriver                        0x0000000104358635 chromedriver + 562741\n15  chromedriver                        0x0000000104783b1d chromedriver + 4934429\n16  chromedriver                        0x0000000104788295 chromedriver + 4952725\n17  chromedriver                        0x000000010478d3cf chromedriver + 4973519\n18  chromedriver                        0x0000000104788cba chromedriver + 4955322\n19  chromedriver                        0x000000010476337c chromedriver + 4801404\n20  chromedriver                        0x00000001047a2c68 chromedriver + 5061736\n21  chromedriver                        0x00000001047a2def chromedriver + 5062127\n22  chromedriver                        0x00000001047b85e5 chromedriver + 5150181\n23  libsystem_pthread.dylib             0x00007fff203428fc _pthread_start + 224\n24  libsystem_pthread.dylib             0x00007fff2033e443 thread_start + 15\n"
     ]
    }
   ],
   "source": [
    "for i in range_list:\n",
    "    print(i)\n",
    "    x_path = f'//*[@id=\"bookmark-folder-content\"]/div[2]/button[{counter}]'\n",
    "    print(x_path)\n",
    "    time.sleep(5)\n",
    "    button = browser.find_element_by_xpath(x_path)\n",
    "    time.sleep(1)\n",
    "    button.click()\n",
    "    soup = bs(browser.page_source, 'html5lib')\n",
    "    book_urls_dict[i] = list(set(get_book_urls_on_page(soup)))"
   ]
  },
  {
   "cell_type": "code",
   "execution_count": null,
   "metadata": {},
   "outputs": [],
   "source": [
    "for i in range_list:\n",
    "    print(i)\n",
    "    try:\n",
    "        print(i)\n",
    "        x_path = f'//*[@id=\"bookmark-folder-content\"]/div[2]/button[{counter}]'\n",
    "        print(x_path)\n",
    "        time.sleep(7)\n",
    "        browser.find_element_by_xpath(x_path).click()\n",
    "        soup = bs(browser.page_source, 'html5lib')\n",
    "        book_urls_dict[i] = list(set(get_book_urls_on_page(soup)))\n",
    "    except:\n",
    "        print(\"Reached the end\")\n",
    "        break"
   ]
  },
  {
   "cell_type": "code",
   "execution_count": null,
   "metadata": {},
   "outputs": [],
   "source": [
    "all_book_url_lists = list()\n",
    "for i in range(0, len(book_urls_dict)):\n",
    "    all_book_url_lists = all_book_url_lists + book_urls_dict[i]"
   ]
  },
  {
   "cell_type": "code",
   "execution_count": null,
   "metadata": {},
   "outputs": [],
   "source": [
    "len(all_book_url_lists)"
   ]
  },
  {
   "cell_type": "code",
   "execution_count": null,
   "metadata": {},
   "outputs": [],
   "source": [
    "browser.close()"
   ]
  },
  {
   "cell_type": "markdown",
   "metadata": {},
   "source": [
    "#### Executing the main scraping of books "
   ]
  },
  {
   "cell_type": "code",
   "execution_count": null,
   "metadata": {},
   "outputs": [],
   "source": [
    "def return_needed_url(id_: str):\n",
    "    return f\"https://eservice.nlb.gov.sg/item_holding.aspx?id={id_}&type=bid&app=mylibrary\"\n",
    "\n",
    "def nlb_page_crawl(selenium_browser, url_link: str):\n",
    "    id_ = re.findall(r'\\d+', url_link)[-1]\n",
    "    new_url = return_needed_url(id_)\n",
    "\n",
    "    selenium_browser.get(new_url)\n",
    "    time.sleep(10)\n",
    "    return bs(selenium_browser.page_source, 'html5lib'), new_url\n",
    "\n",
    "def extract_table_values(selenium_obj, tag: str) -> list:\n",
    "    \"\"\"\n",
    "    Extracting values from a HTML` table structure based on tag\n",
    "    \"\"\"\n",
    "    output = []\n",
    "    for col in selenium_obj.find_all(tag):\n",
    "        output.append(col)\n",
    "    return output\n",
    "\n",
    "def extract_table_values_nested(selenium_obj, input_1, input_2):\n",
    "    \"\"\"\n",
    "    Accounts for nested table tags in a HTML table.\n",
    "    \"\"\"\n",
    "    output = []\n",
    "\n",
    "    for i in extract_table_values(selenium_obj, input_1):\n",
    "        output.append(extract_table_values(i, input_2))\n",
    "        \n",
    "    return output"
   ]
  },
  {
   "cell_type": "code",
   "execution_count": null,
   "metadata": {},
   "outputs": [],
   "source": [
    "# processed_urls = [return_needed_url(re.findall(r'\\d+', url)[-1]) for url in all_book_url_lists]\n",
    "# len(processed_urls)"
   ]
  },
  {
   "cell_type": "code",
   "execution_count": null,
   "metadata": {},
   "outputs": [],
   "source": [
    "def extract_info_from_nlb_book_page(url_link :str, selenium_browser):\n",
    "    try:\n",
    "        selenium_page, new_url = nlb_page_crawl(selenium_browser, url_link)\n",
    "\n",
    "        for i in selenium_page.find_all(class_= 'table table-bordered table-striped table-list'):\n",
    "            col_names = extract_table_values(i, 'th')\n",
    "            col_values = extract_table_values_nested(i, 'tr', 'td')\n",
    "\n",
    "        bk_table = pd.DataFrame([[x for x in i] for i in col_values])\n",
    "        bk_table.columns = [i.text for i in col_names]\n",
    "        bk_table['Title'] = selenium_page.find('h4').text\n",
    "        bk_table = bk_table[bk_table.Library.notnull()]\n",
    "\n",
    "        for col in [\"Call No\", \"Status/Desc\", \"Due Date\", \"Library\"]:\n",
    "            bk_table[col] = [i.text.split(\": \")[-1] for i in bk_table[col]]\n",
    "\n",
    "        bk_table['Library'] = [i.split(\"B3\")[0].split(\"B2\")[0] for i in bk_table['Library']]\n",
    "        bk_table['Due Date'] = [\"Available\" if i == '-' else i for i in bk_table['Due Date']]\n",
    "        bk_table['url'] = new_url\n",
    "\n",
    "        id_ = re.findall(r'\\d+', new_url)[-1]\n",
    "        bk_table[['Title', 'Library', 'Call No', 'Due Date', 'url']].to_csv(f\"{id_}.csv\", index=False)\n",
    "    \n",
    "    except:\n",
    "        id_ = re.findall(r'\\d+', url_link)[-1]\n",
    "        new_url = return_needed_url(id_)\n",
    "        print(f\"Got issue with {new_url}\")"
   ]
  },
  {
   "cell_type": "code",
   "execution_count": null,
   "metadata": {},
   "outputs": [],
   "source": [
    "# sel_browser = activate_chrome_selenium_latest(have_pic=False, is_headless=True)\n",
    "\n",
    "# for url in tqdm(all_book_url_lists[-5:]):\n",
    "#     try:\n",
    "#         extract_info_from_nlb_book_page(url, sel_browser)\n",
    "#     except:\n",
    "#         print(f\"Most probably hit an eBook {url}\")\n",
    "\n",
    "# sel_browser.close()"
   ]
  },
  {
   "cell_type": "code",
   "execution_count": null,
   "metadata": {},
   "outputs": [],
   "source": [
    "def setup_workers():\n",
    "    workers = 3\n",
    "    files = all_book_url_lists\n",
    "    drivers = cycle([activate_chrome_selenium_latest(have_pic=False, is_headless=False) for _ in range(workers)])\n",
    "\n",
    "    with ThreadPoolExecutor(max_workers=workers) as executor:\n",
    "        executor.map(extract_info_from_nlb_book_page, files, drivers)\n",
    "\n",
    "    [driver.quit() for driver in drivers]\n",
    "    ThreadPoolExecutor.shutdownNow()\n",
    "    print(\"Process has ended\")"
   ]
  },
  {
   "cell_type": "code",
   "execution_count": null,
   "metadata": {
    "scrolled": true
   },
   "outputs": [],
   "source": [
    "setup_workers()"
   ]
  },
  {
   "cell_type": "code",
   "execution_count": null,
   "metadata": {},
   "outputs": [],
   "source": [
    "csv_files = glob(\"*.csv\")\n",
    "len(csv_files)"
   ]
  },
  {
   "cell_type": "code",
   "execution_count": null,
   "metadata": {},
   "outputs": [],
   "source": [
    "final_table = pd.DataFrame()\n",
    "\n",
    "for filename in csv_files:\n",
    "    final_table = final_table.append(pd.read_csv(filename))"
   ]
  },
  {
   "cell_type": "code",
   "execution_count": null,
   "metadata": {},
   "outputs": [],
   "source": [
    "final_table.shape"
   ]
  },
  {
   "cell_type": "code",
   "execution_count": null,
   "metadata": {},
   "outputs": [],
   "source": [
    "final_table.head(1)"
   ]
  },
  {
   "cell_type": "markdown",
   "metadata": {},
   "source": [
    "### Taking locally saved files and loading into Google "
   ]
  },
  {
   "cell_type": "code",
   "execution_count": null,
   "metadata": {},
   "outputs": [],
   "source": [
    "final_table.columns = ['title', \"library\", \"number\", 'availability', 'url']\n",
    "final_table = final_table[['library', 'title', 'number', 'availability', 'url']]"
   ]
  },
  {
   "cell_type": "code",
   "execution_count": null,
   "metadata": {},
   "outputs": [],
   "source": [
    "unique_book_count = len(final_table.title.drop_duplicates().tolist())\n",
    "unique_book_count"
   ]
  },
  {
   "cell_type": "markdown",
   "metadata": {},
   "source": [
    "### Thinking about how to include testing into my script"
   ]
  },
  {
   "cell_type": "code",
   "execution_count": null,
   "metadata": {},
   "outputs": [],
   "source": [
    "# final_table[~final_table.availability.isin(['Available', 'For Reference Only'])]"
   ]
  },
  {
   "cell_type": "code",
   "execution_count": null,
   "metadata": {},
   "outputs": [],
   "source": [
    "final_table = final_table[final_table.availability.notnull()]\n",
    "final_table = final_table[final_table.availability != \"For Reference Only\"]"
   ]
  },
  {
   "cell_type": "markdown",
   "metadata": {},
   "source": [
    "### Thinking about testing my code "
   ]
  },
  {
   "cell_type": "code",
   "execution_count": null,
   "metadata": {},
   "outputs": [],
   "source": [
    "final_table[final_table.availability.isnull()].shape"
   ]
  },
  {
   "cell_type": "code",
   "execution_count": null,
   "metadata": {},
   "outputs": [],
   "source": [
    "final_table[final_table['number'].isnull()].shape"
   ]
  },
  {
   "cell_type": "code",
   "execution_count": null,
   "metadata": {},
   "outputs": [],
   "source": [
    "final_table[final_table['number'].isnull()]"
   ]
  },
  {
   "cell_type": "markdown",
   "metadata": {},
   "source": [
    "### Processing "
   ]
  },
  {
   "cell_type": "code",
   "execution_count": null,
   "metadata": {},
   "outputs": [],
   "source": [
    "final_table.title = [i.split(\" | \")[0] for i in final_table.title]\n",
    "# final_table['number'] = [i.replace(\"English\", \"\").replace(\"Chinese\", \"\") for i in final_table['number']]\n",
    "final_table.loc[final_table.library == \"Repository Used Book Collection\", 'availability'] = \"For Reference Only\"\n",
    "final_table['title'] = [i.split(r\"/\")[0].strip() for i in final_table['title']]\n",
    "\n",
    "ffinal_table = final_table[(final_table.library==\"Bishan Public Library\")]\n",
    "ffinal_table = ffinal_table.sort_values('availability')\n",
    "ffinal_table.shape"
   ]
  },
  {
   "cell_type": "markdown",
   "metadata": {},
   "source": [
    "### Cleaning Bookmarks Sheet "
   ]
  },
  {
   "cell_type": "code",
   "execution_count": null,
   "metadata": {},
   "outputs": [],
   "source": [
    "google_auth = os.environ['gsheet_cred']\n",
    "gc = pygsheets.authorize(service_file=google_auth)\n",
    "sh = gc.open('NLB Project')"
   ]
  },
  {
   "cell_type": "markdown",
   "metadata": {},
   "source": [
    "### Checking just Bishan library"
   ]
  },
  {
   "cell_type": "code",
   "execution_count": null,
   "metadata": {},
   "outputs": [],
   "source": [
    "bishan = sh.worksheet_by_title(\"Bookmarks\")\n",
    "bishan.clear('A2:E1000')\n",
    "\n",
    "bishan_table = final_table[final_table.library.str.contains(\"Bishan\")]\n",
    "bishan.set_dataframe(bishan_table,(1,1))"
   ]
  },
  {
   "cell_type": "markdown",
   "metadata": {},
   "source": [
    "### Checking in all libraries"
   ]
  },
  {
   "cell_type": "code",
   "execution_count": null,
   "metadata": {},
   "outputs": [],
   "source": [
    "all_ = sh.worksheet_by_title(\"All\")\n",
    "all_.clear('A2:F1000') \n",
    "\n",
    "all_.set_dataframe(final_table,(1,1))"
   ]
  },
  {
   "cell_type": "markdown",
   "metadata": {},
   "source": [
    "### [Link](https://docs.google.com/spreadsheets/d/1s5oYU59jyU_QO3IIhCClyWGoC_MpW9L_h4l4djDUKO0/edit#gid=1021888748) to my Google Sheet"
   ]
  },
  {
   "cell_type": "code",
   "execution_count": null,
   "metadata": {},
   "outputs": [],
   "source": [
    "for files in csv_files:\n",
    "    os.remove(files)"
   ]
  },
  {
   "cell_type": "markdown",
   "metadata": {},
   "source": [
    "### Popular books \n",
    "- Identify popular books"
   ]
  },
  {
   "cell_type": "code",
   "execution_count": null,
   "metadata": {},
   "outputs": [],
   "source": [
    "# total = final_table.groupby('title').availability.count().reset_index()\n",
    "# available = final_table[final_table.availability == \"Available\"].groupby('title').availability.count().reset_index()\n",
    "# total.columns = ['title', 'total']\n",
    "# available.columns = ['title', 'avail_count']\n",
    "# total.merge(available)"
   ]
  },
  {
   "cell_type": "code",
   "execution_count": null,
   "metadata": {},
   "outputs": [],
   "source": [
    "available_books = list(set(final_table[final_table.availability == 'Available'].title.tolist()))"
   ]
  },
  {
   "cell_type": "code",
   "execution_count": null,
   "metadata": {},
   "outputs": [],
   "source": [
    "final_table[~final_table.title.isin(available_books)]"
   ]
  }
 ],
 "metadata": {
  "hide_input": false,
  "kernelspec": {
   "display_name": "Python 3 (ipykernel)",
   "language": "python",
   "name": "python3"
  },
  "language_info": {
   "codemirror_mode": {
    "name": "ipython",
    "version": 3
   },
   "file_extension": ".py",
   "mimetype": "text/x-python",
   "name": "python",
   "nbconvert_exporter": "python",
   "pygments_lexer": "ipython3",
   "version": "3.9.10"
  },
  "toc": {
   "base_numbering": 1,
   "nav_menu": {},
   "number_sections": true,
   "sideBar": true,
   "skip_h1_title": false,
   "title_cell": "Table of Contents",
   "title_sidebar": "Contents",
   "toc_cell": false,
   "toc_position": {},
   "toc_section_display": true,
   "toc_window_display": false
  },
  "varInspector": {
   "cols": {
    "lenName": 16,
    "lenType": 16,
    "lenVar": 40
   },
   "kernels_config": {
    "python": {
     "delete_cmd_postfix": "",
     "delete_cmd_prefix": "del ",
     "library": "var_list.py",
     "varRefreshCmd": "print(var_dic_list())"
    },
    "r": {
     "delete_cmd_postfix": ") ",
     "delete_cmd_prefix": "rm(",
     "library": "var_list.r",
     "varRefreshCmd": "cat(var_dic_list()) "
    }
   },
   "types_to_exclude": [
    "module",
    "function",
    "builtin_function_or_method",
    "instance",
    "_Feature"
   ],
   "window_display": false
  }
 },
 "nbformat": 4,
 "nbformat_minor": 4
}
