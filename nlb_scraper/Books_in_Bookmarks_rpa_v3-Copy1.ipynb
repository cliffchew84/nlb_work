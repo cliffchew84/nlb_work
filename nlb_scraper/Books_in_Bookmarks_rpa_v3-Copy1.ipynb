{
 "cells": [
  {
   "cell_type": "code",
   "execution_count": 1,
   "id": "0b6e7b54-fcd1-4883-8904-46d0ccc19823",
   "metadata": {},
   "outputs": [],
   "source": [
    "%load_ext autoreload\n",
    "%autoreload 2\n",
    "\n",
    "from multiprocessing import Pool\n",
    "from concurrent.futures import ThreadPoolExecutor\n",
    "\n",
    "from selenium import webdriver\n",
    "from selenium.webdriver.support import expected_conditions as EC\n",
    "from selenium.webdriver.support.ui import WebDriverWait\n",
    "from selenium.webdriver.common.by import By\n",
    "\n",
    "from bs4 import BeautifulSoup as bs\n",
    "from itertools import cycle\n",
    "from glob import glob\n",
    "import pandas as pd\n",
    "import numpy as np\n",
    "import rpa as r\n",
    "\n",
    "import warnings\n",
    "import pygsheets\n",
    "import math\n",
    "import time\n",
    "import re\n",
    "import os\n",
    "\n",
    "# Some notebook configs\n",
    "warnings.filterwarnings('ignore')\n",
    "pd.set_option('display.max_colwidth', 1000)"
   ]
  },
  {
   "cell_type": "code",
   "execution_count": 2,
   "id": "be4b8597-9706-432d-b751-579844c11cae",
   "metadata": {},
   "outputs": [],
   "source": [
    "from nlb_fun import *"
   ]
  },
  {
   "cell_type": "code",
   "execution_count": 4,
   "id": "ee503f11-21b6-4a4d-b3ee-e84ee91ddf7b",
   "metadata": {},
   "outputs": [],
   "source": [
    "r.init(headless_mode=True)\n",
    "\n",
    "url_link = \"https://cassamv2.nlb.gov.sg/cas/login\"\n",
    "r.url(url_link)\n",
    "\n",
    "auth_csv_file: str = os.environ['nlb_login']"
   ]
  },
  {
   "cell_type": "code",
   "execution_count": 5,
   "id": "34bfc7a8-ccbd-4d81-a3e1-7fa160c65053",
   "metadata": {},
   "outputs": [
    {
     "data": {
      "text/plain": [
       "True"
      ]
     },
     "execution_count": 5,
     "metadata": {},
     "output_type": "execute_result"
    }
   ],
   "source": [
    "info = pd.read_csv(auth_csv_file)\n",
    "account_name: str = info['values'][0]\n",
    "password: str = info['values'][1]\n",
    "\n",
    "r.type('//*[@id=\"username\"]', f'{account_name}')\n",
    "r.type('//*[@id=\"password\"]', f'{password}')\n",
    "\n",
    "login_button_2 = \"\"\"//*[@id=\"fm1\"]/section/input[4]\"\"\"\n",
    "r.click(login_button_2)"
   ]
  },
  {
   "cell_type": "markdown",
   "id": "c99cbe2b-5b2e-4633-9bcd-d1ee01a858e0",
   "metadata": {},
   "source": [
    "### Add hit to get number of page iterations needed "
   ]
  },
  {
   "cell_type": "code",
   "execution_count": 9,
   "id": "92e9f16b-c223-468f-b9a7-03ea946e0653",
   "metadata": {},
   "outputs": [],
   "source": [
    "r.url(\"https://www.nlb.gov.sg/mylibrary/Bookmarks\")\n",
    "time.sleep(5)\n",
    "\n",
    "soup = bs(r.read('page'), 'html5')\n",
    "soup.find_all(\"div\", text=re.compile(\"Showing\"))[0].text.split(\" \")[-2]\n",
    "\n",
    "max_records = float(soup.find_all(\"div\", text=re.compile(\"Showing\"))[0].text.split(\" \")[-2])\n",
    "range_list = range(1, int(math.ceil(max_records / 20)) + 1)\n",
    "\n",
    "# To indicate when the NEXT button is at\n",
    "counter = range_list[-1] + 2\n",
    "print(counter)\n",
    "range_list"
   ]
  },
  {
   "cell_type": "code",
   "execution_count": 11,
   "id": "0713878a-ae50-4bdf-8ba5-c307e9c166d1",
   "metadata": {},
   "outputs": [],
   "source": [
    "book_urls_dict = dict()\n",
    "\n",
    "soup = bs(r.read('page'), 'html5')\n",
    "book_urls_dict[0] = list(set(get_book_urls_on_page(soup)))\n",
    "\n",
    "for i in range(1,counter+1):\n",
    "    print(i)\n",
    "    time.sleep(2)\n",
    "    click_thru_pages = f'//*[@id=\"bookmark-folder-content\"]/nav/ul/li[{counter}]/a'\n",
    "    r.click(click_thru_pages)\n",
    "    time.sleep(2)\n",
    "    soup = bs(r.read('page'), 'html5')\n",
    "    book_urls_dict[i] = list(set(get_book_urls_on_page(soup)))"
   ]
  },
  {
   "cell_type": "code",
   "execution_count": 12,
   "id": "a9e33de7-2eeb-4bd3-9145-4bd1d69d0309",
   "metadata": {},
   "outputs": [
    {
     "data": {
      "text/plain": [
       "True"
      ]
     },
     "execution_count": 12,
     "metadata": {},
     "output_type": "execute_result"
    }
   ],
   "source": [
    "r.close()"
   ]
  },
  {
   "cell_type": "code",
   "execution_count": 15,
   "id": "a2e48759-3a62-4211-954c-52c227eff70b",
   "metadata": {},
   "outputs": [],
   "source": [
    "all_book_url_lists = list()\n",
    "for i in range(0, len(book_urls_dict)):\n",
    "    all_book_url_lists = all_book_url_lists + book_urls_dict[i]\n",
    "\n",
    "print(len(list(set(all_book_url_lists))))\n",
    "print(len(all_book_url_lists))"
   ]
  },
  {
   "cell_type": "markdown",
   "id": "23755a21-3ba5-46cd-a2e9-92d460ac99c4",
   "metadata": {},
   "source": [
    "#### Executing the main scraping of books "
   ]
  },
  {
   "cell_type": "code",
   "execution_count": null,
   "id": "8829be3a-5c67-4599-a828-39cae3d5ab1b",
   "metadata": {},
   "outputs": [],
   "source": [
    "def return_needed_url(id_: str) -> str:\n",
    "    return f\"https://eservice.nlb.gov.sg/item_holding.aspx?id={id_}&type=bid&app=mylibrary\"\n",
    "\n",
    "def nlb_page_crawl(selenium_browser, url_link: str):\n",
    "    id_ = re.findall(r'\\d+', url_link)[-1]\n",
    "    new_url = return_needed_url(id_)\n",
    "\n",
    "    selenium_browser.get(new_url)\n",
    "    time.sleep(10)\n",
    "    return bs(selenium_browser.page_source, 'html5lib'), new_url\n",
    "\n",
    "def extract_table_values(selenium_obj, tag: str) -> list:\n",
    "    \"\"\"\n",
    "    Extracting values from a HTML table structure based on tag\n",
    "    \"\"\"\n",
    "    output = []\n",
    "    for col in selenium_obj.find_all(tag):\n",
    "        output.append(col)\n",
    "    return output\n",
    "\n",
    "def extract_table_values_nested(selenium_obj, input_1, input_2):\n",
    "    \"\"\"\n",
    "    Accounts for nested table tags in a HTML table.\n",
    "    \"\"\"\n",
    "    output = []\n",
    "\n",
    "    for i in extract_table_values(selenium_obj, input_1):\n",
    "        output.append(extract_table_values(i, input_2))\n",
    "        \n",
    "    return output"
   ]
  },
  {
   "cell_type": "code",
   "execution_count": null,
   "id": "cf3f706e-c898-46f8-992a-09447ac3be4a",
   "metadata": {},
   "outputs": [],
   "source": [
    "def extract_info_from_nlb_book_page(url_link :str, selenium_browser):\n",
    "    try:\n",
    "        selenium_page, new_url = nlb_page_crawl(selenium_browser, url_link)\n",
    "        time.sleep(5)\n",
    "\n",
    "        for i in selenium_page.find_all(class_= 'table table-bordered table-striped table-list'):\n",
    "            col_names = extract_table_values(i, 'th')\n",
    "            col_values = extract_table_values_nested(i, 'tr', 'td')\n",
    "\n",
    "        bk_table = pd.DataFrame([[x for x in i] for i in col_values])\n",
    "        bk_table.columns = [i.text for i in col_names]\n",
    "        bk_table['Title'] = selenium_page.find('h4').text\n",
    "        bk_table = bk_table[bk_table.Library.notnull()]\n",
    "\n",
    "        for col in [\"Call No\", \"Status/Desc\", \"Due Date\", \"Library\"]:\n",
    "            bk_table[col] = [i.text.split(\": \")[-1] for i in bk_table[col]]\n",
    "        \n",
    "        bk_table.loc[bk_table[\"Status/Desc\"] == 'Reserved', 'Due Date'] = 'Reserved'\n",
    "        bk_table['Library'] = [i.split(\"B3\")[0].split(\"B2\")[0] for i in bk_table['Library']]\n",
    "        bk_table['Due Date'] = [\"Available\" if i == '-' else i for i in bk_table['Due Date']]\n",
    "        bk_table['url'] = new_url\n",
    "\n",
    "        id_ = re.findall(r'\\d+', new_url)[-1]\n",
    "        bk_table[['Title', 'Library', 'Call No', 'Due Date', 'url']].to_csv(f\"{id_}.csv\", index=False)\n",
    "    \n",
    "    except:\n",
    "        id_ = re.findall(r'\\d+', url_link)[-1]\n",
    "        new_url = return_needed_url(id_)\n",
    "        print(f\"Got issue with {new_url}\")"
   ]
  },
  {
   "cell_type": "code",
   "execution_count": null,
   "id": "3e166435-dcb8-447f-b55b-adc9ed2d6b7e",
   "metadata": {},
   "outputs": [],
   "source": [
    "def setup_workers():\n",
    "    workers = 3\n",
    "    files = list(set(all_book_url_lists))\n",
    "    drivers = cycle([activate_chrome_selenium_latest(have_pic=False, is_headless=False) for _ in range(workers)])\n",
    "\n",
    "    with ThreadPoolExecutor(max_workers=workers) as executor:\n",
    "        executor.map(extract_info_from_nlb_book_page, files, drivers)\n",
    "\n",
    "    [driver.quit() for driver in drivers]\n",
    "    ThreadPoolExecutor.shutdownNow()\n",
    "    print(\"Process has ended\")"
   ]
  },
  {
   "cell_type": "code",
   "execution_count": null,
   "id": "03d4c7de-089a-426f-b6c5-36603f6ee4cb",
   "metadata": {
    "scrolled": true
   },
   "outputs": [],
   "source": [
    "setup_workers()"
   ]
  },
  {
   "cell_type": "code",
   "execution_count": null,
   "id": "4c6cca27-d3e4-411f-85af-c83a90d0169c",
   "metadata": {},
   "outputs": [],
   "source": [
    "csv_files = glob(\"*.csv\")\n",
    "len(csv_files)"
   ]
  },
  {
   "cell_type": "code",
   "execution_count": null,
   "id": "00f449ac-d824-4af3-a7b6-425ba7c8ea84",
   "metadata": {},
   "outputs": [],
   "source": [
    "final_table = pd.DataFrame()\n",
    "\n",
    "for filename in csv_files:\n",
    "    final_table = final_table.append(pd.read_csv(filename))\n",
    "\n",
    "final_table.shape"
   ]
  },
  {
   "cell_type": "markdown",
   "id": "edfb5da8-01f2-4327-8f7d-99812d6929ea",
   "metadata": {},
   "source": [
    "### Taking locally saved files and loading into Google "
   ]
  },
  {
   "cell_type": "code",
   "execution_count": null,
   "id": "dc9de8e1-9ea7-48a2-a81a-45891eaaeafc",
   "metadata": {},
   "outputs": [],
   "source": [
    "final_table.columns = ['title', \"library\", \"number\", 'availability', 'url']\n",
    "final_table = final_table[['library', 'title', 'number', 'availability', 'url']]\n",
    "unique_book_count = len(final_table.title.drop_duplicates().tolist())\n",
    "unique_book_count"
   ]
  },
  {
   "cell_type": "markdown",
   "id": "9d391533-5695-41c4-8422-6272bff0fcf5",
   "metadata": {},
   "source": [
    "### Thinking about how to include testing into my script"
   ]
  },
  {
   "cell_type": "code",
   "execution_count": null,
   "id": "1e61c061-a7a7-4a61-a26f-c229f5c91860",
   "metadata": {},
   "outputs": [],
   "source": [
    "final_table = final_table[final_table.availability.notnull()]\n",
    "final_table = final_table[final_table.availability != \"For Reference Only\"]"
   ]
  },
  {
   "cell_type": "markdown",
   "id": "9ae2b83f-7fbd-404f-9a25-b0a3374e88d2",
   "metadata": {},
   "source": [
    "### Thinking about testing my code "
   ]
  },
  {
   "cell_type": "code",
   "execution_count": null,
   "id": "ba334e05-81d4-4ebc-b8a0-5fcbfcba75a0",
   "metadata": {},
   "outputs": [],
   "source": [
    "final_table[final_table.availability.isnull()].shape"
   ]
  },
  {
   "cell_type": "code",
   "execution_count": null,
   "id": "cd746023-41b9-492f-86af-707f7df9bdb3",
   "metadata": {},
   "outputs": [],
   "source": [
    "final_table[final_table['number'].isnull()].shape"
   ]
  },
  {
   "cell_type": "code",
   "execution_count": null,
   "id": "c3696965-4568-4a57-8c97-a95058af2b3a",
   "metadata": {},
   "outputs": [],
   "source": [
    "final_table[final_table['number'].isnull()]"
   ]
  },
  {
   "cell_type": "markdown",
   "id": "ac81c6a0-6155-44f3-be79-9a0ed1488985",
   "metadata": {},
   "source": [
    "### Processing "
   ]
  },
  {
   "cell_type": "code",
   "execution_count": null,
   "id": "31834d9a-2bea-46d6-80a8-ed14f2be283c",
   "metadata": {},
   "outputs": [],
   "source": [
    "final_table.title = [i.split(\" | \")[0] for i in final_table.title]\n",
    "final_table.loc[final_table.library == \"Repository Used Book Collection\", 'availability'] = \"For Reference Only\"\n",
    "final_table['title'] = [i.split(r\"/\")[0].strip() for i in final_table['title']]"
   ]
  },
  {
   "cell_type": "markdown",
   "id": "3c7061e5-cb9b-427e-80dd-a9de1d6c48fb",
   "metadata": {},
   "source": [
    "### Cleaning Bookmarks Sheet "
   ]
  },
  {
   "cell_type": "code",
   "execution_count": null,
   "id": "8f61d595-78c8-4fed-a3d5-effa412405e1",
   "metadata": {},
   "outputs": [],
   "source": [
    "google_auth = os.environ['gsheet_cred']\n",
    "gc = pygsheets.authorize(service_file=google_auth)\n",
    "sh = gc.open('NLB Project')"
   ]
  },
  {
   "cell_type": "markdown",
   "id": "e2a87c6f-f190-45a0-8b43-2c284ce16370",
   "metadata": {},
   "source": [
    "### Checking in all libraries"
   ]
  },
  {
   "cell_type": "code",
   "execution_count": null,
   "id": "1c10ceae-cd99-41dd-9652-daf0363acccc",
   "metadata": {},
   "outputs": [],
   "source": [
    "all_ = sh.worksheet_by_title(\"All\")\n",
    "all_.clear('A2:F1000') \n",
    "\n",
    "all_.set_dataframe(final_table,(1,1))"
   ]
  },
  {
   "cell_type": "markdown",
   "id": "cb1ec488-564f-456e-a029-354bddca7d0f",
   "metadata": {},
   "source": [
    "### [Link](https://docs.google.com/spreadsheets/d/1s5oYU59jyU_QO3IIhCClyWGoC_MpW9L_h4l4djDUKO0/edit#gid=1021888748) to my Google Sheet"
   ]
  },
  {
   "cell_type": "code",
   "execution_count": null,
   "id": "e6c89ac2-85ce-46cc-b15f-9ec1e7e2f92e",
   "metadata": {},
   "outputs": [],
   "source": [
    "for files in csv_files:\n",
    "    os.remove(files)"
   ]
  }
 ],
 "metadata": {
  "kernelspec": {
   "display_name": "Python 3 (ipykernel)",
   "language": "python",
   "name": "python3"
  },
  "language_info": {
   "codemirror_mode": {
    "name": "ipython",
    "version": 3
   },
   "file_extension": ".py",
   "mimetype": "text/x-python",
   "name": "python",
   "nbconvert_exporter": "python",
   "pygments_lexer": "ipython3",
   "version": "3.9.10"
  }
 },
 "nbformat": 4,
 "nbformat_minor": 5
}
