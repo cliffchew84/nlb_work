{
 "cells": [
  {
   "cell_type": "markdown",
   "id": "be4d495f-ca2f-4201-9bd4-77652c95d5f4",
   "metadata": {},
   "source": [
    "## Tinkering with NLB API\n",
    "14th August 2022"
   ]
  },
  {
   "cell_type": "code",
   "execution_count": 4,
   "id": "fbc2a465-d7e3-4b00-a96c-6c392009d9ae",
   "metadata": {},
   "outputs": [],
   "source": [
    "# !pip3 install zeep"
   ]
  },
  {
   "cell_type": "code",
   "execution_count": 10,
   "id": "7df3f788-5df9-4f47-ad49-e4a5590e6216",
   "metadata": {},
   "outputs": [],
   "source": [
    "import pandas as pd\n",
    "from datetime import datetime\n",
    "from zeep import Client, helpers"
   ]
  },
  {
   "cell_type": "markdown",
   "id": "099a9dcf-6775-478c-9eae-4a3f51472d42",
   "metadata": {},
   "source": [
    "### Resources\n",
    "These are the resources that I referred to\n",
    "1. [NLB API documentation](https://opendata.nlb.gov.sg/content/SkillsFuture/NLB_Labs_TechDoc-V3.6.pdf)\n",
    "1. [Unofficial NLB API Python Github repo](https://github.com/yi-jiayu/nlbsg) from [Jiayu](https://blog.jiayu.co/) - recommended by the NLB API documentation."
   ]
  },
  {
   "cell_type": "markdown",
   "id": "59360502-bab3-479e-9153-bc437ac555c4",
   "metadata": {},
   "source": [
    "### Authentication"
   ]
  },
  {
   "cell_type": "code",
   "execution_count": 11,
   "id": "301f2604-062c-4f10-92ed-5a884bbc2e80",
   "metadata": {},
   "outputs": [],
   "source": [
    "API = pd.read_csv(\"api.csv\")['api'].values[0]\n",
    "PRODUCTION_URL = \"https://openweb.nlb.gov.sg/OWS/CatalogueService.svc?singleWsdl\"\n",
    "client = Client(wsdl=PRODUCTION_URL)"
   ]
  },
  {
   "cell_type": "markdown",
   "id": "3f22fd2f-5be0-443a-8255-887536ff4a5a",
   "metadata": {},
   "source": [
    "### Content map\n",
    "1. Show how the input looks like for Search\n",
    "1. Show how basic Search output looks like, and explain its structure\n",
    "1. Show how this works for both the other two methods.\n",
    "1. Show how Title recommendations don't seem to work - And confirm that I am emailing NLB on this\n",
    "1. Write a ReadMe to explain how to use the API"
   ]
  },
  {
   "cell_type": "markdown",
   "id": "fba8bd7f-7c87-40b2-b8e3-dfa187371327",
   "metadata": {},
   "source": [
    "### Catalogue Endpoint\n",
    "Using the [Zeep](https://docs.python-zeep.org/en/master/) Python package meant that I didn't need to handle tricky XML formats, and could just nested dictionary as inputs for my NLB API calls. Below are some sample API calls that I made.\n",
    "\n",
    "### 1st Method - Search Feature\n",
    "The following is the `input structure` needed to make the API call for the Search method. "
   ]
  },
  {
   "cell_type": "code",
   "execution_count": 4,
   "id": "b971e015-6fb5-45d8-b51b-f6e13663e2a5",
   "metadata": {},
   "outputs": [],
   "source": [
    "search_input = {\n",
    "    \"APIKey\": API,\n",
    "    \"SearchItems\": {\n",
    "        \"SearchItem\": [\n",
    "            {\n",
    "                \"SearchField\": \"Title\", \n",
    "                \"SearchTerms\": \"Robust Python\"\n",
    "            },\n",
    "            {\n",
    "                \"SearchField\": \"Keywords\", \n",
    "                \"SearchTerms\": \"Python\"\n",
    "            },\n",
    "        ]\n",
    "    },\n",
    "    \"Modifiers\": {\n",
    "        \"SortSchema\": None,\n",
    "        \"StartRecordPosition\": 1,\n",
    "        \"MaximumRecords\": 100,\n",
    "        \"SetId\": None\n",
    "    }\n",
    "}"
   ]
  },
  {
   "cell_type": "markdown",
   "id": "17d109b2-80bd-4c7a-b5cd-1a0ca4f3e445",
   "metadata": {},
   "source": [
    "There are 3 major input sections for the Search method - (1) API (2) SearchItems (3) Modifiers.\n",
    "\n",
    "1. `API key` - This is what you get when you request for the API key from NLB.\n",
    "1. Input parameters for `SearchItems`. If you want to have more than one `SearchItems` parameter, you need to include them as a dictionary of `SearchField` and `SearchTerms`. \n",
    "    1. Keywords\n",
    "    1. Author\n",
    "    1. Subject\n",
    "    1. Title\n",
    "    1. Branch\n",
    "    1. Media_code\n",
    "    1. Language\n",
    "1. `Modifiers` don't directly affect the results being returned, but it does allow one to modify how the results are shown. Their input parameters are:\n",
    "    1. SortSchema\n",
    "    1. StartRecordPosition\n",
    "    1. MaximumRecords\n",
    "    1. SetId"
   ]
  },
  {
   "cell_type": "markdown",
   "id": "9ddde54c-7ee4-4e98-8832-ca64bcb49d1f",
   "metadata": {},
   "source": [
    "`zeep` seems to require me to add `**` to my `client.service.Search()` input for the API to work. I also used `helpers.serialize_object` to convert the API output into an OrderDict for further processing."
   ]
  },
  {
   "cell_type": "code",
   "execution_count": 5,
   "id": "918344d9-5130-4511-8304-a13380bfd8ba",
   "metadata": {},
   "outputs": [],
   "source": [
    "test_output = helpers.serialize_object(\n",
    "    client.service.Search(**search_input)\n",
    ")"
   ]
  },
  {
   "cell_type": "markdown",
   "id": "9894a4d2-3949-4ce3-b059-3f205148403f",
   "metadata": {},
   "source": [
    "This is how my output looks like "
   ]
  },
  {
   "cell_type": "code",
   "execution_count": 6,
   "id": "77bae0fa-ac13-4151-989f-3115462de624",
   "metadata": {},
   "outputs": [
    {
     "data": {
      "text/plain": [
       "OrderedDict([('Status', 'OK'),\n",
       "             ('Message', 'Operation completed successfully'),\n",
       "             ('ErrorMessage', None),\n",
       "             ('TotalRecords', 2),\n",
       "             ('NextRecordPosition', 0),\n",
       "             ('SetId', '367795457'),\n",
       "             ('Titles',\n",
       "              OrderedDict([('Title',\n",
       "                            [OrderedDict([('BID', '205485970'),\n",
       "                                          ('ISBN',\n",
       "                                           '9781098100636 (electronic bk)|9781098100612 (electronic bk)'),\n",
       "                                          ('TitleName',\n",
       "                                           'Robust python. Patrick Viafore.'),\n",
       "                                          ('Author', 'Viafore, Patrick.'),\n",
       "                                          ('PublishYear', '2021'),\n",
       "                                          ('MediaCode', 'BK'),\n",
       "                                          ('MediaDesc', 'Books')]),\n",
       "                             OrderedDict([('BID', '205499632'),\n",
       "                                          ('ISBN',\n",
       "                                           '9781098100667 (paperback)|1098100662 (paperback)'),\n",
       "                                          ('TitleName',\n",
       "                                           'Robust Python : write clean and maintainable code / Patrick Viafore.'),\n",
       "                                          ('Author', 'Viafore, Patrick,'),\n",
       "                                          ('PublishYear', '2021'),\n",
       "                                          ('MediaCode', 'BK'),\n",
       "                                          ('MediaDesc', 'Books')])])]))])"
      ]
     },
     "execution_count": 6,
     "metadata": {},
     "output_type": "execute_result"
    }
   ],
   "source": [
    "test_output"
   ]
  },
  {
   "cell_type": "code",
   "execution_count": 7,
   "id": "c6198688-8be1-49a5-b5b8-5889cd67af88",
   "metadata": {},
   "outputs": [
    {
     "data": {
      "text/plain": [
       "2"
      ]
     },
     "execution_count": 7,
     "metadata": {},
     "output_type": "execute_result"
    }
   ],
   "source": [
    "test_output.get('TotalRecords')"
   ]
  },
  {
   "cell_type": "markdown",
   "id": "6bf42dc9-0d03-4abc-b7ed-611f401390ee",
   "metadata": {},
   "source": [
    "One rather irritating thing about the Search method is, I wasn't able to find a way to separate physical and electronic books, even when I have put the parameter `MediaDesc` to be `Books`. This would be a bit troublesome if I only wanted to look at physical books (which actually is my most common use case)."
   ]
  },
  {
   "cell_type": "markdown",
   "id": "acde78cc-c05d-45f1-a1d1-dc253c87b162",
   "metadata": {},
   "source": [
    "### Small issue with MaximumRecords being no more than 50..."
   ]
  },
  {
   "cell_type": "code",
   "execution_count": 8,
   "id": "5165931d-f604-4318-a98c-54be95614df9",
   "metadata": {},
   "outputs": [
    {
     "data": {
      "text/plain": [
       "50"
      ]
     },
     "execution_count": 8,
     "metadata": {},
     "output_type": "execute_result"
    }
   ],
   "source": [
    "search_input = {\n",
    "    \"APIKey\": API,\n",
    "    \"SearchItems\": {\n",
    "        \"SearchItem\": [\n",
    "            {\n",
    "                \"SearchField\": \"Title\", \n",
    "                \"SearchTerms\": \"Python\"\n",
    "            },\n",
    "        ]\n",
    "    },\n",
    "    \"Modifiers\": {\n",
    "        \"SortSchema\": None,\n",
    "        \"StartRecordPosition\": 1,\n",
    "        \"MaximumRecords\": 100,\n",
    "        \"SetId\": None\n",
    "    }\n",
    "}\n",
    "\n",
    "test_output = helpers.serialize_object(\n",
    "    client.service.Search(**search_input)\n",
    ")\n",
    "\n",
    "# Here, I am pulling out all the titles from the API, and counting how many records I have. \n",
    "# Without paginating across all the 771 records, I only have 50 records.\n",
    "len(test_output.get(\"Titles\").get(\"Title\"))"
   ]
  },
  {
   "cell_type": "code",
   "execution_count": 9,
   "id": "f90f3c4c-2364-4846-b3ca-09c0ffbe04db",
   "metadata": {},
   "outputs": [
    {
     "data": {
      "text/plain": [
       "772"
      ]
     },
     "execution_count": 9,
     "metadata": {},
     "output_type": "execute_result"
    }
   ],
   "source": [
    "test_output.get('TotalRecords')"
   ]
  },
  {
   "cell_type": "markdown",
   "id": "706be803-8918-4dca-a929-9bbcc398f1f1",
   "metadata": {},
   "source": [
    "Interestingly, the [official NLB documentation](https://opendata.nlb.gov.sg/content/SkillsFuture/NLB_Labs_TechDoc-V3.6.pdf) mentions that the maximum records that I can get at any one time is 100, but I was only able to get a maximum of 50 records per section of the API. This is as of my time of writing at DD-MM-YYYY."
   ]
  },
  {
   "cell_type": "markdown",
   "id": "1774da73-0c93-4e89-be28-be3b2edf6a7a",
   "metadata": {},
   "source": [
    "### 2nd Method - Available Titles by Library \n",
    "This method is useful in finding the available books in the NLB, and this even includes electronic books! **However, I have to either give the ISBN or BID number**. I cannot make this API call through any other parameters. Unfortunately, there is a very low chance I will outright have these numbers, so most probably it means I need to make an API on the NLB Search feature, extract the ISBN / BID number from there, and then use that as an input parameter to make this API call. "
   ]
  },
  {
   "cell_type": "code",
   "execution_count": 15,
   "id": "b0ff68a7-95fd-426f-87b2-5407c6adea4d",
   "metadata": {},
   "outputs": [],
   "source": [
    "# bid_no = 9781101595954\n",
    "# bid_no = 205431306\n",
    "isbn = 9781492057697\n",
    "\n",
    "get_avail = {\n",
    "    \"APIKey\": API,\n",
    "    \"ISBN\": isbn,\n",
    "    # \"BID\": bid_no,\n",
    "    \"Modifiers\" : {\n",
    "        \"SortSchema\": None,\n",
    "        \"StartRecordPosition\": 1,\n",
    "        \"MaximumRecords\": 100,\n",
    "        \"SetId\": None\n",
    "    },\n",
    "}"
   ]
  },
  {
   "cell_type": "code",
   "execution_count": 18,
   "id": "338ba485-1f62-4add-a527-3090a026ec3f",
   "metadata": {},
   "outputs": [
    {
     "data": {
      "text/plain": [
       "{\n",
       "    'Status': 'OK',\n",
       "    'Message': 'Operation completed successfully',\n",
       "    'ErrorMessage': None,\n",
       "    'NextRecordPosition': 0,\n",
       "    'SetId': '369196980',\n",
       "    'Items': {\n",
       "        'Item': [\n",
       "            {\n",
       "                'ItemNo': 'B36549693A',\n",
       "                'BranchID': 'QUPL',\n",
       "                'BranchName': 'Queenstown Public Library',\n",
       "                'LocationCode': '____',\n",
       "                'LocationDesc': 'Adult Lending',\n",
       "                'CallNumber': 'English 005.133 GIF -[COM]',\n",
       "                'StatusCode': 'S',\n",
       "                'StatusDesc': 'Not on Loan',\n",
       "                'MediaCode': 'BOOK',\n",
       "                'MediaDesc': 'Book',\n",
       "                'StatusDate': '07/06/2022',\n",
       "                'DueDate': None,\n",
       "                'ClusterName': None,\n",
       "                'CategoryName': None,\n",
       "                'CollectionCode': 'GGEN',\n",
       "                'CollectionMinAgeLimit': None\n",
       "            },\n",
       "            {\n",
       "                'ItemNo': 'B36549692K',\n",
       "                'BranchID': 'TRL',\n",
       "                'BranchName': 'Tampines Regional Library',\n",
       "                'LocationCode': '____',\n",
       "                'LocationDesc': 'Adult Lending',\n",
       "                'CallNumber': 'English 005.133 GIF -[COM]',\n",
       "                'StatusCode': 'C',\n",
       "                'StatusDesc': 'On Loan',\n",
       "                'MediaCode': 'BOOK',\n",
       "                'MediaDesc': 'Book',\n",
       "                'StatusDate': '15/08/2022',\n",
       "                'DueDate': '24/09/2022',\n",
       "                'ClusterName': None,\n",
       "                'CategoryName': None,\n",
       "                'CollectionCode': 'GGEN',\n",
       "                'CollectionMinAgeLimit': None\n",
       "            },\n",
       "            {\n",
       "                'ItemNo': 'B36549691J',\n",
       "                'BranchID': 'WRL',\n",
       "                'BranchName': 'Woodlands Regional Library',\n",
       "                'LocationCode': '____',\n",
       "                'LocationDesc': 'Adult Lending',\n",
       "                'CallNumber': 'English 005.133 GIF -[COM]',\n",
       "                'StatusCode': 'S',\n",
       "                'StatusDesc': 'Not on Loan',\n",
       "                'MediaCode': 'BOOK',\n",
       "                'MediaDesc': 'Book',\n",
       "                'StatusDate': '21/08/2022',\n",
       "                'DueDate': None,\n",
       "                'ClusterName': None,\n",
       "                'CategoryName': None,\n",
       "                'CollectionCode': 'GGEN',\n",
       "                'CollectionMinAgeLimit': None\n",
       "            },\n",
       "            {\n",
       "                'ItemNo': 'B36549690I',\n",
       "                'BranchID': 'JRL',\n",
       "                'BranchName': 'Jurong Regional Library',\n",
       "                'LocationCode': '____',\n",
       "                'LocationDesc': 'Adult Lending',\n",
       "                'CallNumber': 'English 005.133 GIF -[COM]',\n",
       "                'StatusCode': 'C',\n",
       "                'StatusDesc': 'On Loan',\n",
       "                'MediaCode': 'BOOK',\n",
       "                'MediaDesc': 'Book',\n",
       "                'StatusDate': '19/08/2022',\n",
       "                'DueDate': '30/09/2022',\n",
       "                'ClusterName': None,\n",
       "                'CategoryName': None,\n",
       "                'CollectionCode': 'GGEN',\n",
       "                'CollectionMinAgeLimit': None\n",
       "            },\n",
       "            {\n",
       "                'ItemNo': 'B36549689F',\n",
       "                'BranchID': 'BIPL',\n",
       "                'BranchName': 'Bishan Public Library',\n",
       "                'LocationCode': '____',\n",
       "                'LocationDesc': 'Adult Lending',\n",
       "                'CallNumber': 'English 005.133 GIF -[COM]',\n",
       "                'StatusCode': 'S',\n",
       "                'StatusDesc': 'Not on Loan',\n",
       "                'MediaCode': 'BOOK',\n",
       "                'MediaDesc': 'Book',\n",
       "                'StatusDate': '18/08/2022',\n",
       "                'DueDate': None,\n",
       "                'ClusterName': None,\n",
       "                'CategoryName': None,\n",
       "                'CollectionCode': 'GGEN',\n",
       "                'CollectionMinAgeLimit': None\n",
       "            },\n",
       "            {\n",
       "                'ItemNo': 'B36549687D',\n",
       "                'BranchID': 'BEPL',\n",
       "                'BranchName': 'Bedok Public Library',\n",
       "                'LocationCode': '____',\n",
       "                'LocationDesc': 'Adult Lending',\n",
       "                'CallNumber': 'English 005.133 GIF -[COM]',\n",
       "                'StatusCode': 'S',\n",
       "                'StatusDesc': 'Not on Loan',\n",
       "                'MediaCode': 'BOOK',\n",
       "                'MediaDesc': 'Book',\n",
       "                'StatusDate': '21/08/2022',\n",
       "                'DueDate': None,\n",
       "                'ClusterName': None,\n",
       "                'CategoryName': None,\n",
       "                'CollectionCode': 'GGEN',\n",
       "                'CollectionMinAgeLimit': None\n",
       "            },\n",
       "            {\n",
       "                'ItemNo': 'B36534717C',\n",
       "                'BranchID': 'WDALLI',\n",
       "                'BranchName': 'The LLiBrary (Lifelong Learning Institute)',\n",
       "                'LocationCode': '____',\n",
       "                'LocationDesc': 'Adult Lending',\n",
       "                'CallNumber': 'English 005.133 GIF -[COM]',\n",
       "                'StatusCode': 'C',\n",
       "                'StatusDesc': 'On Loan',\n",
       "                'MediaCode': 'BOOK',\n",
       "                'MediaDesc': 'Book',\n",
       "                'StatusDate': '10/08/2022',\n",
       "                'DueDate': '03/09/2022',\n",
       "                'ClusterName': 'Computer & IT',\n",
       "                'CategoryName': None,\n",
       "                'CollectionCode': 'GGEN',\n",
       "                'CollectionMinAgeLimit': None\n",
       "            },\n",
       "            {\n",
       "                'ItemNo': 'B36596333E',\n",
       "                'BranchID': 'GEPL',\n",
       "                'BranchName': 'Geylang East Public Library',\n",
       "                'LocationCode': '____',\n",
       "                'LocationDesc': 'Adult Lending',\n",
       "                'CallNumber': 'English 005.133 GIF -[COM]',\n",
       "                'StatusCode': 'C',\n",
       "                'StatusDesc': 'On Loan',\n",
       "                'MediaCode': 'BOOK',\n",
       "                'MediaDesc': 'Book',\n",
       "                'StatusDate': '30/07/2022',\n",
       "                'DueDate': '22/08/2022',\n",
       "                'ClusterName': None,\n",
       "                'CategoryName': None,\n",
       "                'CollectionCode': 'GGEN',\n",
       "                'CollectionMinAgeLimit': None\n",
       "            },\n",
       "            {\n",
       "                'ItemNo': 'B36596332D',\n",
       "                'BranchID': 'AMKPL',\n",
       "                'BranchName': 'Ang Mo Kio Public Library',\n",
       "                'LocationCode': '____',\n",
       "                'LocationDesc': 'Adult Lending',\n",
       "                'CallNumber': 'English 005.133 GIF -[COM]',\n",
       "                'StatusCode': 'S',\n",
       "                'StatusDesc': 'Not on Loan',\n",
       "                'MediaCode': 'BOOK',\n",
       "                'MediaDesc': 'Book',\n",
       "                'StatusDate': '15/08/2022',\n",
       "                'DueDate': None,\n",
       "                'ClusterName': None,\n",
       "                'CategoryName': None,\n",
       "                'CollectionCode': 'GGEN',\n",
       "                'CollectionMinAgeLimit': None\n",
       "            },\n",
       "            {\n",
       "                'ItemNo': 'B36596331C',\n",
       "                'BranchID': 'TPPL',\n",
       "                'BranchName': 'Toa Payoh Public Library',\n",
       "                'LocationCode': '____',\n",
       "                'LocationDesc': 'Adult Lending',\n",
       "                'CallNumber': 'English 005.133 GIF -[COM]',\n",
       "                'StatusCode': 'I',\n",
       "                'StatusDesc': 'In-Transit',\n",
       "                'MediaCode': 'BOOK',\n",
       "                'MediaDesc': 'Book',\n",
       "                'StatusDate': '21/08/2022',\n",
       "                'DueDate': None,\n",
       "                'ClusterName': None,\n",
       "                'CategoryName': None,\n",
       "                'CollectionCode': 'GGEN',\n",
       "                'CollectionMinAgeLimit': None\n",
       "            },\n",
       "            {\n",
       "                'ItemNo': 'B36596330B',\n",
       "                'BranchID': 'JWPL',\n",
       "                'BranchName': 'Jurong West Public Library',\n",
       "                'LocationCode': '____',\n",
       "                'LocationDesc': 'Adult Lending',\n",
       "                'CallNumber': 'English 005.133 GIF -[COM]',\n",
       "                'StatusCode': 'S',\n",
       "                'StatusDesc': 'Not on Loan',\n",
       "                'MediaCode': 'BOOK',\n",
       "                'MediaDesc': 'Book',\n",
       "                'StatusDate': '02/08/2022',\n",
       "                'DueDate': None,\n",
       "                'ClusterName': None,\n",
       "                'CategoryName': None,\n",
       "                'CollectionCode': 'GGEN',\n",
       "                'CollectionMinAgeLimit': None\n",
       "            }\n",
       "        ]\n",
       "    }\n",
       "}"
      ]
     },
     "execution_count": 18,
     "metadata": {},
     "output_type": "execute_result"
    }
   ],
   "source": [
    "avail_info = client.service.GetAvailabilityInfo(**get_avail)\n",
    "avail_info"
   ]
  },
  {
   "cell_type": "markdown",
   "id": "a59a3487-daff-43dd-8485-a97c98c3eb05",
   "metadata": {},
   "source": [
    "To make the output easier to read, I wrote some light Panda code to reshape the OrderDict into a pandas dataframe. "
   ]
  },
  {
   "cell_type": "code",
   "execution_count": 17,
   "id": "36e0beaa-caf3-4199-8831-3bda0208c461",
   "metadata": {},
   "outputs": [
    {
     "data": {
      "text/html": [
       "<div>\n",
       "<style scoped>\n",
       "    .dataframe tbody tr th:only-of-type {\n",
       "        vertical-align: middle;\n",
       "    }\n",
       "\n",
       "    .dataframe tbody tr th {\n",
       "        vertical-align: top;\n",
       "    }\n",
       "\n",
       "    .dataframe thead th {\n",
       "        text-align: right;\n",
       "    }\n",
       "</style>\n",
       "<table border=\"1\" class=\"dataframe\">\n",
       "  <thead>\n",
       "    <tr style=\"text-align: right;\">\n",
       "      <th></th>\n",
       "      <th>BranchName</th>\n",
       "      <th>StatusDesc</th>\n",
       "      <th>DueDate</th>\n",
       "    </tr>\n",
       "  </thead>\n",
       "  <tbody>\n",
       "    <tr>\n",
       "      <th>0</th>\n",
       "      <td>Ang Mo Kio Public Library</td>\n",
       "      <td>Not on Loan</td>\n",
       "      <td>None</td>\n",
       "    </tr>\n",
       "    <tr>\n",
       "      <th>0</th>\n",
       "      <td>Bedok Public Library</td>\n",
       "      <td>Not on Loan</td>\n",
       "      <td>None</td>\n",
       "    </tr>\n",
       "    <tr>\n",
       "      <th>0</th>\n",
       "      <td>Bishan Public Library</td>\n",
       "      <td>Not on Loan</td>\n",
       "      <td>None</td>\n",
       "    </tr>\n",
       "    <tr>\n",
       "      <th>0</th>\n",
       "      <td>Geylang East Public Library</td>\n",
       "      <td>On Loan</td>\n",
       "      <td>22/08/2022</td>\n",
       "    </tr>\n",
       "    <tr>\n",
       "      <th>0</th>\n",
       "      <td>Jurong Regional Library</td>\n",
       "      <td>On Loan</td>\n",
       "      <td>30/09/2022</td>\n",
       "    </tr>\n",
       "    <tr>\n",
       "      <th>0</th>\n",
       "      <td>Jurong West Public Library</td>\n",
       "      <td>Not on Loan</td>\n",
       "      <td>None</td>\n",
       "    </tr>\n",
       "    <tr>\n",
       "      <th>0</th>\n",
       "      <td>Queenstown Public Library</td>\n",
       "      <td>Not on Loan</td>\n",
       "      <td>None</td>\n",
       "    </tr>\n",
       "    <tr>\n",
       "      <th>0</th>\n",
       "      <td>Tampines Regional Library</td>\n",
       "      <td>On Loan</td>\n",
       "      <td>24/09/2022</td>\n",
       "    </tr>\n",
       "    <tr>\n",
       "      <th>0</th>\n",
       "      <td>The LLiBrary (Lifelong Learning Institute)</td>\n",
       "      <td>On Loan</td>\n",
       "      <td>03/09/2022</td>\n",
       "    </tr>\n",
       "    <tr>\n",
       "      <th>0</th>\n",
       "      <td>Toa Payoh Public Library</td>\n",
       "      <td>In-Transit</td>\n",
       "      <td>None</td>\n",
       "    </tr>\n",
       "    <tr>\n",
       "      <th>0</th>\n",
       "      <td>Woodlands Regional Library</td>\n",
       "      <td>Not on Loan</td>\n",
       "      <td>None</td>\n",
       "    </tr>\n",
       "  </tbody>\n",
       "</table>\n",
       "</div>"
      ],
      "text/plain": [
       "                                   BranchName   StatusDesc     DueDate\n",
       "0                   Ang Mo Kio Public Library  Not on Loan        None\n",
       "0                        Bedok Public Library  Not on Loan        None\n",
       "0                       Bishan Public Library  Not on Loan        None\n",
       "0                 Geylang East Public Library      On Loan  22/08/2022\n",
       "0                     Jurong Regional Library      On Loan  30/09/2022\n",
       "0                  Jurong West Public Library  Not on Loan        None\n",
       "0                   Queenstown Public Library  Not on Loan        None\n",
       "0                   Tampines Regional Library      On Loan  24/09/2022\n",
       "0  The LLiBrary (Lifelong Learning Institute)      On Loan  03/09/2022\n",
       "0                    Toa Payoh Public Library   In-Transit        None\n",
       "0                  Woodlands Regional Library  Not on Loan        None"
      ]
     },
     "execution_count": 17,
     "metadata": {},
     "output_type": "execute_result"
    }
   ],
   "source": [
    "df = pd.DataFrame()\n",
    "for i in pd.DataFrame(helpers.serialize_object(avail_info).get(\"Items\").values()).T[0]:\n",
    "    df = df.append(pd.DataFrame.from_dict(i, orient='index').T)\n",
    "df['isbn'] = isbn\n",
    "df.sort_values(\"BranchName\")[[\"BranchName\", \"StatusDesc\", \"DueDate\"]]"
   ]
  },
  {
   "cell_type": "markdown",
   "id": "2ee069b0-6350-46b5-84f3-5ff967034457",
   "metadata": {},
   "source": [
    "### 3rd Method - Get Title Details \n",
    "Similar to the `GetAvailabilityInfo` method, this method also only allows either ISBN or BID as input parameters. "
   ]
  },
  {
   "cell_type": "code",
   "execution_count": 6,
   "id": "e8942b63-cf10-4bad-87c3-b17d1fcdd768",
   "metadata": {},
   "outputs": [],
   "source": [
    "title_inputs = {\n",
    "    \"APIKey\": API,\n",
    "    \"BID\": 204485571,\n",
    "}"
   ]
  },
  {
   "cell_type": "code",
   "execution_count": 7,
   "id": "9123afef-54eb-4ec1-8fd1-ecffda5987a1",
   "metadata": {},
   "outputs": [
    {
     "data": {
      "text/plain": [
       "{\n",
       "    'Status': 'OK',\n",
       "    'Message': 'Operation completed successfully',\n",
       "    'ErrorMessage': None,\n",
       "    'TitleDetail': {\n",
       "        'BID': '204485571',\n",
       "        'TitleName': '40 algorithms every programmer should know : hone your problem-solving skills by learning different algorithms and their implementation in Python / Imran Ahmad.',\n",
       "        'Author': 'Ahmad, Imran,',\n",
       "        'OtherAuthors': None,\n",
       "        'Publisher': None,\n",
       "        'PhysicalDesc': 'x, 365 pages :illustrations ;24 cm',\n",
       "        'Subjects': {\n",
       "            'Subject': [\n",
       "                'Computer programs',\n",
       "                'Python (Computer program language)'\n",
       "            ]\n",
       "        },\n",
       "        'Summary': None,\n",
       "        'Notes': '\\r\\nIncludes index.',\n",
       "        'ISBN': '1789801214 (paperback)|9781789801217 (paperback)',\n",
       "        'ISSN': None,\n",
       "        'NTitleName': None,\n",
       "        'NAuthor': None,\n",
       "        'NPublisher': None\n",
       "    }\n",
       "}"
      ]
     },
     "execution_count": 7,
     "metadata": {},
     "output_type": "execute_result"
    }
   ],
   "source": [
    "title_details = client.service.GetTitleDetails(**title_inputs)\n",
    "title_details"
   ]
  },
  {
   "cell_type": "markdown",
   "id": "c51cfe79-5294-448c-98aa-a652df1500fd",
   "metadata": {},
   "source": [
    "### Read Recommendations\n",
    "From their documentation - `Read Alike Service provides search of related titles to the one submitted in the request message. It is also known Title Recommendation Service.` I finally figured out how to make the API call, but the error message is that I have no access rights to it..."
   ]
  },
  {
   "cell_type": "code",
   "execution_count": null,
   "id": "0e2f86fc-03ad-4773-b0a5-d64abe023d25",
   "metadata": {},
   "outputs": [],
   "source": [
    "get_recom = {\n",
    "    \"APIKey\": API,\n",
    "    \"BIDS\": {\n",
    "        \"BID\": 204485571\n",
    "    },\n",
    "    \"BidType\" : \"NLB\"\n",
    "}\n",
    "\n",
    "PRODUCTION_URL = \"http://openweb.nlb.gov.sg/OWS/ReadAlikeService.svc?singleWsdl\"\n",
    "client = Client(wsdl=PRODUCTION_URL)\n",
    "\n",
    "get_recommendations = client.service.GetRecommendationsForTitles(**get_recom)\n",
    "get_recommendations"
   ]
  },
  {
   "cell_type": "code",
   "execution_count": null,
   "id": "07662e09-56c5-4bd2-8647-ad98362929bd",
   "metadata": {},
   "outputs": [],
   "source": [
    "PRODUCTION_URL = \"https://openweb.nlb.gov.sg/OWS/EResourceService.svc?singleWsdl\"\n",
    "catalogue_client = Client(wsdl=PRODUCTION_URL)\n",
    "dir(catalogue_client.service)"
   ]
  },
  {
   "cell_type": "markdown",
   "id": "497ca9ed-8559-443c-a5a5-2c8e6bd8511a",
   "metadata": {},
   "source": [
    "#### eResource API "
   ]
  },
  {
   "cell_type": "code",
   "execution_count": 38,
   "id": "d2a67a86-7a52-4459-baed-099d26626d1f",
   "metadata": {},
   "outputs": [
    {
     "data": {
      "text/plain": [
       "5542"
      ]
     },
     "execution_count": 38,
     "metadata": {},
     "output_type": "execute_result"
    }
   ],
   "source": [
    "4713 + 829"
   ]
  },
  {
   "cell_type": "code",
   "execution_count": 40,
   "id": "0e568bf6-4294-4207-bb9c-3a0d3d5e2b44",
   "metadata": {},
   "outputs": [
    {
     "data": {
      "text/plain": [
       "{\n",
       "    'Status': 'OK',\n",
       "    'Message': 'Operation completed successfully',\n",
       "    'ErrorMessage': None,\n",
       "    'TotalRecords': 695,\n",
       "    'NextRecordPosition': 2,\n",
       "    'Results': {\n",
       "        'Result': [\n",
       "            {\n",
       "                'ID': 'fc261a69-0d29-4d7b-b2ed-6125de192692',\n",
       "                'Types': {\n",
       "                    'Value': [\n",
       "                        'Electronic Book'\n",
       "                    ]\n",
       "                },\n",
       "                'Title': 'Malaysia [electronic resource] : New States in a New Nation. ',\n",
       "                'Author': 'Milne, R.S.',\n",
       "                'Abstracts': {\n",
       "                    'Value': [\n",
       "                        'First Published in 1974. Routledge is an imprint of Taylor & Francis, an informa company. '\n",
       "                    ]\n",
       "                },\n",
       "                'Languages': {\n",
       "                    'Value': [\n",
       "                        'eng'\n",
       "                    ]\n",
       "                },\n",
       "                'CreationDate': '01/01/2014 00:00:00',\n",
       "                'DataFrom': 'Netlibrary',\n",
       "                'Url': 'https://search.nlb.gov.sg/onesearch/r/netlibrary/?r=K6/f8npggM786OEtpz9+4eESmeIwQXBAbfGvJpBsQ6Hp7DH/LhVi9Z5N14E02agTS0FZEemlG1qdDzieztPPyee75gVrV+sfT08/MNzl2uH+JCVvZMNqgj4vGE1Zzl5gnHIWn4wrWMxXPQdf05hYR30TXM82AvWxDyRnUiQRRWGJ9O6kC/hpuKd9Wnfr+HclGQhuuziUJxu1P3jxIgRF79As4OLFxc2ETm9Mj/UiwW4=',\n",
       "                'ResourceUrlExt': None,\n",
       "                'CoverUrl': None,\n",
       "                'Subjects': None,\n",
       "                'ISBN': None\n",
       "            }\n",
       "        ]\n",
       "    }\n",
       "}"
      ]
     },
     "execution_count": 40,
     "metadata": {},
     "output_type": "execute_result"
    }
   ],
   "source": [
    "PRODUCTION_URL = \"https://openweb.nlb.gov.sg/OWS/EresourceService.svc?wsdl\"\n",
    "client = Client(wsdl=PRODUCTION_URL)\n",
    "\n",
    "ebook_search = {\n",
    "    \"APIKey\": API,\n",
    "    \"SearchItems\": {\n",
    "        \"SearchItem\": [\n",
    "            {\n",
    "                \"SearchField\": \"Title\", \n",
    "                \"SearchTerms\": \"News\"\n",
    "            }\n",
    "        ]\n",
    "    },\n",
    "    \"ContentType\": 'Digital Books',\n",
    "    \"DataFrom\": \"Netlibrary\",\n",
    "    \"Modifiers\": {\n",
    "        \"SortSchema\": None,\n",
    "        \"StartRecordPosition\": 1,\n",
    "        \"MaximumRecords\": 1\n",
    "    }\n",
    "}\n",
    "\n",
    "ebook_search_output = client.service.Search(**ebook_search)\n",
    "ebook_search_output"
   ]
  },
  {
   "cell_type": "code",
   "execution_count": null,
   "id": "ee5f1b9d-3b55-4370-9c39-e87d3de144ea",
   "metadata": {},
   "outputs": [],
   "source": []
  }
 ],
 "metadata": {
  "kernelspec": {
   "display_name": "Python 3 (ipykernel)",
   "language": "python",
   "name": "python3"
  },
  "language_info": {
   "codemirror_mode": {
    "name": "ipython",
    "version": 3
   },
   "file_extension": ".py",
   "mimetype": "text/x-python",
   "name": "python",
   "nbconvert_exporter": "python",
   "pygments_lexer": "ipython3",
   "version": "3.9.10"
  },
  "vscode": {
   "interpreter": {
    "hash": "c6961f2aaab52f3835621a89ad2d66a465332d8bacf74059e95f5b920bb61909"
   }
  }
 },
 "nbformat": 4,
 "nbformat_minor": 5
}
