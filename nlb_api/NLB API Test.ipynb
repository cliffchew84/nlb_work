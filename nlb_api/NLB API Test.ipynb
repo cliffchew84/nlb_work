{
 "cells": [
  {
   "cell_type": "code",
   "execution_count": 3,
   "id": "7df3f788-5df9-4f47-ad49-e4a5590e6216",
   "metadata": {},
   "outputs": [],
   "source": [
    "import requests\n",
    "import pandas as pd\n",
    "from datetime import datetime\n",
    "from zeep import Client, helpers\n",
    "\n",
    "# !pip3 install zeep"
   ]
  },
  {
   "cell_type": "code",
   "execution_count": 174,
   "id": "301f2604-062c-4f10-92ed-5a884bbc2e80",
   "metadata": {},
   "outputs": [],
   "source": [
    "API = pd.read_csv(\"api.csv\")['api'].values[0]\n",
    "PRODUCTION_URL = \"https://openweb.nlb.gov.sg/OWS/CatalogueService.svc?singleWsdl\"\n",
    "client = Client(wsdl=PRODUCTION_URL)"
   ]
  },
  {
   "cell_type": "markdown",
   "id": "ab0a61bb-b6d1-43f3-b933-400ea8d777bc",
   "metadata": {},
   "source": [
    "#### Search Feature "
   ]
  },
  {
   "cell_type": "code",
   "execution_count": 111,
   "id": "b971e015-6fb5-45d8-b51b-f6e13663e2a5",
   "metadata": {},
   "outputs": [],
   "source": [
    "search_input = {\n",
    "    \"APIKey\": API,\n",
    "    \"SearchItems\": {\n",
    "        \"SearchItem\": [\n",
    "            {\n",
    "                \"SearchField\": \"Title\", \n",
    "                \"SearchTerms\": \"The Emperor's Handbook\"\n",
    "            },\n",
    "        ]\n",
    "    },\n",
    "    \"Modifiers\": {\n",
    "        \"SortSchema\": None,\n",
    "        \"StartRecordPosition\": 1,\n",
    "        \"MaximumRecords\": 1,\n",
    "        \"SetId\": None\n",
    "    }\n",
    "}"
   ]
  },
  {
   "cell_type": "code",
   "execution_count": 113,
   "id": "5b2031b5-e03d-43ac-8e3d-a7cf6ccee38a",
   "metadata": {},
   "outputs": [],
   "source": [
    "# client.service.Search(**search_input)"
   ]
  },
  {
   "cell_type": "markdown",
   "id": "1774da73-0c93-4e89-be28-be3b2edf6a7a",
   "metadata": {},
   "source": [
    "#### Available Titles by Library "
   ]
  },
  {
   "cell_type": "code",
   "execution_count": 55,
   "id": "b0ff68a7-95fd-426f-87b2-5407c6adea4d",
   "metadata": {},
   "outputs": [],
   "source": [
    "get_avail = {\n",
    "    \"APIKey\": API,\n",
    "    \"BID\": 204485571,\n",
    "    \"Modifiers\" : {\n",
    "        \"SortSchema\": None,\n",
    "        \"StartRecordPosition\": 1,\n",
    "        \"MaximumRecords\": 100,\n",
    "        \"SetId\": None\n",
    "    },\n",
    "}"
   ]
  },
  {
   "cell_type": "code",
   "execution_count": 115,
   "id": "8333c2b3-ffc8-4a3e-9ae2-97e1b65c9737",
   "metadata": {},
   "outputs": [],
   "source": [
    "avail_info = client.service.GetAvailabilityInfo(**get_avail)"
   ]
  },
  {
   "cell_type": "code",
   "execution_count": 116,
   "id": "36e0beaa-caf3-4199-8831-3bda0208c461",
   "metadata": {},
   "outputs": [
    {
     "data": {
      "text/html": [
       "<div>\n",
       "<style scoped>\n",
       "    .dataframe tbody tr th:only-of-type {\n",
       "        vertical-align: middle;\n",
       "    }\n",
       "\n",
       "    .dataframe tbody tr th {\n",
       "        vertical-align: top;\n",
       "    }\n",
       "\n",
       "    .dataframe thead th {\n",
       "        text-align: right;\n",
       "    }\n",
       "</style>\n",
       "<table border=\"1\" class=\"dataframe\">\n",
       "  <thead>\n",
       "    <tr style=\"text-align: right;\">\n",
       "      <th></th>\n",
       "      <th>ItemNo</th>\n",
       "      <th>BranchID</th>\n",
       "      <th>BranchName</th>\n",
       "      <th>LocationCode</th>\n",
       "      <th>LocationDesc</th>\n",
       "      <th>CallNumber</th>\n",
       "      <th>StatusCode</th>\n",
       "      <th>StatusDesc</th>\n",
       "      <th>MediaCode</th>\n",
       "      <th>MediaDesc</th>\n",
       "      <th>StatusDate</th>\n",
       "      <th>DueDate</th>\n",
       "      <th>ClusterName</th>\n",
       "      <th>CategoryName</th>\n",
       "      <th>CollectionCode</th>\n",
       "      <th>CollectionMinAgeLimit</th>\n",
       "      <th>bid</th>\n",
       "    </tr>\n",
       "  </thead>\n",
       "  <tbody>\n",
       "    <tr>\n",
       "      <th>0</th>\n",
       "      <td>B35594962J</td>\n",
       "      <td>CCKPL</td>\n",
       "      <td>Choa Chu Kang Public Library</td>\n",
       "      <td>____</td>\n",
       "      <td>Adult Lending</td>\n",
       "      <td>English 005.133 AHM -[COM]</td>\n",
       "      <td>I</td>\n",
       "      <td>In-Transit</td>\n",
       "      <td>BOOK</td>\n",
       "      <td>Book</td>\n",
       "      <td>08/08/2022</td>\n",
       "      <td>None</td>\n",
       "      <td>None</td>\n",
       "      <td>None</td>\n",
       "      <td>GGEN</td>\n",
       "      <td>None</td>\n",
       "      <td>204485571</td>\n",
       "    </tr>\n",
       "    <tr>\n",
       "      <th>0</th>\n",
       "      <td>B35992914I</td>\n",
       "      <td>WRL</td>\n",
       "      <td>Woodlands Regional Library</td>\n",
       "      <td>____</td>\n",
       "      <td>Adult Lending</td>\n",
       "      <td>English 005.133 AHM -[COM]</td>\n",
       "      <td>C</td>\n",
       "      <td>On Loan</td>\n",
       "      <td>BOOK</td>\n",
       "      <td>Book</td>\n",
       "      <td>12/07/2022</td>\n",
       "      <td>22/08/2022</td>\n",
       "      <td>None</td>\n",
       "      <td>None</td>\n",
       "      <td>GGEN</td>\n",
       "      <td>None</td>\n",
       "      <td>204485571</td>\n",
       "    </tr>\n",
       "    <tr>\n",
       "      <th>0</th>\n",
       "      <td>B35992913H</td>\n",
       "      <td>YIPL</td>\n",
       "      <td>Yishun Public Library</td>\n",
       "      <td>____</td>\n",
       "      <td>Adult Lending</td>\n",
       "      <td>English 005.133 AHM -[COM]</td>\n",
       "      <td>C</td>\n",
       "      <td>On Loan</td>\n",
       "      <td>BOOK</td>\n",
       "      <td>Book</td>\n",
       "      <td>05/08/2022</td>\n",
       "      <td>16/09/2022</td>\n",
       "      <td>None</td>\n",
       "      <td>None</td>\n",
       "      <td>GGEN</td>\n",
       "      <td>None</td>\n",
       "      <td>204485571</td>\n",
       "    </tr>\n",
       "    <tr>\n",
       "      <th>0</th>\n",
       "      <td>B35992912G</td>\n",
       "      <td>TPPL</td>\n",
       "      <td>Toa Payoh Public Library</td>\n",
       "      <td>____</td>\n",
       "      <td>Adult Lending</td>\n",
       "      <td>English 005.133 AHM -[COM]</td>\n",
       "      <td>C</td>\n",
       "      <td>On Loan</td>\n",
       "      <td>BOOK</td>\n",
       "      <td>Book</td>\n",
       "      <td>22/07/2022</td>\n",
       "      <td>12/08/2022</td>\n",
       "      <td>None</td>\n",
       "      <td>None</td>\n",
       "      <td>GGEN</td>\n",
       "      <td>None</td>\n",
       "      <td>204485571</td>\n",
       "    </tr>\n",
       "    <tr>\n",
       "      <th>0</th>\n",
       "      <td>B35992911F</td>\n",
       "      <td>TRL</td>\n",
       "      <td>Tampines Regional Library</td>\n",
       "      <td>____</td>\n",
       "      <td>Adult Lending</td>\n",
       "      <td>English 005.133 AHM -[COM]</td>\n",
       "      <td>C</td>\n",
       "      <td>On Loan</td>\n",
       "      <td>BOOK</td>\n",
       "      <td>Book</td>\n",
       "      <td>03/08/2022</td>\n",
       "      <td>24/08/2022</td>\n",
       "      <td>None</td>\n",
       "      <td>None</td>\n",
       "      <td>GGEN</td>\n",
       "      <td>None</td>\n",
       "      <td>204485571</td>\n",
       "    </tr>\n",
       "  </tbody>\n",
       "</table>\n",
       "</div>"
      ],
      "text/plain": [
       "       ItemNo BranchID                    BranchName LocationCode  \\\n",
       "0  B35594962J    CCKPL  Choa Chu Kang Public Library         ____   \n",
       "0  B35992914I      WRL    Woodlands Regional Library         ____   \n",
       "0  B35992913H     YIPL         Yishun Public Library         ____   \n",
       "0  B35992912G     TPPL      Toa Payoh Public Library         ____   \n",
       "0  B35992911F      TRL     Tampines Regional Library         ____   \n",
       "\n",
       "    LocationDesc                  CallNumber StatusCode  StatusDesc MediaCode  \\\n",
       "0  Adult Lending  English 005.133 AHM -[COM]          I  In-Transit      BOOK   \n",
       "0  Adult Lending  English 005.133 AHM -[COM]          C     On Loan      BOOK   \n",
       "0  Adult Lending  English 005.133 AHM -[COM]          C     On Loan      BOOK   \n",
       "0  Adult Lending  English 005.133 AHM -[COM]          C     On Loan      BOOK   \n",
       "0  Adult Lending  English 005.133 AHM -[COM]          C     On Loan      BOOK   \n",
       "\n",
       "  MediaDesc  StatusDate     DueDate ClusterName CategoryName CollectionCode  \\\n",
       "0      Book  08/08/2022        None        None         None           GGEN   \n",
       "0      Book  12/07/2022  22/08/2022        None         None           GGEN   \n",
       "0      Book  05/08/2022  16/09/2022        None         None           GGEN   \n",
       "0      Book  22/07/2022  12/08/2022        None         None           GGEN   \n",
       "0      Book  03/08/2022  24/08/2022        None         None           GGEN   \n",
       "\n",
       "  CollectionMinAgeLimit        bid  \n",
       "0                  None  204485571  \n",
       "0                  None  204485571  \n",
       "0                  None  204485571  \n",
       "0                  None  204485571  \n",
       "0                  None  204485571  "
      ]
     },
     "execution_count": 116,
     "metadata": {},
     "output_type": "execute_result"
    }
   ],
   "source": [
    "df = pd.DataFrame()\n",
    "for i in pd.DataFrame(helpers.serialize_object(avail_info).get(\"Items\").values()).T[0]:\n",
    "    df = df.append(pd.DataFrame.from_dict(i, orient='index').T)\n",
    "df['bid'] = 204485571\n",
    "df.head()"
   ]
  },
  {
   "cell_type": "markdown",
   "id": "2ee069b0-6350-46b5-84f3-5ff967034457",
   "metadata": {},
   "source": [
    "#### Get Title Details "
   ]
  },
  {
   "cell_type": "code",
   "execution_count": 117,
   "id": "e8942b63-cf10-4bad-87c3-b17d1fcdd768",
   "metadata": {},
   "outputs": [],
   "source": [
    "title_inputs = {\n",
    "    \"APIKey\": API,\n",
    "    \"BID\": 204485571,\n",
    "}"
   ]
  },
  {
   "cell_type": "code",
   "execution_count": 118,
   "id": "9123afef-54eb-4ec1-8fd1-ecffda5987a1",
   "metadata": {},
   "outputs": [
    {
     "data": {
      "text/plain": [
       "{\n",
       "    'Status': 'OK',\n",
       "    'Message': 'Operation completed successfully',\n",
       "    'ErrorMessage': None,\n",
       "    'TitleDetail': {\n",
       "        'BID': '204485571',\n",
       "        'TitleName': '40 algorithms every programmer should know : hone your problem-solving skills by learning different algorithms and their implementation in Python / Imran Ahmad.',\n",
       "        'Author': 'Ahmad, Imran,',\n",
       "        'OtherAuthors': None,\n",
       "        'Publisher': None,\n",
       "        'PhysicalDesc': 'x, 365 pages :illustrations ;24 cm',\n",
       "        'Subjects': {\n",
       "            'Subject': [\n",
       "                'Computer programs',\n",
       "                'Python (Computer program language)'\n",
       "            ]\n",
       "        },\n",
       "        'Summary': None,\n",
       "        'Notes': '\\r\\nIncludes index.',\n",
       "        'ISBN': '1789801214 (paperback)|9781789801217 (paperback)',\n",
       "        'ISSN': None,\n",
       "        'NTitleName': None,\n",
       "        'NAuthor': None,\n",
       "        'NPublisher': None\n",
       "    }\n",
       "}"
      ]
     },
     "execution_count": 118,
     "metadata": {},
     "output_type": "execute_result"
    }
   ],
   "source": [
    "title_details = client.service.GetTitleDetails(**title_inputs)\n",
    "title_details"
   ]
  },
  {
   "cell_type": "markdown",
   "id": "c51cfe79-5294-448c-98aa-a652df1500fd",
   "metadata": {},
   "source": [
    "#### Read Recommendations - Doesn't seem to work"
   ]
  },
  {
   "cell_type": "code",
   "execution_count": 168,
   "id": "0e2f86fc-03ad-4773-b0a5-d64abe023d25",
   "metadata": {},
   "outputs": [],
   "source": [
    "# get_recom = {\n",
    "#     \"APIKey\": API,\n",
    "#     \"BID\": 204485571,\n",
    "#     \"Modifiers\" : {\n",
    "#         \"SortSchema\": None,\n",
    "#         \"StartRecordPosition\": 1,\n",
    "#         \"MaximumRecords\": 100,\n",
    "#         \"SetId\": None\n",
    "#     },\n",
    "# }\n",
    "\n",
    "# PRODUCTION_URL = \"http://openweb.nlb.gov.sg/ows/ReadAlikeService.svc\"\n",
    "# client = Client(wsdl=PRODUCTION_URL)\n",
    "# vars(client.wsdl)\n",
    "\n",
    "# get_recommendations = client.readalikeservice.GetRecommendationsForTitles(**get_recom)\n",
    "# get_recommendations"
   ]
  }
 ],
 "metadata": {
  "kernelspec": {
   "display_name": "Python 3 (ipykernel)",
   "language": "python",
   "name": "python3"
  },
  "language_info": {
   "codemirror_mode": {
    "name": "ipython",
    "version": 3
   },
   "file_extension": ".py",
   "mimetype": "text/x-python",
   "name": "python",
   "nbconvert_exporter": "python",
   "pygments_lexer": "ipython3",
   "version": "3.9.10"
  }
 },
 "nbformat": 4,
 "nbformat_minor": 5
}
