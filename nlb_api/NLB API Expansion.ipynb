{
 "cells": [
  {
   "cell_type": "code",
   "execution_count": 35,
   "id": "7df3f788-5df9-4f47-ad49-e4a5590e6216",
   "metadata": {},
   "outputs": [],
   "source": [
    "import requests\n",
    "import pandas as pd\n",
    "from datetime import datetime\n",
    "from zeep import Client, helpers"
   ]
  },
  {
   "cell_type": "markdown",
   "id": "099a9dcf-6775-478c-9eae-4a3f51472d42",
   "metadata": {},
   "source": [
    "### Loading in the parameters "
   ]
  },
  {
   "cell_type": "code",
   "execution_count": 36,
   "id": "301f2604-062c-4f10-92ed-5a884bbc2e80",
   "metadata": {},
   "outputs": [],
   "source": [
    "API = pd.read_csv(\"api.csv\")['api'].values[0]\n",
    "PRODUCTION_URL = \"https://openweb.nlb.gov.sg/OWS/CatalogueService.svc?singleWsdl\"\n",
    "client = Client(wsdl=PRODUCTION_URL)"
   ]
  },
  {
   "cell_type": "markdown",
   "id": "51619f67-6255-47a1-a3bc-b39b3a884231",
   "metadata": {},
   "source": [
    "### Functions "
   ]
  },
  {
   "cell_type": "code",
   "execution_count": 44,
   "id": "755304c1-046b-4a57-806e-3b80fefdacdd",
   "metadata": {},
   "outputs": [],
   "source": [
    "def search_parameters(search_dict: dict) -> list:\n",
    "    output_list = list()\n",
    "    for key, value in search_dict.items():\n",
    "        output_list.append(\n",
    "            { \"SearchField\": key, \"SearchTerms\": value }\n",
    "        )\n",
    "    return output_list"
   ]
  },
  {
   "cell_type": "code",
   "execution_count": 45,
   "id": "ffd975c0-1f9e-402a-8504-5b4d9c2ee9af",
   "metadata": {},
   "outputs": [
    {
     "data": {
      "text/plain": [
       "[{'SearchField': 'Title', 'SearchTerms': 'Robust Python'}]"
      ]
     },
     "execution_count": 45,
     "metadata": {},
     "output_type": "execute_result"
    }
   ],
   "source": [
    "search_parameters({'Title':'Robust Python'})"
   ]
  },
  {
   "cell_type": "markdown",
   "id": "ab0a61bb-b6d1-43f3-b933-400ea8d777bc",
   "metadata": {},
   "source": [
    "#### Search Feature "
   ]
  },
  {
   "cell_type": "code",
   "execution_count": 4,
   "id": "b971e015-6fb5-45d8-b51b-f6e13663e2a5",
   "metadata": {},
   "outputs": [],
   "source": [
    "search_input = {\n",
    "    \"APIKey\": API,\n",
    "    \"SearchItems\": {\n",
    "        \"SearchItem\": [\n",
    "            {\n",
    "                \"SearchField\": \"Title\", \n",
    "                \"SearchTerms\": \"Robust Python : write clean and maintainable code\"\n",
    "            },\n",
    "        ]\n",
    "    },\n",
    "    \"Modifiers\": {\n",
    "        \"SortSchema\": None,\n",
    "        \"StartRecordPosition\": 1,\n",
    "        \"MaximumRecords\": 1,\n",
    "        \"SetId\": None\n",
    "    }\n",
    "}"
   ]
  },
  {
   "cell_type": "code",
   "execution_count": 5,
   "id": "5b2031b5-e03d-43ac-8e3d-a7cf6ccee38a",
   "metadata": {},
   "outputs": [
    {
     "data": {
      "text/plain": [
       "{\n",
       "    'Status': 'OK',\n",
       "    'Message': 'Operation completed successfully',\n",
       "    'ErrorMessage': None,\n",
       "    'TotalRecords': 1,\n",
       "    'NextRecordPosition': 0,\n",
       "    'SetId': '364863875',\n",
       "    'Titles': {\n",
       "        'Title': [\n",
       "            {\n",
       "                'BID': '205499632',\n",
       "                'ISBN': '9781098100667 (paperback)|1098100662 (paperback)',\n",
       "                'TitleName': 'Robust Python : write clean and maintainable code / Patrick Viafore.',\n",
       "                'Author': 'Viafore, Patrick,',\n",
       "                'PublishYear': '2021',\n",
       "                'MediaCode': 'BK',\n",
       "                'MediaDesc': 'Books'\n",
       "            }\n",
       "        ]\n",
       "    }\n",
       "}"
      ]
     },
     "execution_count": 5,
     "metadata": {},
     "output_type": "execute_result"
    }
   ],
   "source": [
    "client.service.Search(**search_input)"
   ]
  },
  {
   "cell_type": "markdown",
   "id": "1774da73-0c93-4e89-be28-be3b2edf6a7a",
   "metadata": {},
   "source": [
    "#### Available Titles by Library "
   ]
  },
  {
   "cell_type": "code",
   "execution_count": 37,
   "id": "b0ff68a7-95fd-426f-87b2-5407c6adea4d",
   "metadata": {},
   "outputs": [],
   "source": [
    "# bid_no = 9781101595954\n",
    "isbn = 9781101595954\n",
    "get_avail = {\n",
    "    \"APIKey\": API,\n",
    "    \"ISBN\": isbn,\n",
    "    # \"BID\": bid_no,\n",
    "    \"Modifiers\" : {\n",
    "        \"SortSchema\": None,\n",
    "        \"StartRecordPosition\": 1,\n",
    "        \"MaximumRecords\": 100,\n",
    "        \"SetId\": None\n",
    "    },\n",
    "}"
   ]
  },
  {
   "cell_type": "code",
   "execution_count": 38,
   "id": "8333c2b3-ffc8-4a3e-9ae2-97e1b65c9737",
   "metadata": {},
   "outputs": [],
   "source": [
    "avail_info = client.service.GetAvailabilityInfo(**get_avail)"
   ]
  },
  {
   "cell_type": "code",
   "execution_count": 39,
   "id": "76d76b66-b29e-4cf0-8cc0-1e6bdda05a0f",
   "metadata": {},
   "outputs": [
    {
     "data": {
      "text/plain": [
       "{\n",
       "    'Status': 'OK',\n",
       "    'Message': 'Operation completed successfully',\n",
       "    'ErrorMessage': None,\n",
       "    'NextRecordPosition': 0,\n",
       "    'SetId': '365515007',\n",
       "    'Items': {\n",
       "        'Item': [\n",
       "            {\n",
       "                'ItemNo': None,\n",
       "                'BranchID': 'DIGITAL',\n",
       "                'BranchName': 'Digital Library',\n",
       "                'LocationCode': None,\n",
       "                'LocationDesc': None,\n",
       "                'CallNumber': None,\n",
       "                'StatusCode': 'S',\n",
       "                'StatusDesc': 'Not on Loan',\n",
       "                'MediaCode': None,\n",
       "                'MediaDesc': None,\n",
       "                'StatusDate': '22/05/2021',\n",
       "                'DueDate': None,\n",
       "                'ClusterName': None,\n",
       "                'CategoryName': None,\n",
       "                'CollectionCode': 'OVERDRIVE',\n",
       "                'CollectionMinAgeLimit': None\n",
       "            }\n",
       "        ]\n",
       "    }\n",
       "}"
      ]
     },
     "execution_count": 39,
     "metadata": {},
     "output_type": "execute_result"
    }
   ],
   "source": [
    "avail_info"
   ]
  },
  {
   "cell_type": "code",
   "execution_count": 40,
   "id": "36e0beaa-caf3-4199-8831-3bda0208c461",
   "metadata": {},
   "outputs": [
    {
     "data": {
      "text/html": [
       "<div>\n",
       "<style scoped>\n",
       "    .dataframe tbody tr th:only-of-type {\n",
       "        vertical-align: middle;\n",
       "    }\n",
       "\n",
       "    .dataframe tbody tr th {\n",
       "        vertical-align: top;\n",
       "    }\n",
       "\n",
       "    .dataframe thead th {\n",
       "        text-align: right;\n",
       "    }\n",
       "</style>\n",
       "<table border=\"1\" class=\"dataframe\">\n",
       "  <thead>\n",
       "    <tr style=\"text-align: right;\">\n",
       "      <th></th>\n",
       "      <th>ItemNo</th>\n",
       "      <th>BranchID</th>\n",
       "      <th>BranchName</th>\n",
       "      <th>LocationCode</th>\n",
       "      <th>LocationDesc</th>\n",
       "      <th>CallNumber</th>\n",
       "      <th>StatusCode</th>\n",
       "      <th>StatusDesc</th>\n",
       "      <th>MediaCode</th>\n",
       "      <th>MediaDesc</th>\n",
       "      <th>StatusDate</th>\n",
       "      <th>DueDate</th>\n",
       "      <th>ClusterName</th>\n",
       "      <th>CategoryName</th>\n",
       "      <th>CollectionCode</th>\n",
       "      <th>CollectionMinAgeLimit</th>\n",
       "      <th>bid</th>\n",
       "    </tr>\n",
       "  </thead>\n",
       "  <tbody>\n",
       "    <tr>\n",
       "      <th>0</th>\n",
       "      <td>None</td>\n",
       "      <td>DIGITAL</td>\n",
       "      <td>Digital Library</td>\n",
       "      <td>None</td>\n",
       "      <td>None</td>\n",
       "      <td>None</td>\n",
       "      <td>S</td>\n",
       "      <td>Not on Loan</td>\n",
       "      <td>None</td>\n",
       "      <td>None</td>\n",
       "      <td>22/05/2021</td>\n",
       "      <td>None</td>\n",
       "      <td>None</td>\n",
       "      <td>None</td>\n",
       "      <td>OVERDRIVE</td>\n",
       "      <td>None</td>\n",
       "      <td>9781101595954</td>\n",
       "    </tr>\n",
       "  </tbody>\n",
       "</table>\n",
       "</div>"
      ],
      "text/plain": [
       "  ItemNo BranchID       BranchName LocationCode LocationDesc CallNumber  \\\n",
       "0   None  DIGITAL  Digital Library         None         None       None   \n",
       "\n",
       "  StatusCode   StatusDesc MediaCode MediaDesc  StatusDate DueDate ClusterName  \\\n",
       "0          S  Not on Loan      None      None  22/05/2021    None        None   \n",
       "\n",
       "  CategoryName CollectionCode CollectionMinAgeLimit            bid  \n",
       "0         None      OVERDRIVE                  None  9781101595954  "
      ]
     },
     "execution_count": 40,
     "metadata": {},
     "output_type": "execute_result"
    }
   ],
   "source": [
    "df = pd.DataFrame()\n",
    "for i in pd.DataFrame(helpers.serialize_object(avail_info).get(\"Items\").values()).T[0]:\n",
    "    df = df.append(pd.DataFrame.from_dict(i, orient='index').T)\n",
    "df['bid'] = bid_no\n",
    "df.head()"
   ]
  },
  {
   "cell_type": "markdown",
   "id": "2ee069b0-6350-46b5-84f3-5ff967034457",
   "metadata": {},
   "source": [
    "#### Get Title Details "
   ]
  },
  {
   "cell_type": "code",
   "execution_count": 117,
   "id": "e8942b63-cf10-4bad-87c3-b17d1fcdd768",
   "metadata": {},
   "outputs": [],
   "source": [
    "title_inputs = {\n",
    "    \"APIKey\": API,\n",
    "    \"BID\": 204485571,\n",
    "}"
   ]
  },
  {
   "cell_type": "code",
   "execution_count": 118,
   "id": "9123afef-54eb-4ec1-8fd1-ecffda5987a1",
   "metadata": {},
   "outputs": [
    {
     "data": {
      "text/plain": [
       "{\n",
       "    'Status': 'OK',\n",
       "    'Message': 'Operation completed successfully',\n",
       "    'ErrorMessage': None,\n",
       "    'TitleDetail': {\n",
       "        'BID': '204485571',\n",
       "        'TitleName': '40 algorithms every programmer should know : hone your problem-solving skills by learning different algorithms and their implementation in Python / Imran Ahmad.',\n",
       "        'Author': 'Ahmad, Imran,',\n",
       "        'OtherAuthors': None,\n",
       "        'Publisher': None,\n",
       "        'PhysicalDesc': 'x, 365 pages :illustrations ;24 cm',\n",
       "        'Subjects': {\n",
       "            'Subject': [\n",
       "                'Computer programs',\n",
       "                'Python (Computer program language)'\n",
       "            ]\n",
       "        },\n",
       "        'Summary': None,\n",
       "        'Notes': '\\r\\nIncludes index.',\n",
       "        'ISBN': '1789801214 (paperback)|9781789801217 (paperback)',\n",
       "        'ISSN': None,\n",
       "        'NTitleName': None,\n",
       "        'NAuthor': None,\n",
       "        'NPublisher': None\n",
       "    }\n",
       "}"
      ]
     },
     "execution_count": 118,
     "metadata": {},
     "output_type": "execute_result"
    }
   ],
   "source": [
    "title_details = client.service.GetTitleDetails(**title_inputs)\n",
    "title_details"
   ]
  },
  {
   "cell_type": "markdown",
   "id": "c51cfe79-5294-448c-98aa-a652df1500fd",
   "metadata": {},
   "source": [
    "#### Read Recommendations - Doesn't seem to work"
   ]
  },
  {
   "cell_type": "code",
   "execution_count": 168,
   "id": "0e2f86fc-03ad-4773-b0a5-d64abe023d25",
   "metadata": {},
   "outputs": [],
   "source": [
    "# get_recom = {\n",
    "#     \"APIKey\": API,\n",
    "#     \"BID\": 204485571,\n",
    "#     \"Modifiers\" : {\n",
    "#         \"SortSchema\": None,\n",
    "#         \"StartRecordPosition\": 1,\n",
    "#         \"MaximumRecords\": 100,\n",
    "#         \"SetId\": None\n",
    "#     },\n",
    "# }\n",
    "\n",
    "# PRODUCTION_URL = \"http://openweb.nlb.gov.sg/ows/ReadAlikeService.svc\"\n",
    "# client = Client(wsdl=PRODUCTION_URL)\n",
    "# vars(client.wsdl)\n",
    "\n",
    "# get_recommendations = client.readalikeservice.GetRecommendationsForTitles(**get_recom)\n",
    "# get_recommendations"
   ]
  }
 ],
 "metadata": {
  "kernelspec": {
   "display_name": "Python 3 (ipykernel)",
   "language": "python",
   "name": "python3"
  },
  "language_info": {
   "codemirror_mode": {
    "name": "ipython",
    "version": 3
   },
   "file_extension": ".py",
   "mimetype": "text/x-python",
   "name": "python",
   "nbconvert_exporter": "python",
   "pygments_lexer": "ipython3",
   "version": "3.9.10"
  }
 },
 "nbformat": 4,
 "nbformat_minor": 5
}
